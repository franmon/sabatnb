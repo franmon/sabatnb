{
 "cells": [
  {
   "cell_type": "markdown",
   "metadata": {},
   "source": [
    "# PRL annotated reading"
   ]
  },
  {
   "cell_type": "code",
   "execution_count": 22,
   "metadata": {
    "slideshow": {
     "slide_type": "skip"
    }
   },
   "outputs": [],
   "source": [
    "%matplotlib inline\n",
    "from IPython.display import Image\n",
    "from IPython.display import Math\n",
    "from IPython.display import Latex"
   ]
  },
  {
   "cell_type": "code",
   "execution_count": 23,
   "metadata": {
    "slideshow": {
     "slide_type": "skip"
    }
   },
   "outputs": [
    {
     "name": "stdout",
     "output_type": "stream",
     "text": [
      "The autoreload extension is already loaded. To reload it, use:\n",
      "  %reload_ext autoreload\n",
      "Last updated on  Mon Mar 25 13:13:29 2019\n"
     ]
    }
   ],
   "source": [
    "%load_ext autoreload\n",
    "%autoreload 2\n",
    "import os\n",
    "import sys\n",
    "import time\n",
    "import warnings\n",
    "import datetime \n",
    "print(\"Last updated on \", time.asctime())"
   ]
  },
  {
   "cell_type": "code",
   "execution_count": 58,
   "metadata": {
    "slideshow": {
     "slide_type": "skip"
    }
   },
   "outputs": [],
   "source": [
    "import seaborn as sns\n",
    "import numpy as np\n",
    "import pandas as pd\n",
    "import matplotlib\n",
    "import tables            as tb\n",
    "import random\n",
    "import glob\n",
    "import warnings\n",
    "sns.set()\n",
    "import matplotlib.pyplot as plt"
   ]
  },
  {
   "cell_type": "code",
   "execution_count": 25,
   "metadata": {
    "slideshow": {
     "slide_type": "skip"
    }
   },
   "outputs": [],
   "source": [
    "from  invisible_cities.core.system_of_units import *"
   ]
  },
  {
   "cell_type": "code",
   "execution_count": 26,
   "metadata": {},
   "outputs": [],
   "source": [
    "from sabat.sbt_types import FoV, CircularFoV\n",
    "from sabat.sbt_types import Laser, PulsedLaser, GLaser\n",
    "from sabat.sbt_types import Molecule\n",
    "from sabat.sbt_types import Molecule2P\n",
    "from sabat.sbt_types import DyeSample\n",
    "from sabat.sbt_types import Microscope\n",
    "from sabat.sbt_types import CCD"
   ]
  },
  {
   "cell_type": "code",
   "execution_count": 27,
   "metadata": {},
   "outputs": [],
   "source": [
    "from sabat.sbt_core import  power_density\n",
    "from sabat.sbt_core import  photon_density\n",
    "from sabat.sbt_core import  fluorescence_per_molecule\n",
    "from sabat.sbt_core import  duration_of_fluorescence\n",
    "from sabat.sbt_core import  diffraction_limit\n",
    "from sabat.sbt_core import  photoelectrons_per_pixel"
   ]
  },
  {
   "cell_type": "markdown",
   "metadata": {},
   "source": [
    "# Annotated reading of \"Demonstration of Single Barium Ion Sensitivity for Neutrinoless Double Beta Decay using Single Molecule Fluorescence Imaging\"\n",
    "\n",
    "https://arxiv.org/abs/1711.04782\n",
    "\n",
    "## Author\n",
    "\n",
    "- J.J. Gomez-Cadenas [NEXT](https://next.ific.uv.es/next/) \n",
    "\n",
    "#### Contact\n",
    "\n",
    "\n",
    "\n",
    "- [Email](mailto:jjgomezcadenas@dipc.org)\n",
    "\n",
    "\n"
   ]
  },
  {
   "cell_type": "markdown",
   "metadata": {
    "slideshow": {
     "slide_type": "slide"
    }
   },
   "source": [
    "# Experiment\n",
    "\n",
    "1. To demonstrate single Ba++ sensitivity we have imaged individual near-surface Ba++ ions from dilute barium salt solutions. \n",
    "2. We use the technique of through-objective total internal reflection fluorescence (TIRF) microscopy. In through-objective TIRF, a high numerical aperture objective is used to convert a focused light beam on the back-focal plane (BFP) into parallel rays. By translating the focal point across the BFP, the emerging parallel rays are brought to a shallow angle, until eventually they totally internally reflect on the lower sample surface. The evanescent excitation wave, extending only about one wavelength into the sample, causes fluorescence of the near-surface molecules while minimizing deeper fluorescence and scattering from within the sample. \n",
    "3. By focusing the objective on the same scanning surface and imaging the fluorescence light, individual fluorescent molecules can be spatially resolved above a dimmer, diffuse background."
   ]
  },
  {
   "cell_type": "markdown",
   "metadata": {
    "slideshow": {
     "slide_type": "slide"
    }
   },
   "source": [
    "## Setup\n",
    "\n",
    "\n",
    "<img align=\"center\" src=\"img/smfi_uta_setup.png\" width=\"500\" height=\"500\"></img>\n",
    "\n"
   ]
  },
  {
   "cell_type": "markdown",
   "metadata": {},
   "source": [
    "- The first setup used to measure the response in disolution (no cover slip) was similar (simpler)\n",
    "\n",
    "<img align=\"center\" src=\"img/AustinFirstSetup.png\" width=\"500\" height=\"500\"></img>\n"
   ]
  },
  {
   "cell_type": "markdown",
   "metadata": {
    "slideshow": {
     "slide_type": "slide"
    }
   },
   "source": [
    "## Microscope\n",
    "\n",
    "- The apparatus is an [Olympus IX-70 inverted fluorescence microscope frame](https://www.olympus-lifescience.com/en/microscope-resource/primer/techniques/fluorescence/ix70fluorescence/)\n",
    "- The objective is an Olympus 100x 1.4 NA, and was used with Olympus immersion oil (n = 1.518). \n",
    "- Low-fluorescence coverslips of thickness 0.13 mm serve the combined role of sample substrates and imaging plane. \n",
    "- A Hamamatsu ImagEM X2 EM-CCD camera, was used to record the fluorescence emission. \n",
    "- The excitation source is an NKT Photonics SuperK EXTREME laser, which emits in a wide spectral range of 350-2350 nm. The laser light is filtered to a tunable band of width ± 1 nm in the visible range via an acousto-optical tunable filter (AOTF). The beam is then expanded, cleaned, and steered via an array of adjustable mirrors through a lens that focuses it onto the objective BFP. \n",
    "- Emission and excitation light are separated by a filter cube containing the dichroic mirror and emission and excitation filters. \n",
    "- Micrometer stages in the external optical system allow for focusing on the BFP and adjustment of the TIRF ray angle, and the image is brought into focus using sample stage adjustment on the microscope frame."
   ]
  },
  {
   "cell_type": "markdown",
   "metadata": {},
   "source": [
    "## TIRF\n",
    "\n",
    "<img align=\"center\" src=\"img/TIRF2.png\" width=\"500\" height=\"500\"></img>\n"
   ]
  },
  {
   "cell_type": "markdown",
   "metadata": {},
   "source": [
    "## CCD spectral response\n",
    "\n",
    "- Hamamatsu C9100: https://www.hamamatsu.com/eu/en/product/type/C9100-23B/index.html\n",
    "<img align=\"center\" src=\"img/C9100.png\" width=\"500\" height=\"500\"></img>\n"
   ]
  },
  {
   "cell_type": "markdown",
   "metadata": {
    "slideshow": {
     "slide_type": "slide"
    }
   },
   "source": [
    "## SAMPLE PREPARATION \n",
    "\n",
    "- The studies use fluorophores that are immobilized at the sensor surface. This emulates the conditions in a HPGXe TPC detector, where the ions will drift to the sensor plate and adhere to fluorophores immobilized there. \n",
    "- The chosen method was to use a matrix of polyvinyl alcohol (PVA) trapping the fluors but allowing permeability of ions through-out the sample.\n",
    "- Coverslips were inspected for defects and cleaned by ultrasonic bath in acetone for 30 minutes and then ethanol for 30 minutes. Once clean, they were placed in a vacuum oven at 340 K to bake overnight. A buffer solution (pH 7.2) was established using ACS Ultra Trace water with imidazole and hydrochloric acid. PVA was added (5% by weight) to form the working buffer and placed in a hot water bath. Once the PVA is fully dissolved it is removed from the bath and set on a stir plate, with water added to reach the target volume. After 30 minutes the solution reaches room temperature and <span style=\"color:red\"> BAPTA is added to a concentration of 250 μM to suppress residual calcium.</span> "
   ]
  },
  {
   "cell_type": "markdown",
   "metadata": {},
   "source": [
    "- The SMFI fluor Fluo-3 is then added, to a concentration of 1 nM (<span style=\"color:blue\"> Probably the concentration was close 10 nM </span>) . \n",
    "- Three background samples were made by placing 50 μL of solution onto a coverslip then spin coating it at 1800 rpm for 10 seconds. These will be referred to as the “barium-free” samples. \n",
    "- Ba++ was then added in the form of barium perchlorate salt solution to a target concentration of 500 μM, to make three “barium-spiked” samples (<span style=\"color:blue\"> The concentration is much larger than the concentration of the dye, so that most dye molecules in the spiked samples will be chelated</span>). \n",
    "- All samples were placed in an oven at 340 K for 4 hours, and then left to cure overnight at room temperature, in order to harden the PVA matrix.\n"
   ]
  },
  {
   "cell_type": "markdown",
   "metadata": {},
   "source": [
    "## Fluo-3 and BAPTA\n",
    "\n",
    "- Fluo-3. the molecule used in NPRL is fluorescin bonded to BAPTA. BAPTA is a dication chelator it is generally used reduces the amount of free dications (positive ions) in solution. \n",
    "- BAPTA is also used to reduce the amount of free ions in the disolution, as illustrated in Figure. \n",
    "\n",
    "<img align=\"center\" src=\"img/BAPTA.png\" width=\"400\" height=\"400\"></img>\n"
   ]
  },
  {
   "cell_type": "markdown",
   "metadata": {},
   "source": [
    "<img align=\"center\" src=\"img/efffectBATA.png\" width=\"400\" height=\"400\"></img>\n",
    "\n"
   ]
  },
  {
   "cell_type": "markdown",
   "metadata": {},
   "source": [
    "## Ba++ salt\n",
    "\n",
    "$$ Ba(ClO_4)_2 \\rightarrow Ba^{++} + 2 (CLO_4)^-$$"
   ]
  },
  {
   "cell_type": "markdown",
   "metadata": {},
   "source": [
    "## Imaging \n",
    "\n",
    "- Prior to scanning the samples, the AOTF was set to 488 nm, which is the peak excitation wavelength for Fluo-3.\n",
    "- The measured power entering the objective was 1 μW. \n",
    "- The external optics were adjusted to place the system into total internal reflection mode using prismatic alignment.\n",
    "- Surface sensitivity was checked with fluorescent micro-spheres. \n",
    "- Each sample was then placed onto the microscope stage and scanned.\n",
    "- The imaging protocol was to find a 35x 35 μm2 Field of View (FOV) where at least one fluorescent spot was present, and focus the microscope on that spot by minimizing its point spread.\n",
    "- Once focus was achieved, images were taken every 500 ms for 375 s. \n",
    "- Then, a new FOV was found by randomly translating the sample stage and refocusing. "
   ]
  },
  {
   "cell_type": "markdown",
   "metadata": {
    "slideshow": {
     "slide_type": "skip"
    }
   },
   "source": [
    "<img align=\"center\" src=\"img/prlFOV.png\" width=\"400\" height=\"400\"></img> "
   ]
  },
  {
   "cell_type": "code",
   "execution_count": 29,
   "metadata": {},
   "outputs": [],
   "source": [
    "photon = 1\n",
    "us = photon/second\n",
    "ucm2 = photon/cm2\n",
    "wcm2 = W/cm2"
   ]
  },
  {
   "cell_type": "code",
   "execution_count": 30,
   "metadata": {},
   "outputs": [
    {
     "data": {
      "text/plain": [
       "\n",
       "        Laser:\n",
       "        wavelength                =4.9e+02 nm\n",
       "        photon energy             =2.5e+00 eV\n",
       "        power                     =1.0e-03 mW\n",
       "        energy per second         =1.0e-03 mJ\n",
       "        photons per second        =2.5e+12 ph/second\n",
       "        "
      ]
     },
     "execution_count": 30,
     "metadata": {},
     "output_type": "execute_result"
    }
   ],
   "source": [
    "lb = Laser(lamda=488*nm, power=1.0*muW)  \n",
    "lb"
   ]
  },
  {
   "cell_type": "code",
   "execution_count": 32,
   "metadata": {},
   "outputs": [
    {
     "data": {
      "text/plain": [
       "\n",
       "        FOV; x = 3.5e-02 mm; y = 3.5e-02 mm; z = 4.9e-04 mm; area = 1.2e-03 mm2 volume = 6.0e-07 mm3\n",
       "        "
      ]
     },
     "execution_count": 32,
     "metadata": {},
     "output_type": "execute_result"
    }
   ],
   "source": [
    "fov= FoV(x = 35*mum, y = 35*mum, z= lb.lamda)\n",
    "fov"
   ]
  },
  {
   "cell_type": "code",
   "execution_count": 35,
   "metadata": {},
   "outputs": [
    {
     "name": "stdout",
     "output_type": "stream",
     "text": [
      "photon density = 2.0e+17 photons/(second cm2)\n"
     ]
    }
   ],
   "source": [
    "I = photon_density(lb, fov)\n",
    "print(f'photon density = {I/(us*ucm2):5.1e} photons/(second cm2)')"
   ]
  },
  {
   "cell_type": "code",
   "execution_count": 36,
   "metadata": {},
   "outputs": [
    {
     "data": {
      "text/plain": [
       "\n",
       "        Dye name =fov;\n",
       "        concentration = 1.0e-08 mole/l (6.0e+06 molecules/cm3);\n",
       "        V = 6.0e-13 l,\n",
       "        nof molecules = 3.6e+03\n",
       "        "
      ]
     },
     "execution_count": 36,
     "metadata": {},
     "output_type": "execute_result"
    }
   ],
   "source": [
    "ds = DyeSample(name='fov',concentration = 10 * nanomole/l, volume= fov.volume())\n",
    "ds"
   ]
  },
  {
   "cell_type": "code",
   "execution_count": 37,
   "metadata": {},
   "outputs": [
    {
     "name": "stdout",
     "output_type": "stream",
     "text": [
      "\n",
      "        name                 = Olympus\n",
      "        NA                   =   1.4\n",
      "        M                    = 100.0\n",
      "        eff dichroic         =  0.85\n",
      "        eff filter           =  0.80\n",
      "        Optical transmission =  0.30\n",
      "        Filter  transmission =  0.68\n",
      "        Total transmission   =  0.20\n",
      "        \n"
     ]
    }
   ],
   "source": [
    "mc = Microscope(name='Olympus', numerical_aperture=1.4, magnification=100)\n",
    "print(mc)"
   ]
  },
  {
   "cell_type": "code",
   "execution_count": 60,
   "metadata": {},
   "outputs": [
    {
     "name": "stdout",
     "output_type": "stream",
     "text": [
      "CCD(name='C9100-23B', n_pixels=(512, 512), size_pixels=(0.016, 0.016), effective_area=(8.19, 8.19), linear_full_well=(370000.0, 150000.0), pixel_clock_rate=(0.022, 0.011, 0.0006875), dark_current=0.005, readout_noise=8, readout_speed=72)\n"
     ]
    },
    {
     "data": {
      "text/plain": [
       "[<matplotlib.lines.Line2D at 0x1a1a6d6a58>]"
      ]
     },
     "execution_count": 60,
     "metadata": {},
     "output_type": "execute_result"
    },
    {
     "data": {
      "image/png": "[encoded data removed]",
      "text/plain": [
       "<Figure size 432x288 with 1 Axes>"
      ]
     },
     "metadata": {},
     "output_type": "display_data"
    }
   ],
   "source": [
    "x = np.arange(0., 1100., 1.) * nm\n",
    "ccd = CCD()\n",
    "print(ccd)\n",
    "y = ccd.efficiency(x)\n",
    "plt.plot(x/nm, y)"
   ]
  },
  {
   "cell_type": "code",
   "execution_count": null,
   "metadata": {},
   "outputs": [],
   "source": []
  },
  {
   "cell_type": "code",
   "execution_count": 38,
   "metadata": {},
   "outputs": [
    {
     "data": {
      "text/plain": [
       "\n",
       "        Molecule name =Fluorescein; cross section = 3.0e-16 cm2; Q =   0.9\n",
       "        "
      ]
     },
     "execution_count": 38,
     "metadata": {},
     "output_type": "execute_result"
    }
   ],
   "source": [
    "ml = Molecule(name = 'Fluorescein', sigma=3E-16 * cm2, Q=0.9)\n",
    "ml"
   ]
  },
  {
   "cell_type": "code",
   "execution_count": 40,
   "metadata": {},
   "outputs": [
    {
     "name": "stdout",
     "output_type": "stream",
     "text": [
      "Fluorescence per molecule per second = 5.4e+01  photons/(m second)\n"
     ]
    }
   ],
   "source": [
    "F = fluorescence_per_molecule(ml, I)\n",
    "print(f'Fluorescence per molecule per second = {F/us:5.1e}  photons/(m second)')"
   ]
  },
  {
   "cell_type": "code",
   "execution_count": 41,
   "metadata": {},
   "outputs": [
    {
     "name": "stdout",
     "output_type": "stream",
     "text": [
      "Fluorescence emission rate (all molecules excited) =1.9e+05) ph/second\n"
     ]
    }
   ],
   "source": [
    "print(f'Fluorescence emission rate (all molecules excited) ={F * ds.n_molecules()/us:5.1e}) ph/second')"
   ]
  },
  {
   "cell_type": "markdown",
   "metadata": {},
   "source": [
    "### Focusing on a single molecule"
   ]
  },
  {
   "cell_type": "code",
   "execution_count": 42,
   "metadata": {},
   "outputs": [
    {
     "name": "stdout",
     "output_type": "stream",
     "text": [
      "diffraction limit = 212.62857142857143  nm\n"
     ]
    }
   ],
   "source": [
    "dl = diffraction_limit(lb, mc)\n",
    "print(f'diffraction limit = {dl/nm}  nm')"
   ]
  },
  {
   "cell_type": "code",
   "execution_count": 43,
   "metadata": {},
   "outputs": [
    {
     "data": {
      "text/plain": [
       "\n",
       "        FOV; d = 2.1e-04 mm; r = 1.1e-04 mm; z = 4.9e-04 mm;\n",
       "        area = 3.6e-08 mm2 volume = 1.7e-11 mm3\n",
       "        "
      ]
     },
     "execution_count": 43,
     "metadata": {},
     "output_type": "execute_result"
    }
   ],
   "source": [
    "fovsm= CircularFoV(d = dl, z= lb.lamda)\n",
    "fovsm"
   ]
  },
  {
   "cell_type": "code",
   "execution_count": 44,
   "metadata": {},
   "outputs": [
    {
     "name": "stdout",
     "output_type": "stream",
     "text": [
      "photon density = 6.9e+21 photons/(second cm2)\n"
     ]
    }
   ],
   "source": [
    "Ism = photon_density(lb, fovsm)\n",
    "print(f'photon density = {Ism/(us*ucm2):5.1e} photons/(second cm2)')"
   ]
  },
  {
   "cell_type": "code",
   "execution_count": 45,
   "metadata": {},
   "outputs": [
    {
     "name": "stdout",
     "output_type": "stream",
     "text": [
      "Fluorescence single molecule = 1.9e+06  photons/(m second)\n"
     ]
    }
   ],
   "source": [
    "Fsm = fluorescence_per_molecule(ml, Ism)\n",
    "print(f'Fluorescence single molecule = {Fsm/us:5.1e}  photons/(m second)')"
   ]
  },
  {
   "cell_type": "markdown",
   "metadata": {},
   "source": [
    "## SFMI focusing\n",
    "\n",
    "- Once a molecule is identified in the FOV, the laser is focused on it: the difraction limit is around 200 nm"
   ]
  },
  {
   "cell_type": "markdown",
   "metadata": {},
   "source": [
    "- A single Ba++ candidate. A fixed region of the CCD camera is shown with 0.5 s exposure before (top) and after (bottom) photo-bleaching transition.\n",
    "\n",
    "<img align=\"center\" src=\"img/smfiCandidate.png\" width=\"300\" height=\"300\"></img> \n"
   ]
  },
  {
   "cell_type": "markdown",
   "metadata": {},
   "source": [
    "- For analysis, the image is projected into a region of 1400 x 1400 nm"
   ]
  },
  {
   "cell_type": "code",
   "execution_count": 49,
   "metadata": {},
   "outputs": [
    {
     "data": {
      "text/plain": [
       "\n",
       "        FOV; x = 1.4e-03 mm; y = 1.4e-03 mm; z = 4.9e-04 mm; area = 2.0e-06 mm2 volume = 9.6e-10 mm3\n",
       "        "
      ]
     },
     "execution_count": 49,
     "metadata": {},
     "output_type": "execute_result"
    }
   ],
   "source": [
    "fova= FoV(x = 1400 * nm, y = 1400 * nm, z= lb.lamda)\n",
    "fova"
   ]
  },
  {
   "cell_type": "code",
   "execution_count": 50,
   "metadata": {},
   "outputs": [
    {
     "name": "stdout",
     "output_type": "stream",
     "text": [
      "photon density = 1.3e+20 photons/(second cm2)\n"
     ]
    }
   ],
   "source": [
    "Ia = photon_density(lb, fova)\n",
    "print(f'photon density = {Ia/(us*ucm2):5.1e} photons/(second cm2)')"
   ]
  },
  {
   "cell_type": "code",
   "execution_count": 51,
   "metadata": {},
   "outputs": [
    {
     "name": "stdout",
     "output_type": "stream",
     "text": [
      "Fluorescence single molecule = 3.4e+04  photons/(m second)\n"
     ]
    }
   ],
   "source": [
    "Fa = fluorescence_per_molecule(ml, Ia)\n",
    "print(f'Fluorescence single molecule = {Fa/us:5.1e}  photons/(m second)')"
   ]
  },
  {
   "cell_type": "code",
   "execution_count": 61,
   "metadata": {},
   "outputs": [],
   "source": [
    "nph = Fa * mc.transmission() * ccd.efficiency(550 * nm)"
   ]
  },
  {
   "cell_type": "code",
   "execution_count": 62,
   "metadata": {},
   "outputs": [
    {
     "name": "stdout",
     "output_type": "stream",
     "text": [
      "number of photons detected per second = 6.8e+03\n"
     ]
    }
   ],
   "source": [
    "print(f'number of photons detected per second = {nph/us:5.1e}')"
   ]
  },
  {
   "cell_type": "code",
   "execution_count": 63,
   "metadata": {},
   "outputs": [
    {
     "name": "stdout",
     "output_type": "stream",
     "text": [
      "number of photons detected in 1/2 second = 3.4e+03\n",
      "number of photons detected per pixel = 3.4e+01\n"
     ]
    }
   ],
   "source": [
    "nph_05s = 0.5 * nph/us\n",
    "print(f'number of photons detected in 1/2 second = {nph_05s:5.1e}')\n",
    "print(f'number of photons detected per pixel = {nph_05s/100:5.1e}')"
   ]
  },
  {
   "cell_type": "code",
   "execution_count": 219,
   "metadata": {
    "slideshow": {
     "slide_type": "slide"
    }
   },
   "outputs": [
    {
     "data": {
      "image/png": "[encoded data removed]",
      "text/plain": [
       "<IPython.core.display.Image object>"
      ]
     },
     "execution_count": 219,
     "metadata": {},
     "output_type": "execute_result"
    }
   ],
   "source": [
    "Image(\"img/prlPhotobleaching.png\")"
   ]
  },
  {
   "cell_type": "code",
   "execution_count": 215,
   "metadata": {
    "slideshow": {
     "slide_type": "subslide"
    }
   },
   "outputs": [
    {
     "name": "stdout",
     "output_type": "stream",
     "text": [
      "duration of fluorescence in oxygenated environment =   0.1 secon\n",
      "duration of fluorescence in deoxygenated environment =   0.6 second\n"
     ]
    }
   ],
   "source": [
    "print('duration of fluorescence in oxygenated environment = {0:5.1f} second'.format(\n",
    "duration_of_fluorescence(sigma_fl, Q, I, beam_pulse, case='o') / second))\n",
    "print('duration of fluorescence in deoxygenated environment = {0:5.1f} second'.format(\n",
    "duration_of_fluorescence(sigma_fl, Q, I, beam_pulse, case='d') / second))\n",
    "\n"
   ]
  },
  {
   "cell_type": "markdown",
   "metadata": {
    "slideshow": {
     "slide_type": "subslide"
    }
   },
   "source": [
    "- The time until photobleach depends on the conditions.\n",
    "- The time until photobleach found in paper is much longer than predicted by tutorial. It may mean that the environment contains very little oxygen. "
   ]
  }
 ],
 "metadata": {
  "celltoolbar": "Slideshow",
  "kernelspec": {
   "display_name": "Python 3",
   "language": "python",
   "name": "python3"
  },
  "language_info": {
   "codemirror_mode": {
    "name": "ipython",
    "version": 3
   },
   "file_extension": ".py",
   "mimetype": "text/x-python",
   "name": "python",
   "nbconvert_exporter": "python",
   "pygments_lexer": "ipython3",
   "version": "3.7.1"
  },
  "widgets": {
   "state": {},
   "version": "1.0.0"
  }
 },
 "nbformat": 4,
 "nbformat_minor": 2
}
