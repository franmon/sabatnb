{
 "cells": [
  {
   "cell_type": "markdown",
   "metadata": {},
   "source": [
    "# SMFI with two photon absorption"
   ]
  },
  {
   "cell_type": "code",
   "execution_count": 1,
   "metadata": {
    "slideshow": {
     "slide_type": "skip"
    }
   },
   "outputs": [],
   "source": [
    "%matplotlib inline\n",
    "%load_ext autoreload\n",
    "%autoreload 2\n",
    "import matplotlib.pyplot as plt\n",
    "plt.rcParams[\"figure.figsize\"] = 10, 8\n",
    "plt.rcParams[\"font.size\"     ] = 14"
   ]
  },
  {
   "cell_type": "code",
   "execution_count": 2,
   "metadata": {},
   "outputs": [],
   "source": [
    "from IPython.display import Image\n",
    "from IPython.display import Math\n",
    "from IPython.display import Latex"
   ]
  },
  {
   "cell_type": "code",
   "execution_count": 3,
   "metadata": {
    "slideshow": {
     "slide_type": "skip"
    }
   },
   "outputs": [
    {
     "name": "stdout",
     "output_type": "stream",
     "text": [
      "Last updated on  Fri Apr 19 09:18:39 2019\n"
     ]
    }
   ],
   "source": [
    "import os\n",
    "import sys\n",
    "import time\n",
    "import warnings\n",
    "import datetime \n",
    "print(\"Last updated on \", time.asctime())"
   ]
  },
  {
   "cell_type": "code",
   "execution_count": 4,
   "metadata": {
    "slideshow": {
     "slide_type": "skip"
    }
   },
   "outputs": [],
   "source": [
    "import seaborn as sns\n",
    "import numpy as np\n",
    "import pandas as pd\n",
    "import matplotlib\n",
    "import matplotlib.pyplot as plt\n",
    "import tables            as tb\n",
    "import random\n",
    "import glob\n",
    "import warnings\n",
    "sns.set()"
   ]
  },
  {
   "cell_type": "code",
   "execution_count": 5,
   "metadata": {
    "slideshow": {
     "slide_type": "skip"
    }
   },
   "outputs": [],
   "source": [
    "from  invisible_cities.core.system_of_units import *"
   ]
  },
  {
   "cell_type": "code",
   "execution_count": 6,
   "metadata": {},
   "outputs": [],
   "source": [
    "from sabat.sbt_types import FoV, CircularFoV, Monolayer\n",
    "from sabat.sbt_types import Laser, PulsedLaser, GLaser, GaussianBeam\n",
    "from sabat.sbt_types import Molecule\n",
    "from sabat.sbt_types import Molecule2P\n",
    "from sabat.sbt_types import DyeSample\n",
    "from sabat.sbt_types import Microscope\n",
    "from sabat.sbt_types import CCD"
   ]
  },
  {
   "cell_type": "code",
   "execution_count": 10,
   "metadata": {},
   "outputs": [],
   "source": [
    "from sabat.sbt_core import  power_density\n",
    "from sabat.sbt_core import  photon_density\n",
    "from sabat.sbt_core import  fluorescence_per_molecule\n",
    "from sabat.sbt_core import  duration_of_fluorescence\n",
    "from sabat.sbt_core import  diffraction_limit\n",
    "from sabat.sbt_core import  photoelectrons_per_pixel\n",
    "from sabat.sbt_core import  fluorescence_2p\n",
    "from sabat.sbt_core import  absorbed_photons_per_fluorophore_per_pulse_2p"
   ]
  },
  {
   "cell_type": "code",
   "execution_count": 11,
   "metadata": {},
   "outputs": [],
   "source": [
    "from sabat.sbt_types import  photon, molecule, GM, us, ucm2, ucm3, gp "
   ]
  },
  {
   "cell_type": "markdown",
   "metadata": {},
   "source": [
    "# TWO PHOTON EXPERIMENT"
   ]
  },
  {
   "cell_type": "markdown",
   "metadata": {},
   "source": [
    "# Relevant papers\n",
    "\n",
    "https://www.osapublishing.org/DirectPDFAccess/6D7E7982-90AC-2FC4-1BC45ECB85CF58B0_33721/josab-13-3-481.pdf?da=1&id=33721&seq=0&mobile=no\n",
    "\n",
    "http://www.aomf.ca/pdfs/Denk1990.pdf\n",
    "\n",
    "See also:\n",
    "\n",
    "http://micro.magnet.fsu.edu/primer/techniques/fluorescence/multiphoton/multiphotonintro.html\n",
    "\n",
    "http://xrm.phys.northwestern.edu/research/pdf_papers/chapters/wilson_sheppard_chaps1-5.pdf\n",
    "\n",
    "https://www.photonics.ethz.ch/fileadmin/user_upload/Courses/NanoOptics/\n",
    "\n",
    "https://www.newport.com/n/gaussian-beam-optics\n",
    "\n",
    "## Author\n",
    "\n",
    "- J.J. Gomez-Cadenas [NEXT](https://next.ific.uv.es/next/) \n",
    "\n",
    "#### Contact\n",
    "\n",
    "\n",
    "- [Email](mailto:jjgomezcadenas@dipc.org)\n",
    "\n",
    "\n"
   ]
  },
  {
   "cell_type": "markdown",
   "metadata": {},
   "source": [
    "## Two Photon Absorption\n",
    "\n",
    "Two-photon absorption (TPA) is the physical process by which  two photons of identical or different frequencies are absorbed by a molecule. The energy difference between the involved lower and upper states of the molecule equals  the sum of the energies of the two photons absorbed. TPA is a second-order process, typically several orders of magnitude weaker than linear absorption at low light intensities. In TPA the transition rate depends on the square of the light intensity. The non-linear nature of the process can make TPA dominate over linear absorption at high intensities.\n",
    "\n",
    "Two-photon absorption can lead to two-photon-excited fluorescence (TPEF) where the excited state produced by TPA decays by spontaneous emission to a lower energy state \n",
    "\n",
    "<img align=\"center\" src=\"img/TPEM.png\" width=\"500\" height=\"500\"></img>\n",
    "\n",
    "\n",
    "\n",
    "In two-photon excitation microscopy (TPEM) a pulsed laser beam (often infrared, since many common dyes absorb in the blue) is focused through an objective lens. The  laser pulse width is in the range of 100 femtoseconds and the repetition rate in the range of 100 MHz, allowing the high photon density and flux required for two photons absorption\n"
   ]
  },
  {
   "cell_type": "markdown",
   "metadata": {},
   "source": [
    "## Mathematical formulation\n",
    "\n",
    "Because TPA is a second-order process, the number of photons absorbed per molecule per unit time is proportional to the two-photon absorption cross section $\\delta$ and to the square of the incident intensity $I$. In a particular experiment, the total number of photons absorbed per unit time \n",
    "$N_{abs}$~ is also a function of dye concentration $C$~ (assumed to be constant in the absence of saturation and photobleaching) and the illuminated sample volume $V$. Thus:\n",
    "\n",
    "\\begin{equation}\n",
    "N_{abs}(t) = C \\delta \\int_V I^2({\\bf r}, t) dV.\n",
    "\\end{equation}\n",
    "\n",
    "For the lasers used for TPEM, it is possible to separate the time and space dependent of the excitation intensity, $I({\\bf r}, t) = I_0(t) S({\\bf r})$. Then:\n",
    "\n",
    "\\begin{equation}\n",
    "N_{abs}(t) = C \\delta I_0^2(t) \\int_V S^2({\\bf r}) dV.\n",
    "\\end{equation}\n",
    "\n",
    "Assuming no stimulated emission and self-quenching, the number of fluorescence photons collected per unit time ($F$) is given by:\n",
    "\n",
    "\\begin{equation}\n",
    "F(t) = \\frac{1}{2}\\epsilon Q N_{abs}(t).\n",
    "\\end{equation}\n",
    "\n",
    "Where $\\epsilon$~ is the microscope detection efficiency and $Q$~is the quantum efficiency of the dye. The factor 1/2 reflects the fact that two photons are needed for each excitation event.\n",
    "\n",
    "In practice one measures the time-averaged flux, $<F(t)>$:\n",
    "\\begin{equation}\n",
    "<F(t)> = \\frac{1}{2}\\epsilon Q C \\delta <I_0^2(t)> \\int_V S^2({\\bf r}) dV.\n",
    "\\end{equation}\n",
    "\n",
    "Notice that $<F(t)>$ is proportional to $<I_0^2(t)>$, but the microscope measures a signal proportional to $<I_0(t)>$. Defining:\n",
    "\n",
    "\\begin{equation}\n",
    "g = \\frac{<I_0^2(t)>}{<I_0(t)>^2},\n",
    "\\end{equation}\n",
    "\n",
    "we can write: \n",
    "\\begin{equation}\n",
    "<F(t)> = \\frac{1}{2}\\epsilon Q C \\delta g <I_0^2(t)>^2 \\int_V S^2({\\bf r}) dV (1).\n",
    "\\label{eq.F}\n",
    "\\end{equation}\n",
    "\n",
    "### Gaussian laser beam\n",
    "To compute the integral $\\int_V S^2({\\bf r})$~it is useful to approximate the laser as a gaussian laser beam, defined as:\n",
    "\n",
    "\\begin{equation}\n",
    "S({\\bf r}) = S(r, z) = \\left[ \\frac{w_0}{w(z)}\\right]^2 e^{\\frac{-2 r^2}{w(z)^2}}.\n",
    "\\end{equation}\n",
    "\n",
    "\n",
    "The parameter $w_0$, usually called the Gaussian beam radius (or beam waist), is the radius at which the intensity has decreased to $1/e^2$~ or 0.135 of its axial, or peak value. At $2 w_0$, or twice the Gaussian radius, the intensity is 0.0003 of its peak value, usually completely negligible.\n",
    "\n",
    "The evolution with the longitudinal coordinate $z$~of the beam radius is described by the equation:\n",
    "\n",
    "\\begin{equation}\n",
    "w(z) = w_0 \\sqrt{1 + (\\frac{z}{z_R})^2}.\n",
    "\\end{equation}\n",
    "\n",
    "where the Rayleigh radius $z_R$~is defined as:\n",
    " \\begin{equation}\n",
    "z_R = \\frac{\\pi w_0}{\\lambda},\n",
    "\\end{equation}\n",
    "\n",
    "and $\\lambda$ is the incident light wavelength. \n",
    "\n",
    "If a gaussian beam is focused with a lens of numerical aperture A, the \n",
    "$w_0$ is related with the numerical aperture of the lens (in the difraction limist) as:\n",
    "$$ w_0 = \\frac{\\lambda}{\\pi A}$$\n",
    "\n",
    "and\n",
    "\n",
    "$$ z_r =  \\frac{\\pi w_0^2 }{\\lambda} = \\frac{\\lambda }{\\pi A^2}$$\n",
    "\n",
    "<img align=\"center\" src=\"img/wz.png\" width=\"500\" height=\"500\"></img>\n",
    "\n",
    "\n",
    "The beam power is obtained integrating the intensity distribution:\n",
    "\n",
    "\\begin{equation}\n",
    "P = \\int_0^\\infty I(r, z=0) ~2 \\pi r dr =  I_0 \\int_0^\\infty  2 \\pi r e^{-2 r^2/w_0^2} dr (2),\n",
    "= \\frac{1}{2} I_0 \\pi w_0^2.\n",
    "\\end{equation}\n",
    "\n",
    "and thus:\n",
    "\n",
    "\\begin{equation}\n",
    "I_0 = \\frac{2 P}{ \\pi w_0^2}.\n",
    "\\label{eq.P}\n",
    "\\end{equation}\n",
    "\n",
    "\n",
    "The integral of the square of the Gaussian beam to the full volume yields:\n",
    "\n",
    "\\begin{equation}\n",
    "\\int_{V\\rightarrow \\infty} I^2(r, z) = \\int_{-\\infty}^\\infty dz \\int_0^\\infty I^2(r, z) ~2 \\pi r dr.\n",
    "\\end{equation}\n",
    "\n",
    "The integral in the radial coordinates is: \n",
    "\n",
    "\\begin{equation}\n",
    "\\int_0^\\infty I^2(r, z) ~2 \\pi r dr = \\left[ \\frac{w_0}{w(z)}\\right]^4 \\int_0^\\infty 2 \\pi r e^{-4 r^2/w_0^2} dr\n",
    "=  \\left[ \\frac{w_0}{w(z)}\\right]^4 \\frac{1}{4}  \\pi w(z)^2 \n",
    "= \\frac{\\pi w_0^4}{4 w(z)^2}\n",
    "\\end{equation}\n",
    "\n",
    "The integral in the longitudinal coordinate is: \n",
    "\n",
    "\\begin{equation}\n",
    "\\int_{-\\infty}^\\infty dz  \\frac{\\pi w_0^4}{4 w(z)^2} =  \n",
    "\\frac{\\pi w_0^4}{4} \\int_{-\\infty}^\\infty \\frac{dz}{w(z)^2}  = \n",
    "\\frac{\\pi w_0^4}{4} \\int_{-\\infty}^\\infty \\frac{dz}{w_0^2 (1 + (z/z_R)^2)} =\n",
    "\\frac{\\pi w_0^2}{4} \\pi z_R.\n",
    "\\end{equation}\n",
    "\n",
    "It follows that for an \"infinitely thick sample\", we find:\n",
    "\n",
    "\\begin{equation}\n",
    "\\int_{V\\rightarrow \\infty} I^2(r, z) =\\frac{\\pi w_0^2}{4} \\pi \\frac{\\pi w_0^2}{\\lambda} =\n",
    "\\frac{\\pi^3 w_0^4}{4 \\lambda} (3)\n",
    "\\label{eq.I}\n",
    "\\end{equation}\n",
    "\n",
    "Substituting equation (2) and equation  (3) in \n",
    "equation (1), we find:\n",
    "\n",
    "\\begin{equation}\n",
    "<F(t)> = \\frac{1}{2}\\epsilon Q C \\delta g \\frac{4 P^2}{\\pi^2 w_0^4} \\frac{\\pi^3 w_0^4}{4 \\lambda}\n",
    "=  \\frac{1}{2}\\epsilon Q C \\delta g  \\frac{\\pi}{ \\lambda} P(t)^2.\n",
    "\\end{equation}\n",
    "\n",
    "In the calculation above, the refraction index $n$~has been assumed to be 1. Writing it down explicitly we find the expected value of the TPA induced fluorescence under the approximation of a Gaussian laser beam (notice also that the sample is assume to be infinitely thick compared, since we integrate z between $\\pm \\infty$):\n",
    "\n",
    "\\begin{equation}\n",
    "<F(t)> = \\frac{1}{2}\\epsilon Q C \\delta g  \\frac{n \\pi}{ \\lambda} P(t)^2 \\,\\,\\,(4).\n",
    "\\label{eq.FF}\n",
    "\\end{equation}\n",
    "\n",
    "Notice also that, according to equation 4, $F(t)$~does not depend on the beam waist (or equivalently of the numerical aperture). \n",
    "\n",
    "### Temporal dependence for a pulse laser\n",
    "\n",
    "<img align=\"center\" src=\"img/pulsed_beam.png\" width=\"500\" height=\"500\"></img>\n",
    "\n",
    "The focused intensity obtained from a mode-locked laser is a periodic function of time\n",
    "defined by the pulse repetition rate (f) and the pulse width (FWHM), $\\tau$.  For pulses with a temporal profile one can write:\n",
    "\n",
    "\\begin{equation}\n",
    "I(t) = I_p \\exp{[-4 \\log 2 (\\frac{t}{\\tau})^2]} \\,\\,\\, (5)\n",
    "\\label{eq.GT}\n",
    "\\end{equation}\n",
    "\n",
    "Because of the periodic nature of the pulse train, one needs to calculate g for only one cycle. \n",
    "\n",
    "\\begin{equation}\n",
    "g = \\frac{g_p}{f\\tau},\n",
    "\\label{eq.gp}\n",
    "\\end{equation}\n",
    "\n",
    "where:\n",
    "\n",
    "$$\n",
    "g_p = \\frac{\\tau \\int_{-1/(2f)}^{1/(2f)} I_0^2(t)}{[\\tau \\int_{-1/(2f)}^{1/(2f)} I_0(t)]^2} \\,\\,\\, (6)\n",
    "$$\n",
    "\n",
    "Substituting (5) into (6), we find: \n",
    "\n",
    "\\begin{equation}\n",
    "g_p = \\frac{0.75  erf(\\frac{2.35}{ 2 f\\tau})}{1.134  erf(\\frac{1.66}{ 2 f\\tau})^2}. \n",
    "\\end{equation}\n",
    "\n",
    "Setting $f \\tau = 1/2$, we find $g_p = 0.664$.\n",
    "\n",
    "### TPA fluorescence for a gaussian pulsed beam\n",
    "\n",
    "Substituting (6) into (4) we find, finally:\n",
    "\n",
    "\\begin{equation}\n",
    "<F(t)> = \\frac{1}{2}\\epsilon Q C \\delta \\frac{g_p}{f \\tau}  \\frac{n \\pi}{ \\lambda} P(t)^2. \\,\\,\\, (7)\n",
    "\\end{equation}\n",
    "\n",
    "Notice that the units are photons per unit time, as expected: \n",
    "\n",
    "\\begin{equation}\n",
    "[<F(t)>] = {\\rm \\frac{molecule}{L^3}\\frac{L^4 T}{photon \\, molecule}  L^{-1}\n",
    "\\frac{photons^2}{T^2}  =  \\frac{photon}{T}}\n",
    "\\end{equation}"
   ]
  },
  {
   "cell_type": "markdown",
   "metadata": {},
   "source": [
    "# The Espinardo setup\n",
    "\n",
    "- Laser of 800 nm, fluorescein\n",
    "- Samples fixed in PVA through spin-coating, 100 nm thick. "
   ]
  },
  {
   "cell_type": "markdown",
   "metadata": {},
   "source": [
    "### Molecule"
   ]
  },
  {
   "cell_type": "code",
   "execution_count": 21,
   "metadata": {},
   "outputs": [
    {
     "data": {
      "text/plain": [
       "\n",
       "        Molecule name =Fluorescein; cross section = 3.0e-16 cm2; Q =   0.9\n",
       "        "
      ]
     },
     "execution_count": 21,
     "metadata": {},
     "output_type": "execute_result"
    }
   ],
   "source": [
    "fl = Molecule(name = 'Fluorescein', sigma=3E-16 * cm2, Q=0.9)\n",
    "fl"
   ]
  },
  {
   "cell_type": "code",
   "execution_count": 22,
   "metadata": {},
   "outputs": [],
   "source": [
    "fl2 = Molecule2P(name = 'Fluorescein', sigma=3E-16 * cm2, Q=0.9)  # this defines the cross section for two photon absorption. "
   ]
  },
  {
   "cell_type": "code",
   "execution_count": 23,
   "metadata": {},
   "outputs": [],
   "source": [
    "x = np.arange(700, 1000, 10) * nm"
   ]
  },
  {
   "cell_type": "code",
   "execution_count": 24,
   "metadata": {},
   "outputs": [
    {
     "data": {
      "text/plain": [
       "Text(0.5, 1.0, 'Fluorescein cross section')"
      ]
     },
     "execution_count": 24,
     "metadata": {},
     "output_type": "execute_result"
    },
    {
     "data": {
      "image/png": "[encoded data removed]",
      "text/plain": [
       "<Figure size 432x288 with 1 Axes>"
      ]
     },
     "metadata": {},
     "output_type": "display_data"
    }
   ],
   "source": [
    "plt.plot(x/nm, fl2.sigma2(x)/GM)\n",
    "plt.xlabel(\"lambda (nm)\")\n",
    "plt.ylabel(\"GM\")\n",
    "plt.title (\"Fluorescein cross section\")"
   ]
  },
  {
   "cell_type": "markdown",
   "metadata": {},
   "source": [
    "### Laser beam"
   ]
  },
  {
   "cell_type": "code",
   "execution_count": 25,
   "metadata": {},
   "outputs": [
    {
     "data": {
      "text/plain": [
       "\n",
       "        Pulsed Laser:\n",
       "        wavelength                =8.0e+02 nm\n",
       "        photon energy             =1.6e+00 eV\n",
       "        power                     =3.5e+02 mW\n",
       "        repetition rate           =7.6e+01 kHz\n",
       "        pulse width               =4.0e+02 fs\n",
       "        energy per pulse          =2.7e+04 fJ\n",
       "        energy per second         =3.5e+02 mJ\n",
       "        photons per second        =1.4e+18 ph/second\n",
       "        "
      ]
     },
     "execution_count": 25,
     "metadata": {},
     "output_type": "execute_result"
    }
   ],
   "source": [
    "lb = PulsedLaser(lamda=800*nm, power=350*mW, f=76*MHZ, tau=400*femtosecond)  \n",
    "lb"
   ]
  },
  {
   "cell_type": "markdown",
   "metadata": {},
   "source": [
    "### Microscope"
   ]
  },
  {
   "cell_type": "code",
   "execution_count": 26,
   "metadata": {},
   "outputs": [
    {
     "name": "stdout",
     "output_type": "stream",
     "text": [
      "\n",
      "        name                 = Espinardo\n",
      "        NA                   =   0.5\n",
      "        M                    =  20.0\n",
      "        eff dichroic         =  0.85\n",
      "        eff filter           =  0.16\n",
      "        Optical transmission =  0.96\n",
      "        Filter  transmission =  0.14\n",
      "        Total transmission   =  0.13\n",
      "        \n"
     ]
    }
   ],
   "source": [
    "mc = Microscope(name='Espinardo', numerical_aperture=0.5, magnification=20, eff_dichroic = 0.85, eff_filter = 0.8 * 0.2) #0.2 for QE of PMT\n",
    "print(mc)"
   ]
  },
  {
   "cell_type": "code",
   "execution_count": 27,
   "metadata": {},
   "outputs": [
    {
     "data": {
      "text/plain": [
       "\n",
       "        w0                   =   0.5 micron\n",
       "        zr                   =   1.0 micron\n",
       "        DOF                  =   2.0 micron\n",
       "        "
      ]
     },
     "execution_count": 27,
     "metadata": {},
     "output_type": "execute_result"
    }
   ],
   "source": [
    "gb = GaussianBeam(laser=lb, mc = mc)  \n",
    "gb"
   ]
  },
  {
   "cell_type": "code",
   "execution_count": 28,
   "metadata": {},
   "outputs": [],
   "source": [
    "Z = np.linspace(-10 * gb.zr(), 10 * gb.zr())\n",
    "WZ = [gb.w0wz2(z) for z in Z]"
   ]
  },
  {
   "cell_type": "code",
   "execution_count": 29,
   "metadata": {},
   "outputs": [
    {
     "data": {
      "image/png": "[encoded data removed]",
      "text/plain": [
       "<Figure size 864x432 with 2 Axes>"
      ]
     },
     "metadata": {},
     "output_type": "display_data"
    }
   ],
   "source": [
    "fig = plt.figure(figsize=(12,6))\n",
    "ax      = fig.add_subplot(1, 2, 1)\n",
    "plt.semilogy(Z/micron, WZ)\n",
    "plt.xlabel(\"Z\")\n",
    "plt.ylabel(\"w(z)\")\n",
    "plt.title (\"Gaussian Beam W(z) log \")\n",
    "plt.grid(True)\n",
    "ax      = fig.add_subplot(1, 2, 2)\n",
    "plt.plot(Z/micron, WZ)\n",
    "plt.xlabel(\"Z\")\n",
    "plt.ylabel(\"w(z)\")\n",
    "plt.title (\"Gaussian Beam W(z) linear\")\n",
    "plt.grid(True)"
   ]
  },
  {
   "cell_type": "code",
   "execution_count": 30,
   "metadata": {},
   "outputs": [],
   "source": [
    "Z = np.linspace(-5 * gb.zr(), 5 * gb.zr())\n",
    "WZ = np.array([gb.w(z) for z in Z])\n",
    "WZm = np.array([-gb.w(z) for z in Z])"
   ]
  },
  {
   "cell_type": "code",
   "execution_count": 31,
   "metadata": {},
   "outputs": [
    {
     "data": {
      "image/png": "[encoded data removed]",
      "text/plain": [
       "<Figure size 864x432 with 1 Axes>"
      ]
     },
     "metadata": {},
     "output_type": "display_data"
    }
   ],
   "source": [
    "fig = plt.figure(figsize=(12,6))\n",
    "ax      = fig.add_subplot(1, 1, 1)\n",
    "\n",
    "plt.plot(Z/micron, WZ/micron)\n",
    "plt.plot(Z/micron, WZm/micron)\n",
    "plt.xlabel(\"Z (micron)\")\n",
    "plt.ylabel(\"w(z) (micron)\")\n",
    "plt.title (\"Gaussian Beam w(z) \")\n",
    "plt.grid(True)"
   ]
  },
  {
   "cell_type": "markdown",
   "metadata": {},
   "source": [
    "### Scanning \n",
    "- area $90 \\times 90 \\mu m$.\n",
    "- pixels 256 x 256 (or 512 x 512)"
   ]
  },
  {
   "cell_type": "code",
   "execution_count": 32,
   "metadata": {},
   "outputs": [],
   "source": [
    "\n",
    "pixel_size_mu_a = 90 * mum /(256)\n",
    "pixel_size_mu_b = 90 * mum /(512)"
   ]
  },
  {
   "cell_type": "code",
   "execution_count": 33,
   "metadata": {},
   "outputs": [
    {
     "name": "stdout",
     "output_type": "stream",
     "text": [
      "pixel size conf A= 3.5e+02 nm\n",
      "pixel size conf B= 1.8e+02 nm\n"
     ]
    }
   ],
   "source": [
    "print(f'pixel size conf A= {pixel_size_mu_a/nm:5.1e} nm')\n",
    "print(f'pixel size conf B= {pixel_size_mu_b/nm:5.1e} nm')"
   ]
  },
  {
   "cell_type": "markdown",
   "metadata": {},
   "source": [
    "### Penetration of gaussian beam**\n",
    "\n",
    "in R: $2 w_0 = \\frac{\\lambda}{\\pi A}$\n",
    "\n",
    "in Z : $2  z_R = \\frac{2 \\lambda}{\\pi A^2}$"
   ]
  },
  {
   "cell_type": "code",
   "execution_count": 34,
   "metadata": {},
   "outputs": [
    {
     "data": {
      "text/plain": [
       "\n",
       "        FOV; d = 1.0e-03 mm; r = 5.1e-04 mm; z = 1.0e-04 mm;\n",
       "        area = 8.1e-07 mm2 volume = 8.1e-11 mm3\n",
       "        "
      ]
     },
     "execution_count": 34,
     "metadata": {},
     "output_type": "execute_result"
    }
   ],
   "source": [
    "fov= CircularFoV(d = 2* gb.w0(), z= 100 * nm)\n",
    "fov"
   ]
  },
  {
   "cell_type": "markdown",
   "metadata": {},
   "source": [
    "### Density of photons in that area"
   ]
  },
  {
   "cell_type": "code",
   "execution_count": 35,
   "metadata": {},
   "outputs": [
    {
     "name": "stdout",
     "output_type": "stream",
     "text": [
      "photon density = 1.7e+26 photons/(second cm2)\n"
     ]
    }
   ],
   "source": [
    "I = photon_density(lb, fov)\n",
    "print(f'photon density = {I/(us*ucm2):5.1e} photons/(second cm2)')"
   ]
  },
  {
   "cell_type": "code",
   "execution_count": 62,
   "metadata": {},
   "outputs": [
    {
     "name": "stdout",
     "output_type": "stream",
     "text": [
      "photon density per pulse= 4.3e+29 photons/(second cm2)\n"
     ]
    }
   ],
   "source": [
    "print(f'photon density per pulse= {I/lb.tau/(us*ucm2):5.1e} photons/(second cm2)')"
   ]
  },
  {
   "cell_type": "markdown",
   "metadata": {},
   "source": [
    "### Dye of 25 nm concentration "
   ]
  },
  {
   "cell_type": "code",
   "execution_count": 36,
   "metadata": {},
   "outputs": [
    {
     "data": {
      "text/plain": [
       "\n",
       "        Dye name =f2p;\n",
       "        concentration = 2.5e-08 mole/l (1.5e+13 molecules/cm3);\n",
       "        V = 8.1e-17 l,\n",
       "        nof molecules = 1.2e+00\n",
       "        "
      ]
     },
     "execution_count": 36,
     "metadata": {},
     "output_type": "execute_result"
    }
   ],
   "source": [
    "ds = DyeSample(name='f2p',concentration = 25 * nanomole/l, volume= fov.volume())\n",
    "ds"
   ]
  },
  {
   "cell_type": "code",
   "execution_count": 37,
   "metadata": {},
   "outputs": [
    {
     "name": "stdout",
     "output_type": "stream",
     "text": [
      " laser power in photons/second =1.41e+18\n"
     ]
    }
   ],
   "source": [
    "print(f' laser power in photons/second ={lb.n_photons()/us:5.2e}')"
   ]
  },
  {
   "cell_type": "code",
   "execution_count": 38,
   "metadata": {},
   "outputs": [],
   "source": [
    "F = fluorescence_2p(ds, fl2, lb, mc)"
   ]
  },
  {
   "cell_type": "code",
   "execution_count": 39,
   "metadata": {},
   "outputs": [
    {
     "name": "stdout",
     "output_type": "stream",
     "text": [
      " F = 5.4e+08 photons/second\n"
     ]
    }
   ],
   "source": [
    "print(f' F = {F/us:5.1e} photons/second')"
   ]
  },
  {
   "cell_type": "code",
   "execution_count": 40,
   "metadata": {},
   "outputs": [
    {
     "name": "stdout",
     "output_type": "stream",
     "text": [
      "5.4e+08\n"
     ]
    }
   ],
   "source": [
    "F2 = F/us\n",
    "print(f'{F2:5.1e}')"
   ]
  },
  {
   "cell_type": "markdown",
   "metadata": {},
   "source": [
    "### According to calculation a large number of fluorescence photons are produced even for small concentrations"
   ]
  },
  {
   "cell_type": "markdown",
   "metadata": {},
   "source": [
    "## Number of absorbed photons, per fluorophere per pulse\n",
    "\n",
    "http://www.aomf.ca/pdfs/Denk1990.pdf\n",
    "\n",
    "- equation 9 (in references)\n",
    "\n",
    "$$ na = \\frac{P^2 Q \\sigma_2}{\\tau f} (\\frac{A^2}{2 \\hbar c \\lambda})^2$$\n",
    "\n",
    "where:\n",
    "- Q is the quantum efficiency (0.9 for fluorescein)\n",
    "- $\\sigma_2$ is the two photon absorption cross section (in cm$^4$ s)\n",
    "- A is the numerical aperture\n",
    "- f is the frequency (e.g, 80 MHZ)\n",
    "- $\\tau$ is the FWHM of the pulse width (e.g, 400 fs)\n",
    "- P is the laser power\n",
    "- $\\lambda$ is the wavelength of the light\n",
    "\n",
    "- units are photons/fluorophene\n"
   ]
  },
  {
   "cell_type": "code",
   "execution_count": 41,
   "metadata": {},
   "outputs": [
    {
     "name": "stdout",
     "output_type": "stream",
     "text": [
      " p0         = 0.35 J/s\n",
      " Q * delta  = 3.2400000000000003e-49 cm4 s/ (molecule photon)\n",
      " tau * f**2 = 2310.4000000000005 s^-1\n",
      " hbarc      = 3.16e-24 J cm\n",
      " lamda      = 8.000000000000002e-05 cm\n",
      " A          = 0.5 \n",
      " (p0**2 * m.Q * delta) / (tau * f**2) = 1.7178843490304706e-53 J^2 cm^4\n",
      "((A**2 / (2 * hbarc * lamda))**2       =2.444926944800512e+53 J^-2 cm^-4\n"
     ]
    }
   ],
   "source": [
    "na = absorbed_photons_per_fluorophore_per_pulse_2p(fl2, lb, mc)"
   ]
  },
  {
   "cell_type": "code",
   "execution_count": 42,
   "metadata": {},
   "outputs": [
    {
     "name": "stdout",
     "output_type": "stream",
     "text": [
      " number of absorbed photons per fluorophore per pulse = 4.2e+00\n"
     ]
    }
   ],
   "source": [
    "print(f' number of absorbed photons per fluorophore per pulse = {na:5.1e}')"
   ]
  },
  {
   "cell_type": "markdown",
   "metadata": {},
   "source": [
    "#### This implies that the number of photons per pulse saturates the fluorophore. Thus, each pulse will absorb two photons. In other words, one could reach the limit of 2 photons per fluorophene with (2/2.6 x 10^2) less power"
   ]
  },
  {
   "cell_type": "code",
   "execution_count": 43,
   "metadata": {},
   "outputs": [
    {
     "name": "stdout",
     "output_type": "stream",
     "text": [
      "power_to_saturate_fluorescence=1.7e+02 mW\n"
     ]
    }
   ],
   "source": [
    "power_to_saturate_fluorescence = (2/na) *lb.power\n",
    "print(f'power_to_saturate_fluorescence={power_to_saturate_fluorescence/mW:5.1e} mW')"
   ]
  },
  {
   "cell_type": "markdown",
   "metadata": {},
   "source": [
    "### The number of photons per fluorophere per second should then simply be equal to the number of pulses, sice we saturate"
   ]
  },
  {
   "cell_type": "code",
   "execution_count": 44,
   "metadata": {},
   "outputs": [
    {
     "name": "stdout",
     "output_type": "stream",
     "text": [
      " number of absorbed photons per fluorophore per second = 7.6e+07\n"
     ]
    }
   ],
   "source": [
    "n_f = n_pulses_per_second = lb.f/hertz\n",
    "print(f' number of absorbed photons per fluorophore per second = {n_pulses_per_second:5.1e}')"
   ]
  },
  {
   "cell_type": "markdown",
   "metadata": {},
   "source": [
    "#### Assuming no photobleaching the total fluorescence is similar to that obtained by the previous calculation."
   ]
  },
  {
   "cell_type": "markdown",
   "metadata": {},
   "source": [
    "## Photobleaching\n",
    "\n",
    "- Photobleaching occurs after emision of about 36,000 photons (in oxygenated environment) or 360,000 photons (de-oxygenated). Thus, photobleaching will be the limit of the experiment. \n",
    "- The pessimistic scenario is to assume that each molecule will emit 36,000 photons before photobleaching. This means that the fluorescence will last nof_emitted_photons/nof_absorbed_photons"
   ]
  },
  {
   "cell_type": "code",
   "execution_count": 45,
   "metadata": {},
   "outputs": [
    {
     "name": "stdout",
     "output_type": "stream",
     "text": [
      "duration of fluorescence = 6.7e-02  ms\n",
      "photons per microsecond = 5.4e+02\n"
     ]
    }
   ],
   "source": [
    "n_epb = 36000\n",
    "df = (n_epb/F2)\n",
    "print(f'duration of fluorescence = {df * 1e+3:5.1e}  ms')\n",
    "print(f'photons per microsecond = {n_epb/(df * 1e+6):5.1e}')"
   ]
  },
  {
   "cell_type": "markdown",
   "metadata": {},
   "source": [
    "#### if we sample at 1 MHZ then we record 22 * efficiency (~3) photons per sample, and the signal lasts 1700 samples. "
   ]
  }
 ],
 "metadata": {
  "celltoolbar": "Slideshow",
  "kernelspec": {
   "display_name": "Python 3",
   "language": "python",
   "name": "python3"
  },
  "language_info": {
   "codemirror_mode": {
    "name": "ipython",
    "version": 3
   },
   "file_extension": ".py",
   "mimetype": "text/x-python",
   "name": "python",
   "nbconvert_exporter": "python",
   "pygments_lexer": "ipython3",
   "version": "3.7.1"
  },
  "widgets": {
   "state": {},
   "version": "1.0.0"
  }
 },
 "nbformat": 4,
 "nbformat_minor": 2
}
