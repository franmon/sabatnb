{
 "cells": [
  {
   "cell_type": "markdown",
   "metadata": {},
   "source": [
    "# SABAT SMFI\n",
    "\n",
    "- Describes SABAT program"
   ]
  },
  {
   "cell_type": "code",
   "execution_count": 1,
   "metadata": {
    "slideshow": {
     "slide_type": "skip"
    }
   },
   "outputs": [],
   "source": [
    "%matplotlib inline\n",
    "from IPython.display import Image\n",
    "from IPython.display import Math\n",
    "from IPython.display import Latex"
   ]
  },
  {
   "cell_type": "code",
   "execution_count": 2,
   "metadata": {
    "slideshow": {
     "slide_type": "skip"
    }
   },
   "outputs": [
    {
     "name": "stdout",
     "output_type": "stream",
     "text": [
      "Last updated on  Thu Apr 18 17:06:50 2019\n"
     ]
    }
   ],
   "source": [
    "%load_ext autoreload\n",
    "%autoreload 2\n",
    "import os\n",
    "import sys\n",
    "import time\n",
    "import warnings\n",
    "import datetime \n",
    "print(\"Last updated on \", time.asctime())"
   ]
  },
  {
   "cell_type": "code",
   "execution_count": 3,
   "metadata": {
    "slideshow": {
     "slide_type": "skip"
    }
   },
   "outputs": [],
   "source": [
    "import seaborn as sns\n",
    "import numpy as np\n",
    "import pandas as pd\n",
    "import matplotlib\n",
    "import tables            as tb\n",
    "import random\n",
    "import glob\n",
    "import warnings\n",
    "sns.set()\n",
    "import matplotlib.pyplot as plt\n"
   ]
  },
  {
   "cell_type": "code",
   "execution_count": 4,
   "metadata": {
    "slideshow": {
     "slide_type": "skip"
    }
   },
   "outputs": [],
   "source": [
    "from dataclasses import dataclass"
   ]
  },
  {
   "cell_type": "code",
   "execution_count": 5,
   "metadata": {
    "slideshow": {
     "slide_type": "skip"
    }
   },
   "outputs": [],
   "source": [
    "from  invisible_cities.core.system_of_units import *"
   ]
  },
  {
   "cell_type": "code",
   "execution_count": 6,
   "metadata": {},
   "outputs": [],
   "source": [
    "from sabat.sbt_types import FoV, CircularFoV\n",
    "from sabat.sbt_types import Laser, PulsedLaser, GLaser, GaussianBeam\n",
    "from sabat.sbt_types import Molecule\n",
    "from sabat.sbt_types import Molecule2P\n",
    "from sabat.sbt_types import DyeSample\n",
    "from sabat.sbt_types import Microscope\n",
    "from sabat.sbt_types import CCD"
   ]
  },
  {
   "cell_type": "code",
   "execution_count": 7,
   "metadata": {},
   "outputs": [],
   "source": [
    "from sabat.sbt_core import  power_density\n",
    "from sabat.sbt_core import  photon_density\n",
    "from sabat.sbt_core import  fluorescence_per_molecule\n",
    "from sabat.sbt_core import  duration_of_fluorescence\n",
    "from sabat.sbt_core import  diffraction_limit\n",
    "from sabat.sbt_core import  photoelectrons_per_pixel\n",
    "from sabat.sbt_core import  fluorescence_2p\n",
    "from sabat.sbt_core import  absorbed_photons_per_fluorophore_per_pulse_2p"
   ]
  },
  {
   "cell_type": "markdown",
   "metadata": {
    "slideshow": {
     "slide_type": "slide"
    }
   },
   "source": [
    "# SABAT SMFI\n",
    "\n",
    "## Authors\n",
    "\n",
    "- J.J. Gomez-Cadenas \n",
    "\n",
    "[NEXT](https://next.ific.uv.es/next/)\n",
    "\n",
    "#### Contact\n",
    "\n",
    "\n",
    "- [Email](mailto:jjgomezcadenas@dipc.org)\n",
    "\n",
    "\n"
   ]
  },
  {
   "cell_type": "markdown",
   "metadata": {},
   "source": [
    "# S/N in a monolayer target"
   ]
  },
  {
   "cell_type": "code",
   "execution_count": 8,
   "metadata": {},
   "outputs": [],
   "source": [
    "photon = 1\n",
    "molecule = 1\n",
    "GM = 1e-50 * cm2*cm2*second / (photon * molecule)\n",
    "us = photon / second\n",
    "ucm2 = photon / cm2\n",
    "ucm3 = molecule / cm3\n",
    "gp = 0.664"
   ]
  },
  {
   "cell_type": "markdown",
   "metadata": {},
   "source": [
    "## NEXT PRL"
   ]
  },
  {
   "cell_type": "markdown",
   "metadata": {},
   "source": [
    "### Molecule"
   ]
  },
  {
   "cell_type": "code",
   "execution_count": 9,
   "metadata": {},
   "outputs": [
    {
     "data": {
      "text/plain": [
       "\n",
       "        Molecule name =Fluorescein; cross section = 3.0e-16 cm2; Q =   0.9\n",
       "        "
      ]
     },
     "execution_count": 9,
     "metadata": {},
     "output_type": "execute_result"
    }
   ],
   "source": [
    "fl = Molecule(name = 'Fluorescein', sigma=3E-16 * cm2, Q=0.9)\n",
    "fl"
   ]
  },
  {
   "cell_type": "markdown",
   "metadata": {},
   "source": [
    "### Laser"
   ]
  },
  {
   "cell_type": "code",
   "execution_count": 11,
   "metadata": {},
   "outputs": [
    {
     "data": {
      "text/plain": [
       "\n",
       "        Laser:\n",
       "        wavelength                =4.9e+02 nm\n",
       "        photon energy             =2.5e+00 eV\n",
       "        power                     =1.0e-03 mW\n",
       "        energy per second         =1.0e-03 mJ\n",
       "        photons per second        =2.5e+12 ph/second\n",
       "        "
      ]
     },
     "execution_count": 11,
     "metadata": {},
     "output_type": "execute_result"
    }
   ],
   "source": [
    "lb = Laser(lamda=488*nm, power=1 * microwatt)  \n",
    "lb"
   ]
  },
  {
   "cell_type": "markdown",
   "metadata": {},
   "source": [
    "### Microscope"
   ]
  },
  {
   "cell_type": "code",
   "execution_count": 12,
   "metadata": {},
   "outputs": [
    {
     "name": "stdout",
     "output_type": "stream",
     "text": [
      "\n",
      "        name                 = UTA\n",
      "        NA                   =   1.4\n",
      "        M                    = 100.0\n",
      "        eff dichroic         =  0.85\n",
      "        eff filter           =  0.80\n",
      "        Optical transmission =  0.30\n",
      "        Filter  transmission =  0.68\n",
      "        Total transmission   =  0.20\n",
      "        \n"
     ]
    }
   ],
   "source": [
    "mc = Microscope(name='UTA', numerical_aperture=1.4, magnification=100, eff_dichroic = 0.85, eff_filter = 0.8) #0.2 for QE of PMT\n",
    "print(mc)"
   ]
  },
  {
   "cell_type": "markdown",
   "metadata": {},
   "source": [
    "### FOV"
   ]
  },
  {
   "cell_type": "code",
   "execution_count": 13,
   "metadata": {},
   "outputs": [
    {
     "data": {
      "text/plain": [
       "\n",
       "        FOV; d = 3.5e-02 mm; r = 1.8e-02 mm; z = 1.0e-04 mm;\n",
       "        area = 9.6e-04 mm2 volume = 9.6e-08 mm3\n",
       "        "
      ]
     },
     "execution_count": 13,
     "metadata": {},
     "output_type": "execute_result"
    }
   ],
   "source": [
    "fov= CircularFoV(d = 35 * micron, z= 0.1 * micron)\n",
    "fov"
   ]
  },
  {
   "cell_type": "code",
   "execution_count": 14,
   "metadata": {},
   "outputs": [
    {
     "name": "stdout",
     "output_type": "stream",
     "text": [
      "photon density = 2.6e+17 photons/(second cm2)\n"
     ]
    }
   ],
   "source": [
    "I = photon_density(lb, fov)\n",
    "print(f'photon density = {I/(us*ucm2):5.1e} photons/(second cm2)')"
   ]
  },
  {
   "cell_type": "markdown",
   "metadata": {},
   "source": [
    "### Dye concentration"
   ]
  },
  {
   "cell_type": "code",
   "execution_count": 15,
   "metadata": {},
   "outputs": [
    {
     "data": {
      "text/plain": [
       "\n",
       "        Dye name =fp;\n",
       "        concentration = 1.0e-09 mole/l (6.0e+11 molecules/cm3);\n",
       "        V = 9.6e-14 l,\n",
       "        nof molecules = 5.8e+01\n",
       "        "
      ]
     },
     "execution_count": 15,
     "metadata": {},
     "output_type": "execute_result"
    }
   ],
   "source": [
    "ds = DyeSample(name='fp',concentration = 1 * nanomole/l, volume= fov.volume())\n",
    "ds"
   ]
  },
  {
   "cell_type": "markdown",
   "metadata": {},
   "source": [
    "### Fluorescence per molecule"
   ]
  },
  {
   "cell_type": "code",
   "execution_count": 17,
   "metadata": {},
   "outputs": [
    {
     "name": "stdout",
     "output_type": "stream",
     "text": [
      "Fluorescence per molecule and second = 6.9e+01\n"
     ]
    }
   ],
   "source": [
    "f = fluorescence_per_molecule(fl, I)\n",
    "print(f'Fluorescence per molecule and second = {f/us:5.1e}')"
   ]
  },
  {
   "cell_type": "code",
   "execution_count": 19,
   "metadata": {},
   "outputs": [
    {
     "name": "stdout",
     "output_type": "stream",
     "text": [
      "Fluorescence per FOV and second = 4.0e+03\n"
     ]
    }
   ],
   "source": [
    "F = f * ds.n_molecules()\n",
    "print(f'Fluorescence per FOV and second = {F/us:5.1e}')"
   ]
  },
  {
   "cell_type": "markdown",
   "metadata": {},
   "source": [
    "## The monolayer case."
   ]
  },
  {
   "cell_type": "code",
   "execution_count": 95,
   "metadata": {},
   "outputs": [],
   "source": [
    "@dataclass\n",
    "class Monolayer(FoV):\n",
    "    ns     : float\n",
    "    nb     : float\n",
    "\n",
    "    def n_molecules(self)->float:\n",
    "        return self.area() / nm**2\n",
    "\n",
    "    def snr(self)->float:\n",
    "        return self.ns /np.sqrt(2 * self.nb * self.n_molecules())\n",
    "\n",
    "    def SNR(self, repRate : float)->float:\n",
    "        return self.snr() * np.sqrt(repRate)\n",
    "\n",
    "    def nobs(self)->float:\n",
    "        s = np.random.normal(self.ns, np.sqrt(self.ns))\n",
    "        b = np.random.normal(self.nb * self.n_molecules(), np.sqrt(self.nb * self.n_molecules()))\n",
    "        return s + b \n",
    "\n",
    "    def nsignal(self)->float:\n",
    "        return self.nobs() - self.nb * self.n_molecules()\n",
    "\n",
    "    def __repr__(self):\n",
    "        s =\"\"\"\n",
    "        \n",
    "        x = {0:5.1e} mum; y = {1:5.1e} mum; z = {2:5.1e} nm; area = {3:5.1e} mum2 volume = {4:5.1e} mum3\n",
    "        nof molecules = {5:5.1e}\n",
    "        snr           = {6:5.1e}\n",
    "        \"\"\".format(self.x/mum, self.y/micron, self.z/nm, self.area()/micron2, self.volume()/micron3, self.n_molecules(), self.snr())\n",
    "\n",
    "        return s\n"
   ]
  },
  {
   "cell_type": "code",
   "execution_count": 96,
   "metadata": {},
   "outputs": [
    {
     "data": {
      "text/plain": [
       "\n",
       "        \n",
       "        x = 1.0e+01 mum; y = 1.0e+01 mum; z = 1.0e+00 nm; area = 1.0e+02 mum2 volume = 1.0e-01 mum3\n",
       "        nof molecules = 1.0e+08\n",
       "        snr           = 7.1e-03\n",
       "        "
      ]
     },
     "execution_count": 96,
     "metadata": {},
     "output_type": "execute_result"
    }
   ],
   "source": [
    "ml = Monolayer(x=10*micron, y=10*micron, z = 1*nm, ns = 100, nb = 1)\n",
    "ml"
   ]
  },
  {
   "cell_type": "code",
   "execution_count": 97,
   "metadata": {},
   "outputs": [
    {
     "name": "stdout",
     "output_type": "stream",
     "text": [
      "SNR for a repetition rate of 1.0e+06 = 7.1e+00\n"
     ]
    }
   ],
   "source": [
    "R = 1e+6\n",
    "print(f'SNR for a repetition rate of {R:5.1e} = {ml.SNR(R):5.1e}')"
   ]
  },
  {
   "cell_type": "code",
   "execution_count": 98,
   "metadata": {},
   "outputs": [
    {
     "name": "stdout",
     "output_type": "stream",
     "text": [
      "photon density = 1.2e+24 photons/(second cm2)\n"
     ]
    }
   ],
   "source": [
    "I = photon_density(lb, ml)\n",
    "print(f'photon density = {I/(us*ucm2):5.1e} photons/(second cm2)')"
   ]
  },
  {
   "cell_type": "code",
   "execution_count": 99,
   "metadata": {},
   "outputs": [
    {
     "name": "stdout",
     "output_type": "stream",
     "text": [
      "photon density per pulse= 1.2e+28 photons/(second cm2)\n"
     ]
    }
   ],
   "source": [
    "print(f'photon density per pulse= {I/lb.tau/(us*ucm2):5.1e} photons/(second cm2)')"
   ]
  },
  {
   "cell_type": "code",
   "execution_count": 100,
   "metadata": {},
   "outputs": [
    {
     "name": "stdout",
     "output_type": "stream",
     "text": [
      "Fluorescence per molecule and second = 3.3e+08\n"
     ]
    }
   ],
   "source": [
    "f = fluorescence_per_molecule(fl, I)\n",
    "print(f'Fluorescence per molecule and second = {f/us:5.1e}')"
   ]
  },
  {
   "cell_type": "code",
   "execution_count": 101,
   "metadata": {},
   "outputs": [
    {
     "name": "stdout",
     "output_type": "stream",
     "text": [
      "Fluorescence per molecule and pulse = 3.3e+00\n"
     ]
    }
   ],
   "source": [
    "print(f'Fluorescence per molecule and pulse = {(f/lb.f):5.1e}')"
   ]
  },
  {
   "cell_type": "markdown",
   "metadata": {},
   "source": [
    "#### However we can absorb at max 1 photon per pulse. "
   ]
  },
  {
   "cell_type": "code",
   "execution_count": 102,
   "metadata": {},
   "outputs": [
    {
     "name": "stdout",
     "output_type": "stream",
     "text": [
      " number of absorbed photons per fluorophore per second = 1.0e+08\n"
     ]
    }
   ],
   "source": [
    "n_f = n_pulses_per_second = lb.f/hertz\n",
    "print(f' number of absorbed photons per fluorophore per second = {n_pulses_per_second:5.1e}')"
   ]
  },
  {
   "cell_type": "code",
   "execution_count": 105,
   "metadata": {},
   "outputs": [
    {
     "name": "stdout",
     "output_type": "stream",
     "text": [
      " number of photons produced per microsecond = 1.0e+02\n",
      " number of photons recorded per microsecond = 1.0e+01\n"
     ]
    }
   ],
   "source": [
    "n_ph = n_f * 1e-6\n",
    "print(f' number of photons produced per microsecond = {n_ph:5.1e}')\n",
    "print(f' number of photons recorded per microsecond = {n_ph * 0.1:5.1e}')"
   ]
  },
  {
   "cell_type": "markdown",
   "metadata": {},
   "source": [
    "### Detection efficiency\n",
    "\n",
    "- Order 10-20 %. \n",
    "- Suppose that one wants to record at least 10 photons per sample. This corresponods to 100 photons produced, thus R~1E+6 in one second.\n",
    "- One needs a second to scan one point of 10 x 10 micron2"
   ]
  },
  {
   "cell_type": "markdown",
   "metadata": {},
   "source": [
    "### Photobleaching"
   ]
  },
  {
   "cell_type": "code",
   "execution_count": 106,
   "metadata": {},
   "outputs": [
    {
     "name": "stdout",
     "output_type": "stream",
     "text": [
      "duration of fluorescence = 3.6e+02  mus\n"
     ]
    }
   ],
   "source": [
    "n_epb = 36000\n",
    "df = (n_epb/n_f)\n",
    "print(f'duration of fluorescence = {df * 1e+6:5.1e}  mus')"
   ]
  },
  {
   "cell_type": "markdown",
   "metadata": {},
   "source": [
    "### This means that R = 360 rather than 1E+6. \n",
    "\n",
    "- Photobleaching can increase by one order of magnitude in deoxygenated environment, but this is still not eough to compensate. "
   ]
  },
  {
   "cell_type": "markdown",
   "metadata": {},
   "source": [
    "## Small scans.\n",
    "\n",
    "- The natural \"size\" of the 2p spot is about 1 micron. "
   ]
  },
  {
   "cell_type": "code",
   "execution_count": 107,
   "metadata": {},
   "outputs": [
    {
     "data": {
      "text/plain": [
       "\n",
       "        w0                   =   0.1 micron\n",
       "        zr                   =   0.1 micron\n",
       "        DOF                  =   0.2 micron\n",
       "        "
      ]
     },
     "execution_count": 107,
     "metadata": {},
     "output_type": "execute_result"
    }
   ],
   "source": [
    "gb = GaussianBeam(laser=lb, mc = mc)  \n",
    "gb"
   ]
  },
  {
   "cell_type": "code",
   "execution_count": null,
   "metadata": {},
   "outputs": [],
   "source": []
  },
  {
   "cell_type": "code",
   "execution_count": 47,
   "metadata": {},
   "outputs": [
    {
     "name": "stdout",
     "output_type": "stream",
     "text": [
      "photons observed (one shot) = 1.0e+08, signal (one shot) =  3.3e+03\n"
     ]
    }
   ],
   "source": [
    "print(f'photons observed (one shot) = {ml.nobs():5.1e}, signal (one shot) =  {ml.nsignal():5.1e}')"
   ]
  },
  {
   "cell_type": "code",
   "execution_count": 49,
   "metadata": {},
   "outputs": [
    {
     "data": {
      "text/plain": [
       "112.7505127848183"
      ]
     },
     "execution_count": 49,
     "metadata": {},
     "output_type": "execute_result"
    }
   ],
   "source": [
    "np.average([ml.nsignal() for i in range(1000000)])"
   ]
  },
  {
   "cell_type": "markdown",
   "metadata": {},
   "source": [
    "### Consider a pulsed beam"
   ]
  },
  {
   "cell_type": "code",
   "execution_count": 67,
   "metadata": {},
   "outputs": [
    {
     "data": {
      "text/plain": [
       "\n",
       "        Pulsed Laser:\n",
       "        wavelength                =4.9e+02 nm\n",
       "        photon energy             =2.5e+00 eV\n",
       "        power                     =5.0e+02 mW\n",
       "        repetition rate           =1.0e+02 kHz\n",
       "        pulse width               =1.0e+02 fs\n",
       "        energy per pulse          =5.0e+04 fJ\n",
       "        energy per second         =5.0e+02 mJ\n",
       "        photons per second        =1.2e+18 ph/second\n",
       "        "
      ]
     },
     "execution_count": 67,
     "metadata": {},
     "output_type": "execute_result"
    }
   ],
   "source": [
    "lb = PulsedLaser(lamda=488*nm, power=500*mW, f=100*MHZ, tau=100*femtosecond)  \n",
    "lb"
   ]
  },
  {
   "cell_type": "markdown",
   "metadata": {},
   "source": [
    "### Assume a FOV of 10 x 10 microns2 times 1 nm"
   ]
  },
  {
   "cell_type": "code",
   "execution_count": 68,
   "metadata": {},
   "outputs": [
    {
     "data": {
      "text/plain": [
       "\n",
       "        FOV; d = 1.0e-02 mm; r = 5.0e-03 mm; z = 1.0e-06 mm;\n",
       "        area = 7.9e-05 mm2 volume = 7.9e-11 mm3\n",
       "        "
      ]
     },
     "execution_count": 68,
     "metadata": {},
     "output_type": "execute_result"
    }
   ],
   "source": [
    "fov= CircularFoV(d = 10 * micron, z= 1 * nm)\n",
    "fov"
   ]
  },
  {
   "cell_type": "code",
   "execution_count": 69,
   "metadata": {},
   "outputs": [
    {
     "data": {
      "text/plain": [
       "6780"
      ]
     },
     "execution_count": 69,
     "metadata": {},
     "output_type": "execute_result"
    }
   ],
   "source": [
    "565*12"
   ]
  },
  {
   "cell_type": "code",
   "execution_count": null,
   "metadata": {},
   "outputs": [],
   "source": []
  },
  {
   "cell_type": "markdown",
   "metadata": {
    "slideshow": {
     "slide_type": "slide"
    }
   },
   "source": [
    "## State of the art: Molecule\n",
    "\n",
    "- F. Cossio and his group have developed a new molecule (C826)\n",
    "- Measurements with spectrofluoremeter show that the chelated molecule shines with a peak at 425 nm when excited at 250 nm. The unchelated molecule response at that wavelength is rather week. \n",
    "- The unchelated molecule shines at 489 nm for all excitations, with higher response when excited with a blue laser (436 nm)."
   ]
  },
  {
   "cell_type": "markdown",
   "metadata": {
    "slideshow": {
     "slide_type": "subslide"
    }
   },
   "source": [
    "## C826\n",
    "\n",
    "<img align=\"center\" src=\"img/dipcCrown_8_2_6.png\" width=\"600\" height=\"600\"></img>\n",
    "\n",
    "- 8+2+6 Crown     : C826, developed by F. Cossio group. \n",
    "- Excitation light: 250 nm results in maximum separation between chelated and unchelated molecules\n"
   ]
  },
  {
   "cell_type": "markdown",
   "metadata": {
    "slideshow": {
     "slide_type": "slide"
    }
   },
   "source": [
    "## Laser for UV excitation (chelated molecule):\n",
    "\n",
    "https://www.rpmclasers.com/product/p4-235-5-2-0-5-236nm-microchip-laser/\n",
    "\n",
    "https://rpmclasers.com/wp-content/uploads/products/Multi-Wavelength%20Series%20v1_1.pdf\n",
    "\n",
    "- Wavelength      : 236 nm \n",
    "- Beam power      : 1 mW\n",
    "- Beam energy     : 0.5 muJ per pulse\n",
    "- Pulse width     : 1.4 nm \n",
    "- Beam rate.      : 1 - 10 kHz\n",
    "\n",
    "- Quote: The price for this laser is 16,173 and has a lead time of 12 weeks ARO.  This price includes the laser head, controller w/ software, power supply and heatsink, so it is everything you need to run the laser right out of the box. \n"
   ]
  },
  {
   "cell_type": "markdown",
   "metadata": {
    "slideshow": {
     "slide_type": "subslide"
    }
   },
   "source": [
    "- STU-01E-100 laser\n",
    "\n",
    "https://www.gophotonics.com/products/lasers/teem-photonics/29-689-stu-01e-1x0\n",
    "\n",
    "- Wavelength  : 266 nm \n",
    "- Beam power  : 2 mW\n",
    "- Beam energy : 1 muJ per pulse\n",
    "- Pulse width : 0.4 ns\n",
    "- Beam rate.  : 4 kHz\n",
    "\n",
    "- Quote: About the cost :\n",
    "- STU-01E-1xx laser unit 8 957 euro.\n",
    "- MLC-03A-DP1 controller unit 752 euro.\n",
    "- External trigger (3x) RR mode option xxx–x3x : 299 euro.\n",
    "- Note: other rep. rate mode options are not charge, ie. 0 euro.\n",
    "- Lead time : about 8-10 weeks.\n",
    "\n"
   ]
  },
  {
   "cell_type": "markdown",
   "metadata": {
    "slideshow": {
     "slide_type": "slide"
    }
   },
   "source": [
    "## SABAT-SMFI (wet)"
   ]
  },
  {
   "cell_type": "markdown",
   "metadata": {
    "slideshow": {
     "slide_type": "subslide"
    }
   },
   "source": [
    "### Beam"
   ]
  },
  {
   "cell_type": "code",
   "execution_count": 88,
   "metadata": {
    "slideshow": {
     "slide_type": "subslide"
    }
   },
   "outputs": [
    {
     "name": "stdout",
     "output_type": "stream",
     "text": [
      "\n",
      "        Laser:\n",
      "        lamda                     =2.7e+02 nm\n",
      "        photon energy             =4.7e+00 eV\n",
      "        power                     =2.0e+00 mW\n",
      "        repetition rate           =4.0e+00 kHz\n",
      "        pulse width               =2.5e-01 ms\n",
      "        energy per pulse          =5.0e-01 muJ\n",
      "        \n",
      "\n",
      "        FOV; x = 3.5e-02 mm; y = 3.5e-02 mm; z = 9.8e-04 mm; area = 1.2e-03 mm2 volume = 1.2e-06 mm3\n",
      "        \n",
      "power density for laser focused in FOV  = 163.3 W/cm2\n",
      "photon density for UV laser FOV (per pulse of 1 s)  = 2.2e+20 ph per cm2\n"
     ]
    }
   ],
   "source": [
    "laser = LaserBeam(lamda = 266 * nm, power = 2 * milliwatt, reprate = 4 * kHZ)\n",
    "print(laser)\n",
    "fov = FoV(x = 35 * micron, y = 35 * micron, z = 2 * 488 * nm)\n",
    "print(fov)\n",
    "print(f'power density for laser focused in FOV  = {power_density(laser,fov)/(W/cm2):5.1f} W/cm2')\n",
    "I = photon_density(laser, fov, 1*second)\n",
    "print(f'photon density for UV laser FOV (per pulse of 1 s)  = {I/(1/cm2):5.1e} ph per cm2')\n",
    "\n"
   ]
  },
  {
   "cell_type": "markdown",
   "metadata": {},
   "source": [
    "### Molecule"
   ]
  },
  {
   "cell_type": "code",
   "execution_count": 86,
   "metadata": {},
   "outputs": [
    {
     "name": "stdout",
     "output_type": "stream",
     "text": [
      "\n",
      "        Molecule name =C826; cross section = 9.0e-17 cm2; Q =   0.8\n",
      "        \n",
      "Fluorescence per molecule and pulse 1  second = 1.6e+04\n"
     ]
    }
   ],
   "source": [
    "m = Molecule(name='C826', sigma=9E-17 * cm2, Q = 0.8)  #guess\n",
    "print(m)\n",
    "flm = fluorescence_per_molecule(m, I, 1.0*second)\n",
    "print('Fluorescence per molecule and pulse 1  second = {0:5.1e}'.format(flm))\n",
    "\n"
   ]
  },
  {
   "cell_type": "markdown",
   "metadata": {
    "slideshow": {
     "slide_type": "slide"
    }
   },
   "source": [
    "### SABAT Microscope\n",
    "\n",
    "- The microscope for the dry experiment will operate in vacuum. Numerical aperture is limited to less than 1. We assume 0.7"
   ]
  },
  {
   "cell_type": "code",
   "execution_count": 89,
   "metadata": {
    "slideshow": {
     "slide_type": "slide"
    }
   },
   "outputs": [
    {
     "name": "stdout",
     "output_type": "stream",
     "text": [
      "\n",
      "        name                 = SABAT\n",
      "        NA                   =   0.7 \n",
      "        M                    = 100.0 \n",
      "        eff dichroic         =  0.85 \n",
      "        eff filter           =  0.80 \n",
      "        Optical transmission =  0.07\n",
      "        Filter  transmission =  0.68\n",
      "        Total transmission   =  0.05\n",
      "        \n"
     ]
    }
   ],
   "source": [
    "mc = Microscope(name='SABAT', numerical_aperture=0.7, magnification=100)\n",
    "print(mc)"
   ]
  },
  {
   "cell_type": "code",
   "execution_count": 90,
   "metadata": {},
   "outputs": [
    {
     "name": "stdout",
     "output_type": "stream",
     "text": [
      "\n",
      "        FOV; x = 8.0e-04 mm; y = 8.0e-04 mm; z = 2.0e-07 mm; area = 6.4e-07 mm2 volume = 1.3e-13 mm3\n",
      "        \n",
      "power density for laser focused in FOV  = 312500.0 W/cm2\n",
      "photon density for UV laser FOV (per pulse of 1s)  = 4.2e+23 ph per cm2\n",
      "Fluorescence per molecule and pulse 1 second = 3.0e+07\n",
      "nof photons reaching CCD = 1.5e+06\n"
     ]
    }
   ],
   "source": [
    "fov = FoV(x = 0.8 * micron, y = 0.8 * micron, z = 0.2 * nm) # assumes that laser power is quickly attenuatted with R\n",
    "print(fov)\n",
    "print(f'power density for laser focused in FOV  = {power_density(laser,fov)/(W/cm2):5.1f} W/cm2')\n",
    "I = photon_density(laser, fov, 1.0*second)\n",
    "print(f'photon density for UV laser FOV (per pulse of 1s)  = {I/(1/cm2):5.1e} ph per cm2')\n",
    "flm = fluorescence_per_molecule(m, I, 1*second)\n",
    "print('Fluorescence per molecule and pulse 1 second = {0:5.1e}'.format(flm))\n",
    "\n",
    "n_photons_reaching_CCD = flm * mc.transmission()\n",
    "print('nof photons reaching CCD = {0:5.1e}'.format(n_photons_reaching_CCD))\n",
    "\n"
   ]
  },
  {
   "cell_type": "code",
   "execution_count": null,
   "metadata": {},
   "outputs": [],
   "source": []
  },
  {
   "cell_type": "code",
   "execution_count": 94,
   "metadata": {},
   "outputs": [
    {
     "name": "stdout",
     "output_type": "stream",
     "text": [
      "nof photons reaching CCD = 1.5e+06\n",
      "nof photoelectrons CCD          = 1.0e+06\n",
      "nof photoelectrons in FOV (10 x 10 pixels)          = 1.0e+04\n",
      "nof photoelectrons per pixel    = 4.0e+00\n",
      "S/N per pixel                   = 2.0e+00\n"
     ]
    }
   ],
   "source": [
    "lamda_e = 425 * nm \n",
    "n_photoelectrons_CCD       = n_photons_reaching_CCD * ccd.efficiency(lamda_e)\n",
    "n_photoelectrons_pixel_CCD = photoelectrons_per_pixel(n_photoelectrons_CCD, ccd)\n",
    "\n",
    "print('nof photons reaching CCD = {0:5.1e}'.format(n_photons_reaching_CCD))\n",
    "print('nof photoelectrons CCD          = {0:5.1e}'.format(n_photoelectrons_CCD))\n",
    "print('nof photoelectrons in FOV (10 x 10 pixels)          = {0:5.1e}'.format(n_photoelectrons_CCD/100))\n",
    "print('nof photoelectrons per pixel    = {0:5.1e}'.format(n_photoelectrons_pixel_CCD))\n",
    "print('S/N per pixel                   = {0:5.1e}'.format(np.sqrt(n_photoelectrons_pixel_CCD)))"
   ]
  },
  {
   "cell_type": "markdown",
   "metadata": {
    "slideshow": {
     "slide_type": "slide"
    }
   },
   "source": [
    "## Dry fluorescence experiments\n",
    "\n",
    "- After completion of the wet experiments one could perform several dry experiments:\n",
    "\n",
    "1. Observe SMFI in unchelated monolayer.\n",
    "2. Observe SMFI in Barium-spiked (saturated) monolayer. \n",
    "3. Observe SMFI in monolayer + Ali drop.\n",
    "\n",
    "- An important point to decide is whether (1) and (2) can be performed \"in air\" or need to be performed in vacuum. This depends of the effect on the monolayer of atmosphera. We assume that (3) will be performed in vacuum. "
   ]
  },
  {
   "cell_type": "markdown",
   "metadata": {
    "slideshow": {
     "slide_type": "slide"
    }
   },
   "source": [
    "## Differences between PVA substrates (wet) and monolayer (dry)\n",
    "\n",
    "- The thickness of a monolayer is very thin. There are no \"background molecules\", like in the wet case. Therefore, TIRF is not needed. This is afortunate, on the other hand, since TIRF is not possible (no oil) in vacuum. One consequence is that the NA of the microscope will be smaller than one (assume 0.7)\n",
    "- We need to decide whether to decouple the laser movement and focusing from the objective movement and focusing. Perhpas the simple thing is to couple both and iluminate from behind the sample.\n",
    "- To perform the experiments we need a transparent substrate, either quartz or ITO. Perhaps quartz is best to start (we don't need an electric field yet), but ITO should also be investigated.\n",
    "- The photon absorption cross section should be of the same order than Fluo-3"
   ]
  },
  {
   "cell_type": "markdown",
   "metadata": {
    "slideshow": {
     "slide_type": "slide"
    }
   },
   "source": [
    "## SMFI in dry\n"
   ]
  },
  {
   "cell_type": "code",
   "execution_count": 7,
   "metadata": {
    "slideshow": {
     "slide_type": "subslide"
    }
   },
   "outputs": [
    {
     "ename": "NameError",
     "evalue": "name 'laser' is not defined",
     "output_type": "error",
     "traceback": [
      "\u001b[0;31m---------------------------------------------------------------------------\u001b[0m",
      "\u001b[0;31mNameError\u001b[0m                                 Traceback (most recent call last)",
      "\u001b[0;32m<ipython-input-7-4f37f35cc279>\u001b[0m in \u001b[0;36m<module>\u001b[0;34m\u001b[0m\n\u001b[0;32m----> 1\u001b[0;31m \u001b[0mdl\u001b[0m \u001b[0;34m=\u001b[0m \u001b[0mdiffraction_limit\u001b[0m\u001b[0;34m(\u001b[0m\u001b[0mlaser\u001b[0m\u001b[0;34m,\u001b[0m \u001b[0mmc\u001b[0m\u001b[0;34m)\u001b[0m\u001b[0;34m\u001b[0m\u001b[0;34m\u001b[0m\u001b[0m\n\u001b[0m\u001b[1;32m      2\u001b[0m \u001b[0mprint\u001b[0m\u001b[0;34m(\u001b[0m\u001b[0;34mf'the difraction limit in nm is {dl/nm:5.1f}'\u001b[0m\u001b[0;34m)\u001b[0m\u001b[0;34m\u001b[0m\u001b[0;34m\u001b[0m\u001b[0m\n",
      "\u001b[0;31mNameError\u001b[0m: name 'laser' is not defined"
     ]
    }
   ],
   "source": [
    "dl = diffraction_limit(laser, mc) \n",
    "print(f'the difraction limit in nm is {dl/nm:5.1f}')"
   ]
  },
  {
   "cell_type": "markdown",
   "metadata": {
    "slideshow": {
     "slide_type": "subslide"
    }
   },
   "source": [
    "#### With an amplification of 100 one could imagine a single molecule in one pixel. The difraction limit will be 10 x 10 mu after amplification, each pixel is 16 mu x 16 mu. Thus one consider a FOV of 160 x 160 nm, or in round number 200 nm. The numbers below show that we can do better than in the PRL, assuming that the cross sections and the quantum yield of the molecule are similar. "
   ]
  },
  {
   "cell_type": "code",
   "execution_count": 8,
   "metadata": {
    "slideshow": {
     "slide_type": "subslide"
    }
   },
   "outputs": [
    {
     "name": "stdout",
     "output_type": "stream",
     "text": [
      "\n",
      "        FOV; x = 2.0e-04 mm; y = 2.0e-04 mm; z = 1.0e-06 mm; area = 4.0e-08 mm2 volume = 4.0e-14 mm3\n",
      "        \n"
     ]
    },
    {
     "ename": "NameError",
     "evalue": "name 'luv' is not defined",
     "output_type": "error",
     "traceback": [
      "\u001b[0;31m---------------------------------------------------------------------------\u001b[0m",
      "\u001b[0;31mNameError\u001b[0m                                 Traceback (most recent call last)",
      "\u001b[0;32m<ipython-input-8-78fe2650e961>\u001b[0m in \u001b[0;36m<module>\u001b[0;34m\u001b[0m\n\u001b[1;32m      1\u001b[0m \u001b[0mfov\u001b[0m \u001b[0;34m=\u001b[0m \u001b[0mFoV\u001b[0m\u001b[0;34m(\u001b[0m\u001b[0mx\u001b[0m \u001b[0;34m=\u001b[0m \u001b[0;36m0.2\u001b[0m \u001b[0;34m*\u001b[0m \u001b[0mmicron\u001b[0m\u001b[0;34m,\u001b[0m \u001b[0my\u001b[0m \u001b[0;34m=\u001b[0m \u001b[0;36m0.2\u001b[0m \u001b[0;34m*\u001b[0m \u001b[0mmicron\u001b[0m\u001b[0;34m,\u001b[0m \u001b[0mz\u001b[0m \u001b[0;34m=\u001b[0m \u001b[0;36m1\u001b[0m \u001b[0;34m*\u001b[0m \u001b[0mnm\u001b[0m\u001b[0;34m)\u001b[0m \u001b[0;31m# assumes that laser power is quickly attenuatted with R\u001b[0m\u001b[0;34m\u001b[0m\u001b[0;34m\u001b[0m\u001b[0m\n\u001b[1;32m      2\u001b[0m \u001b[0mprint\u001b[0m\u001b[0;34m(\u001b[0m\u001b[0mfov\u001b[0m\u001b[0;34m)\u001b[0m\u001b[0;34m\u001b[0m\u001b[0;34m\u001b[0m\u001b[0m\n\u001b[0;32m----> 3\u001b[0;31m \u001b[0mprint\u001b[0m\u001b[0;34m(\u001b[0m\u001b[0;34mf'power density for laser focused in FOV  = {power_density(luv,fov)/(W/cm2):5.1f} W/cm2'\u001b[0m\u001b[0;34m)\u001b[0m\u001b[0;34m\u001b[0m\u001b[0;34m\u001b[0m\u001b[0m\n\u001b[0m\u001b[1;32m      4\u001b[0m \u001b[0mI\u001b[0m \u001b[0;34m=\u001b[0m \u001b[0mphoton_density\u001b[0m\u001b[0;34m(\u001b[0m\u001b[0mluv\u001b[0m\u001b[0;34m,\u001b[0m \u001b[0mfov\u001b[0m\u001b[0;34m,\u001b[0m \u001b[0;36m0.5\u001b[0m\u001b[0;34m*\u001b[0m\u001b[0msecond\u001b[0m\u001b[0;34m)\u001b[0m\u001b[0;34m\u001b[0m\u001b[0;34m\u001b[0m\u001b[0m\n\u001b[1;32m      5\u001b[0m \u001b[0mprint\u001b[0m\u001b[0;34m(\u001b[0m\u001b[0;34mf'photon density for UV laser FOV (per pulse of 500 ms)  = {I/(1/cm2):5.1e} ph per cm2'\u001b[0m\u001b[0;34m)\u001b[0m\u001b[0;34m\u001b[0m\u001b[0;34m\u001b[0m\u001b[0m\n",
      "\u001b[0;31mNameError\u001b[0m: name 'luv' is not defined"
     ]
    }
   ],
   "source": [
    "fov = FoV(x = 0.2 * micron, y = 0.2 * micron, z = 1 * nm) # assumes that laser power is quickly attenuatted with R\n",
    "print(fov)\n",
    "print(f'power density for laser focused in FOV  = {power_density(luv,fov)/(W/cm2):5.1f} W/cm2')\n",
    "I = photon_density(luv, fov, 0.5*second)\n",
    "print(f'photon density for UV laser FOV (per pulse of 500 ms)  = {I/(1/cm2):5.1e} ph per cm2')\n",
    "flm = fluorescence_per_molecule(m, I, 0.5*second)\n",
    "print('Fluorescence per molecule and pulse (500 ms) second = {0:5.1e}'.format(flm))\n"
   ]
  },
  {
   "cell_type": "code",
   "execution_count": null,
   "metadata": {},
   "outputs": [],
   "source": [
    "n_photons_reaching_CCD = flm * mc.transmission()\n",
    "print('nof photoelectrons reaching CCD = {0:5.1e}'.format(n_photons_reaching_CCD))\n",
    "\n",
    "n_photoelectrons_CCD       = n_photons_reaching_CCD * ccd.efficiency(laser.lamda)\n",
    "n_photoelectrons_pixel_CCD = photoelectrons_per_pixel(n_photoelectrons_CCD, ccd)\n",
    "\n",
    "print('nof photoelectrons CCD          = {0:5.1e}'.format(n_photoelectrons_CCD))\n",
    "print('nof photoelectrons per pixel    = {0:5.1e}'.format(n_photoelectrons_pixel_CCD))\n",
    "print('S/N per pixel                   = {0:5.1e}'.format(np.sqrt(n_photoelectrons_pixel_CCD)))"
   ]
  }
 ],
 "metadata": {
  "celltoolbar": "Slideshow",
  "kernelspec": {
   "display_name": "Python 3",
   "language": "python",
   "name": "python3"
  },
  "language_info": {
   "codemirror_mode": {
    "name": "ipython",
    "version": 3
   },
   "file_extension": ".py",
   "mimetype": "text/x-python",
   "name": "python",
   "nbconvert_exporter": "python",
   "pygments_lexer": "ipython3",
   "version": "3.7.1"
  },
  "widgets": {
   "state": {},
   "version": "1.0.0"
  }
 },
 "nbformat": 4,
 "nbformat_minor": 2
}
