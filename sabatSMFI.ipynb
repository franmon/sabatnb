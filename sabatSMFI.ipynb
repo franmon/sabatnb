{
 "cells": [
  {
   "cell_type": "code",
   "execution_count": 1,
   "metadata": {
    "slideshow": {
     "slide_type": "skip"
    }
   },
   "outputs": [],
   "source": [
    "%matplotlib inline\n",
    "from IPython.display import Image\n",
    "from IPython.display import Math\n",
    "from IPython.display import Latex"
   ]
  },
  {
   "cell_type": "code",
   "execution_count": 2,
   "metadata": {
    "slideshow": {
     "slide_type": "skip"
    }
   },
   "outputs": [
    {
     "name": "stdout",
     "output_type": "stream",
     "text": [
      "Last updated on  Mon Jan 21 11:37:16 2019\n"
     ]
    }
   ],
   "source": [
    "%load_ext autoreload\n",
    "%autoreload 2\n",
    "import os\n",
    "import sys\n",
    "import time\n",
    "import warnings\n",
    "import datetime \n",
    "print(\"Last updated on \", time.asctime())"
   ]
  },
  {
   "cell_type": "code",
   "execution_count": 169,
   "metadata": {
    "slideshow": {
     "slide_type": "skip"
    }
   },
   "outputs": [],
   "source": [
    "import seaborn as sns\n",
    "import numpy as np\n",
    "import pandas as pd\n",
    "import matplotlib\n",
    "import tables            as tb\n",
    "import random\n",
    "import glob\n",
    "import warnings\n",
    "sns.set()\n",
    "import matplotlib.pyplot as plt\n"
   ]
  },
  {
   "cell_type": "code",
   "execution_count": 58,
   "metadata": {
    "slideshow": {
     "slide_type": "skip"
    }
   },
   "outputs": [],
   "source": [
    "from dataclasses import dataclass"
   ]
  },
  {
   "cell_type": "code",
   "execution_count": 271,
   "metadata": {
    "slideshow": {
     "slide_type": "skip"
    }
   },
   "outputs": [],
   "source": [
    "from  invisible_cities.core.system_of_units import *"
   ]
  },
  {
   "cell_type": "code",
   "execution_count": 265,
   "metadata": {
    "slideshow": {
     "slide_type": "skip"
    }
   },
   "outputs": [],
   "source": [
    "@dataclass\n",
    "class FoV:\n",
    "    x : float\n",
    "    y : float\n",
    "    z : float\n",
    "        \n",
    "    def area(self)->float:\n",
    "        return self.x * self.y\n",
    "    \n",
    "    def volume(self)->float:\n",
    "        return self.x * self.y * self.z\n",
    "\n",
    "    def __repr__(self):\n",
    "        s =\"\"\"\n",
    "        FOV; x = {0:5.1e} mm; y = {1:5.1e} mm; z = {2:5.1e} mm; area = {3:5.1e} mm2 volume = {4:5.1e} mm3\n",
    "        \"\"\".format(self.x/mm, self.y/mm, self.z/mm, self.area()/mm2, self.volume()/mm3) \n",
    "                   \n",
    "        return s\n",
    " \n",
    "    \n",
    "@dataclass\n",
    "class LaserBeam:\n",
    "    lamda   : float\n",
    "    power   : float\n",
    "    reprate : float\n",
    "    \n",
    "    def photon_energy(self) -> float:\n",
    "        lnm = self.lamda / nm\n",
    "        return ((1240)/ lnm)*eV\n",
    "    \n",
    "    def pulse_width(self) -> float:\n",
    "        return 1./ self.reprate \n",
    "\n",
    "    def energy(self, time : float) -> float:\n",
    "        return self.power * time\n",
    "\n",
    "    def power_flux(self, fov : FoV) -> float:\n",
    "        return self.power / fov.area()\n",
    "    \n",
    "    \n",
    "    def __repr__(self):\n",
    "        s =\"\"\"\n",
    "        Laser:\n",
    "        lamda                     ={0:5.1e} nm\n",
    "        photon energy             ={1:5.1e} eV\n",
    "        power                     ={2:5.1e} mW\n",
    "        repetition rate           ={3:5.1e} kHz\n",
    "        pulse width               ={4:5.1e} ms\n",
    "        energy per pulse          ={5:5.1e} muJ\n",
    "        \"\"\".format(self.lamda/nm, \n",
    "                   self.photon_energy()/eV,\n",
    "                   self.power/miliwatt, \n",
    "                   self.reprate/kHz, \n",
    "                   self.pulse_width()/millisecond, \n",
    "                   self.energy(self.pulse_width())/microjoule)\n",
    "        return s\n",
    "    \n",
    "def power_density(lb : LaserBeam, fov : FoV)->float:\n",
    "    return lb.power / fov.area()\n",
    "\n",
    "def photon_density(lb : LaserBeam, fov : FoV, time : float)->float:\n",
    "    return power_density(lb, fov) * time / lb.photon_energy()\n",
    "\n",
    "\n",
    "@dataclass\n",
    "class Molecule:\n",
    "    name  : str\n",
    "    sigma : float\n",
    "    Q     : float\n",
    "    \n",
    "    def __repr__(self):\n",
    "        s =\"\"\"\n",
    "        Molecule name ={0}; cross section = {1:5.1e} cm2; Q = {2:5.1f}\n",
    "        \"\"\".format(self.name, \n",
    "                   self.sigma/cm2,\n",
    "                   self.Q)\n",
    "        return s\n",
    "\n",
    "def fluorescence_per_molecule(m: Molecule, I: float, time: float)->float:\n",
    "    \"\"\"\n",
    "    Returns the number of photons per molecule and time emitted by fluorescence.\n",
    "    Parameters:\n",
    "        m     : defines molecule\n",
    "        I     : photon density\n",
    "        time  : time \n",
    "    \n",
    "    \"\"\"\n",
    "    return m.sigma * m.Q * I\n",
    "\n",
    "\n",
    "@dataclass\n",
    "class DyeSample:\n",
    "    name          : str\n",
    "    concentration : float\n",
    "    volume        : float\n",
    "    Avogadro      : float = 6.023E+23\n",
    "\n",
    "    def n_molecules(self)->float:\n",
    "        return self.Avogadro * self.concentration * self.volume\n",
    "\n",
    "    def __repr__(self):\n",
    "        s =\"\"\"\n",
    "        Dye name ={0}; concentration = {1:5.1e} mole/l; V = {2:5.1e} l, nof molecules = {3:5.1e}\n",
    "        \"\"\".format(self.name, \n",
    "                   self.concentration/(mole/l),\n",
    "                   self.volume/l,\n",
    "                   self.n_molecules())\n",
    "                   \n",
    "        return s\n",
    "\n",
    "@dataclass\n",
    "class Microscope:\n",
    "    name              : str\n",
    "    numerical_aperture : float  \n",
    "    magnification     : float \n",
    "    eff_dichroic      : float = 0.85 \n",
    "    eff_filter        : float = 0.8\n",
    "    NA                : float = 1.4\n",
    "    M                 : float = 100\n",
    "    T                 : float = 0.3\n",
    "\n",
    "    \n",
    "    def optical_transmission(self)->float:\n",
    "        f1 = self.numerical_aperture / self.NA\n",
    "        f2 = self.magnification / self.M\n",
    "        return self.T * (f1/f2)**2 \n",
    "    \n",
    "    def filter_transmission(self)->float:\n",
    "        return self.eff_dichroic * self.eff_filter\n",
    "\n",
    "    def transmission(self)->float:\n",
    "        return self.optical_transmission() * self.filter_transmission()\n",
    "\n",
    "    def __repr__(self):\n",
    "        s =\"\"\"\n",
    "        name                 = {0}\n",
    "        NA                   = {1:5.1f} \n",
    "        M                    = {2:5.1f} \n",
    "        eff dichroic         = {3:5.2f} \n",
    "        eff filter           = {4:5.2f} \n",
    "        Optical transmission = {5:5.2f}\n",
    "        Filter  transmission = {6:5.2f}\n",
    "        Total transmission   = {7:5.2f}\n",
    "        \"\"\".format(self.name,\n",
    "                   self.numerical_aperture, \n",
    "                   self.magnification,\n",
    "                   self.eff_dichroic,\n",
    "                   self.eff_filter,\n",
    "                   self.optical_transmission(),\n",
    "                   self.filter_transmission(),\n",
    "                   self.transmission())\n",
    "                   \n",
    "        return s\n",
    "\n",
    "def diffraction_limit(l : LaserBeam, mc : Microscope)->float:\n",
    "    return l.lamda/(2 * mc.numerical_aperture)\n",
    "\n",
    "@dataclass\n",
    "class CCD:\n",
    "    name             : str = \"C9100-23B\"\n",
    "    n_pixels         : ()  = (512, 512) \n",
    "    size_pixels      : ()  = (16 * micron, 16 * micron) \n",
    "    effective_area   : ()  = (8.19 * mm, 8.19 * mm)\n",
    "    linear_full_well : ()  = (3.7E+5, 1.5E+5) # electrons\n",
    "    pixel_clock_rate : ()  = (22 * MHZ, 11 * MHZ, 0.6875 * MHZ)\n",
    "    dark_current     : float  = 0.005 # electron/pixel/s\n",
    "    readout_noise    : float  = 8 # electron\n",
    "    readout_speed    : float  = 72 # frames/s \n",
    "    \n",
    "    def pixels (self)->float:\n",
    "        return self.n_pixels[0] * self.n_pixels[1]\n",
    "    \n",
    "    def efficiency(self, lamda : np.array)->np.array:\n",
    "        xp = np.array([300,350,400,450,500,550,600,650,700,750,800,850,900,950,1000])\n",
    "        fp = np.array([0.1,0.2,0.55,0.8,0.92,0.98,0.98,0.92,0.9,0.8,0.7,0.55,0.4,0.2,0.1])\n",
    "        return np.interp(lamda/nm, xp, fp)\n",
    "\n",
    "def photoelectrons_per_pixel(np : float, ccd : CCD)->float:\n",
    "    return np / ccd.pixels()\n",
    "        "
   ]
  },
  {
   "cell_type": "markdown",
   "metadata": {
    "slideshow": {
     "slide_type": "slide"
    }
   },
   "source": [
    "# SABAT SMFI\n",
    "\n",
    "## Authors\n",
    "\n",
    "- J.J. Gomez-Cadenas \n",
    "- F. Monrabal\n",
    "- Austin McDonald \n",
    "\n",
    "[NEXT](https://next.ific.uv.es/next/)\n",
    "\n",
    "#### Contact\n",
    "\n",
    "\n",
    "- [Email](mailto:jjgomezcadenas@dipc.org)\n",
    "\n",
    "\n"
   ]
  },
  {
   "cell_type": "markdown",
   "metadata": {
    "slideshow": {
     "slide_type": "slide"
    }
   },
   "source": [
    "# This presentation\n",
    "\n",
    "- Introduces some elementary concepts on fluorescent molecules and microscopy\n",
    "- Reviews quantitatively NEXT PRL on Ba++ SMFI (NPRL from now on)\n",
    "- Presents working lines for the SABAT program"
   ]
  },
  {
   "cell_type": "markdown",
   "metadata": {
    "slideshow": {
     "slide_type": "slide"
    }
   },
   "source": [
    "# Elementary concepts"
   ]
  },
  {
   "cell_type": "markdown",
   "metadata": {
    "slideshow": {
     "slide_type": "slide"
    }
   },
   "source": [
    "## Fluorescent molecules \n",
    "\n",
    "- In the most basic sense fluorescence is a photon energy reducer. The molecule takes in a higher energy photon (short wavelength) and emits a lower energy one (longer wavelength). The difference in excitation and emission is know as the Stokes shift, and in general the larger the Stoke shift.\n",
    "\n",
    "<img align=\"center\" src=\"img/EmissionAbsorptionAlexa.png\" width=\"500\" height=\"500\"></img>\n"
   ]
  },
  {
   "cell_type": "markdown",
   "metadata": {
    "slideshow": {
     "slide_type": "subslide"
    }
   },
   "source": [
    "## Fluorescein\n",
    "\n",
    "- Fluorescein is the base fluorescent molecule for NPRL studies. A fluorescent molecule is a rigid molecule that emits light (stokes-shifted) when excited and requires no alteration to its energy levels. \n",
    "\n",
    "\n",
    "<img align=\"center\" src=\"img/fluoresceingMol.png\" width=\"200\" height=\"200\"></img>\n",
    "<img align=\"center\" src=\"img/Fluorescein.png\" width=\"500\" height=\"500\"></img>\n",
    "\n"
   ]
  },
  {
   "cell_type": "markdown",
   "metadata": {
    "slideshow": {
     "slide_type": "subslide"
    }
   },
   "source": [
    "## Fluorophore absorption\n",
    "\n",
    "<img align=\"center\" src=\"img/FluoroAbs.pdf\" width=\"800\" height=\"800\"></img>\n"
   ]
  },
  {
   "cell_type": "markdown",
   "metadata": {
    "slideshow": {
     "slide_type": "subslide"
    }
   },
   "source": [
    "<img align=\"center\" src=\"img/Beer-Lambert.png\" width=\"800\" height=\"800\"></img>\n",
    "\n"
   ]
  },
  {
   "cell_type": "markdown",
   "metadata": {
    "slideshow": {
     "slide_type": "subslide"
    }
   },
   "source": [
    "<img align=\"center\" src=\"img/FqY.png\" width=\"800\" height=\"800\"></img>\n"
   ]
  },
  {
   "cell_type": "markdown",
   "metadata": {
    "slideshow": {
     "slide_type": "subslide"
    }
   },
   "source": [
    "## Fluorescent indicator\n",
    "\n",
    "- A fluorescent indicator is a more complex molecule that usually requires some external bond or ion capture in order for its energy levels to allow photon emission. Fluo-3, Fluo-4 and C826 are fluorescent indicators. When it is not in the presence of a dication it can de-excite through its vibrational degrees of freedom, and in the presence of a certain dications the vibrational freedom is limited and photon emission is allowed. \n",
    "\n",
    "\n",
    "<img align=\"center\" src=\"img/Fluo3Fluo4.png\" width=\"500\" height=\"500\"></img>"
   ]
  },
  {
   "cell_type": "markdown",
   "metadata": {
    "slideshow": {
     "slide_type": "subslide"
    }
   },
   "source": [
    "- When the molecule ix complexed with the right dictation (e.g, Ca++ in figure) we say that the molecule is chelated.\n",
    "- In the case of a fluorescent indicator, chelated molecules emit more than unchelated molecules\n",
    "\n",
    "<img align=\"center\" src=\"img/Fluo3.png\" width=\"500\" height=\"500\"></img>\n",
    "<img align=\"center\" src=\"img/fluo3Spectra.png\" width=\"500\" height=\"500\"></img>\n"
   ]
  },
  {
   "cell_type": "markdown",
   "metadata": {
    "slideshow": {
     "slide_type": "subslide"
    }
   },
   "source": [
    "## Fading, quenching and photobleaching\n",
    "\n",
    "- The general term for a reduction of fluorescence emission intensity is fading, a catch-all category that is usually further subdivided into quenching and photobleaching phenomena for more precise descriptions. \n",
    "- Photobleaching is the irreversible decomposition of the fluorescent molecules in the excited state because of their interaction with molecular oxygen before emission. \n",
    "- The excited state relaxation process of quenching results in reduced fluorescence intensity through a variety of mechanisms involving non-radiative energy loss and frequently occurs as a result of oxidizing agents or the presence of salts or heavy metals or halogen compounds. \n",
    "- In some cases, quenching results from the transfer of energy to another molecule (termed the acceptor), which resides physically close to the excited fluorophore (the donor), a phenomenon known as fluorescence resonance energy transfer (FRET). "
   ]
  },
  {
   "cell_type": "markdown",
   "metadata": {
    "slideshow": {
     "slide_type": "subslide"
    }
   },
   "source": [
    "## Where to find more:\n",
    "\n",
    "http://priede.bf.lu.lv/grozs/Mikrobiologijas/BiotehIII/2013/Fluores_Theory_.pdf\n",
    "\n",
    "http://priede.bf.lu.lv/grozs/Mikrobiologijas/BiotehIII/2013/Fluorescence%20handout.pdf\n"
   ]
  },
  {
   "cell_type": "markdown",
   "metadata": {
    "slideshow": {
     "slide_type": "slide"
    }
   },
   "source": [
    "# Elementary concepts in microscopy\n",
    "\n",
    "- An introduction to fluorescence microscopy can be found [here](https://www.microscopyu.com/techniques/fluorescence/introduction-to-fluorescence-microscopy). In the next slides "
   ]
  },
  {
   "cell_type": "markdown",
   "metadata": {
    "slideshow": {
     "slide_type": "subslide"
    }
   },
   "source": [
    "## Fluorescent microscope\n",
    "\n",
    "\n",
    "<img align=\"center\" src=\"img/epiFluorescentMicroscope.png\"></img>\n",
    "\n"
   ]
  },
  {
   "cell_type": "markdown",
   "metadata": {
    "slideshow": {
     "slide_type": "subslide"
    }
   },
   "source": [
    "- Illustrated in figure is a cutaway diagram of a modern epi-fluorescence microscope equipped for both transmitted and reflected fluorescence microscopy. \n",
    "- The vertical illuminator in the center of the diagram has the light source positioned at one end and the filter cube turret at the other. \n",
    "- The design consists of a basic reflected light microscope in which the wavelength of the reflected light is longer than that of the excitation. \n",
    "- In a fluorescence vertical illuminator, light of a specific wavelength is produced by passing multispectral light from an arc-discharge lamp through a wavelength selective excitation filter. Wavelengths passed by the excitation filter reflect from the surface of a dichromatic (also termed a dichroic) mirror or beamsplitter, through the microscope objective to bath the specimen with intense light. \n",
    "- If the specimen fluoresces, the emission light gathered by the objective passes back through the dichromatic mirror and is subsequently filtered by a barrier (or emission) filter, which blocks the unwanted excitation wavelengths."
   ]
  },
  {
   "cell_type": "markdown",
   "metadata": {
    "slideshow": {
     "slide_type": "subslide"
    }
   },
   "source": [
    "## Epi-fluorescence illumination \n",
    "\n",
    "- In Epi-fluorescence illumination the reflected light vertical illuminator is interposed between the observation viewing tubes and the nosepiece housing the objectives. The illuminator is designed to direct light onto the specimen by first passing the excitation light through the microscope objective (which in this configuration, acts as a condenser) on the way toward the specimen, and then using that same objective to capture the emitted fluorescence. \n",
    "- This type of illuminator has several advantages. \n",
    "\n",
    "    a. The fluorescence microscope objective serves first as a well-corrected condenser and secondly as the image-forming light gatherer. Being a single component, the objective/condenser is always in perfect alignment.\n",
    "    \n",
    "    b. A majority of the excitation light reaching the specimen passes through without interaction and travels away from the objective, and the illuminated area is restricted to that which is observed through the eyepieces. \n",
    "        \n",
    "    c. The full numerical aperture of the objective is available when the microscope is properly configured."
   ]
  },
  {
   "cell_type": "markdown",
   "metadata": {
    "slideshow": {
     "slide_type": "subslide"
    }
   },
   "source": [
    "## Steering of the ligth. Filters\n",
    "\n",
    "<img align=\"center\" src=\"img/FluorescenceFilters.png\" width=\"300\" height=\"300\"></img>\n",
    "\n",
    "- Excitation light travels along the illuminator perpendicular to the optical axis of the microscope, passes through collector lenses and impinges upon the excitation filter where selection of the desired band and blockage of unwanted wavelength occurs. \n",
    "- The selected wavelengths, after passing through the excitation filter, reach the dichromatic beamsplitting mirror, which reflects shorter wavelength light and passes longer wavelength light. \n",
    "- The dichromatic beamsplitter is tilted at a 45-degree angle with respect to the incoming excitation light and reflects this illumination at a 90-degree angle directly through the objective optical system and onto the specimen. \n",
    "- Fluorescence emission produced by the illuminated specimen is gathered by the objective, now serving in its usual image-forming function. \n",
    "- Because the emitted light consists of longer wavelengths than the excitation illumination, it is able to pass through the dichromatic mirror and upward to the observation tubes or electronic detector."
   ]
  },
  {
   "cell_type": "markdown",
   "metadata": {
    "slideshow": {
     "slide_type": "subslide"
    }
   },
   "source": [
    "## Numerical aperture\n",
    "\n",
    "See: https://www.microscopyu.com/microscopy-basics/numerical-aperture"
   ]
  },
  {
   "cell_type": "markdown",
   "metadata": {
    "slideshow": {
     "slide_type": "slide"
    }
   },
   "source": [
    "# NPRL Experiment\n",
    "\n",
    "\n",
    "<img align=\"center\" src=\"img/smfi_uta_setup.png\" width=\"500\" height=\"500\"></img>\n",
    "\n"
   ]
  },
  {
   "cell_type": "markdown",
   "metadata": {
    "slideshow": {
     "slide_type": "subslide"
    }
   },
   "source": [
    "- The first setup used to measure the response in disolution (no cover slip) was similar (simpler)\n",
    "\n",
    "<img align=\"center\" src=\"img/AustinFirstSetup.png\" width=\"500\" height=\"500\"></img>\n",
    "\n",
    "\n",
    "\n"
   ]
  },
  {
   "cell_type": "markdown",
   "metadata": {
    "slideshow": {
     "slide_type": "subslide"
    }
   },
   "source": [
    "## Microscope\n",
    "\n",
    "- The apparatus is an [Olympus IX-70 inverted fluorescence microscope frame](https://www.olympus-lifescience.com/en/microscope-resource/primer/techniques/fluorescence/ix70fluorescence/)\n",
    "- The objective is an Olympus 100x 1.4 NA, and was used with Olympus immersion oil (n = 1.518). \n",
    "- Low-fluorescence coverslips of thickness 0.13 mm serve the combined role of sample substrates and imaging plane. \n",
    "- A Hamamatsu ImagEM X2 EM-CCD camera, was used to record the fluorescence emission. \n",
    "- The excitation source is an NKT Photonics SuperK EXTREME laser, which emits in a wide spectral range of 350-2350 nm. The laser light is filtered to a tunable band of width ± 1 nm in the visible range via an acousto-optical tunable filter (AOTF). The beam is then expanded, cleaned, and steered via an array of adjustable mirrors through a lens that focuses it onto the objective BFP. \n",
    "- Emission and excitation light are separated by a filter cube containing the dichroic mirror and emission and excitation filters. \n",
    "- Micrometer stages in the external optical system allow for focusing on the BFP and adjustment of the TIRF ray angle, and the image is brought into focus using sample stage adjustment on the microscope frame."
   ]
  },
  {
   "cell_type": "markdown",
   "metadata": {
    "slideshow": {
     "slide_type": "subslide"
    }
   },
   "source": [
    "## TIRF\n",
    "\n",
    "<img align=\"center\" src=\"img/TIRF2.png\" width=\"500\" height=\"500\"></img>\n",
    "\n"
   ]
  },
  {
   "cell_type": "markdown",
   "metadata": {
    "slideshow": {
     "slide_type": "subslide"
    }
   },
   "source": [
    "## CCD spectral response\n",
    "\n",
    "- Hamamatsu C9100: https://www.hamamatsu.com/eu/en/product/type/C9100-23B/index.html\n",
    "<img align=\"center\" src=\"img/C9100.png\" width=\"500\" height=\"500\"></img>\n"
   ]
  },
  {
   "cell_type": "markdown",
   "metadata": {
    "slideshow": {
     "slide_type": "subslide"
    }
   },
   "source": [
    "## SAMPLE PREPARATION \n",
    "\n",
    "- The studies use fluorophores that are immobilized at the sensor surface. This emulates the conditions in a HPGXe TPC detector, where the ions will drift to the sensor plate and adhere to fluorophores immobilized there. \n",
    "- The chosen method was to use a matrix of polyvinyl alcohol (PVA) trapping the fluors but allowing permeability of ions through-out the sample.\n",
    "- Coverslips were inspected for defects and cleaned by ultrasonic bath in acetone for 30 minutes and then ethanol for 30 minutes. Once clean, they were placed in a vacuum oven at 340 K to bake overnight. A buffer solution (pH 7.2) was established using ACS Ultra Trace water with imidazole and hydrochloric acid. PVA was added (5% by weight) to form the working buffer and placed in a hot water bath. Once the PVA is fully dissolved it is removed from the bath and set on a stir plate, with water added to reach the target volume. After 30 minutes the solution reaches room temperature and <span style=\"color:red\"> BAPTA is added to a concentration of 250 μM to suppress residual calcium.</span> \n",
    "- The SMFI fluor Fluo-3 is then added, to a concentration of 1 nM (<span style=\"color:blue\"> This is only a guess, the initial concentration was close to 1 muM</span>) . \n",
    "- Three background samples were made by placing 50 μL of solution onto a coverslip then spin coating it at 1800 rpm for 10 seconds. These will be referred to as the “barium-free” samples. \n",
    "- Ba++ was then added in the form of barium perchlorate salt solution to a target concentration of 500 μM, to make three “barium-spiked” samples (<span style=\"color:blue\"> The concentration is much larger than the concentration of the dye, so that most dye molecules in the spiked samples will be chelated</span>). \n",
    "- All samples were placed in an oven at 340 K for 4 hours, and then left to cure overnight at room temperature, in order to harden the PVA matrix.\n",
    "\n"
   ]
  },
  {
   "cell_type": "markdown",
   "metadata": {
    "slideshow": {
     "slide_type": "subslide"
    }
   },
   "source": [
    "## Fluo-3 and BAPTA\n",
    "\n",
    "- Fluo-3. the molecule used in NPRL is fluorescin bonded to BAPTA. BAPTA is a dication chelator it is generally used reduces the amount of free dications (positive ions) in solution. \n",
    "- BAPTA is also used to reduce the amount of free ions in the disolution, as illustrated in Figure. \n",
    "\n",
    "<img align=\"center\" src=\"img/BAPTA.png\" width=\"400\" height=\"400\"></img>\n",
    "<img align=\"center\" src=\"img/efffectBATA.png\" width=\"400\" height=\"400\"></img>\n"
   ]
  },
  {
   "cell_type": "markdown",
   "metadata": {
    "slideshow": {
     "slide_type": "subslide"
    }
   },
   "source": [
    "## Ba++ salt\n",
    "\n",
    "$$ Ba(ClO_4)_2 \\rightarrow Ba^{++} + 2 (CLO_4)^-$$"
   ]
  },
  {
   "cell_type": "markdown",
   "metadata": {
    "slideshow": {
     "slide_type": "subslide"
    }
   },
   "source": [
    "## Imaging \n",
    "\n",
    "\n",
    "- Prior to scanning the samples, the AOTF was set to <span style=\"color:red\"> 488 nm </span>, which is the peak excitation wavelength for Fluo-3.\n",
    "- The measured power entering the objective was <span style=\"color:red\"> 1 μW </span>. \n",
    "- The external optics were adjusted to place the system into <span style=\"color:red\"> total internal reflection mode </span> using prismatic alignment.\n",
    "- Surface sensitivity was checked with fluorescent micro-spheres. \n",
    "- Each sample was then placed onto the microscope stage and scanned.\n",
    "- The imaging protocol was to find a <span style=\"color:red\"> 35x 35 μm2 Field of View (FOV) </span> where at least one fluorescent spot was present, and focus the microscope on that spot by minimizing its point spread.\n",
    "- Once focus was achieved, images were taken every <span style=\"color:red\"> 500 ms </span> for 375 s. \n",
    "- Then, a new FOV was found by randomly translating the sample stage and refocusing. "
   ]
  },
  {
   "cell_type": "markdown",
   "metadata": {
    "slideshow": {
     "slide_type": "subslide"
    }
   },
   "source": [
    "<img align=\"center\" src=\"img/prlFOV.png\" width=\"500\" height=\"500\"></img> "
   ]
  },
  {
   "cell_type": "markdown",
   "metadata": {
    "slideshow": {
     "slide_type": "subslide"
    }
   },
   "source": [
    "## Observation of SMFI\n",
    "\n",
    "<img align=\"center\" src=\"img/prlPhotobleaching.png\" width=\"500\" height=\"500\"></img> "
   ]
  },
  {
   "cell_type": "markdown",
   "metadata": {
    "slideshow": {
     "slide_type": "slide"
    }
   },
   "source": [
    "# NPRL annnotated: "
   ]
  },
  {
   "cell_type": "markdown",
   "metadata": {
    "slideshow": {
     "slide_type": "slide"
    }
   },
   "source": [
    "## Beam"
   ]
  },
  {
   "cell_type": "code",
   "execution_count": 281,
   "metadata": {
    "slideshow": {
     "slide_type": "subslide"
    }
   },
   "outputs": [
    {
     "name": "stdout",
     "output_type": "stream",
     "text": [
      "\n",
      "        Laser:\n",
      "        lamda                     =4.9e+02 nm\n",
      "        photon energy             =2.5e+00 eV\n",
      "        power                     =1.0e-03 mW\n",
      "        repetition rate           =1.0e+03 kHz\n",
      "        pulse width               =1.0e-03 ms\n",
      "        energy per pulse          =1.0e-06 muJ\n",
      "        \n",
      "\n",
      "        FOV; x = 3.5e-02 mm; y = 3.5e-02 mm; z = 9.8e-04 mm; area = 1.2e-03 mm2 volume = 1.2e-06 mm3\n",
      "        \n",
      "power density for laser focused in FOV  = 163.3 W/cm2\n",
      "photon density for UV laser FOV (per pulse of 500 ms)  = 1.0e+20 ph per cm2\n"
     ]
    }
   ],
   "source": [
    "\n",
    "laser = LaserBeam(lamda = 488 * nm, power = 1 * microwatt, reprate = 1 * MHZ)\n",
    "print(laser)\n",
    "fov = FoV(x = 35 * micron, y = 35 * micron, z = 2 * 488 * nm)\n",
    "print(fov)\n",
    "print(f'power density for laser focused in FOV  = {power_density(luv,fov)/(W/cm2):5.1f} W/cm2')\n",
    "I = photon_density(luv, fov, 0.5*second)\n",
    "print(f'photon density for UV laser FOV (per pulse of 500 ms)  = {I/(1/cm2):5.1e} ph per cm2')\n"
   ]
  },
  {
   "cell_type": "markdown",
   "metadata": {
    "slideshow": {
     "slide_type": "slide"
    }
   },
   "source": [
    "## Microscope"
   ]
  },
  {
   "cell_type": "code",
   "execution_count": 282,
   "metadata": {
    "slideshow": {
     "slide_type": "subslide"
    }
   },
   "outputs": [
    {
     "name": "stdout",
     "output_type": "stream",
     "text": [
      "\n",
      "        name                 = Olympus\n",
      "        NA                   =   1.4 \n",
      "        M                    = 100.0 \n",
      "        eff dichroic         =  0.85 \n",
      "        eff filter           =  0.80 \n",
      "        Optical transmission =  0.30\n",
      "        Filter  transmission =  0.68\n",
      "        Total transmission   =  0.20\n",
      "        \n"
     ]
    }
   ],
   "source": [
    "mc = Microscope(name='Olympus', numerical_aperture=1.4, magnification=100)\n",
    "print(mc)"
   ]
  },
  {
   "cell_type": "markdown",
   "metadata": {
    "slideshow": {
     "slide_type": "slide"
    }
   },
   "source": [
    "## Molecule"
   ]
  },
  {
   "cell_type": "code",
   "execution_count": 288,
   "metadata": {
    "slideshow": {
     "slide_type": "subslide"
    }
   },
   "outputs": [
    {
     "name": "stdout",
     "output_type": "stream",
     "text": [
      "\n",
      "        Molecule name =Fluo-3; cross section = 9.0e-17 cm2; Q =   0.8\n",
      "        \n",
      "Fluorescence per molecule and pulse (500 ms) second = 7.4e+03\n"
     ]
    }
   ],
   "source": [
    "m = Molecule(name='Fluo-3', sigma=9E-17 * cm2, Q = 0.8)\n",
    "print(m)\n",
    "flm = fluorescence_per_molecule(m, I, 0.5*second)\n",
    "print('Fluorescence per molecule and pulse (500 ms) second = {0:5.1e}'.format(flm))\n"
   ]
  },
  {
   "cell_type": "markdown",
   "metadata": {
    "slideshow": {
     "slide_type": "slide"
    }
   },
   "source": [
    "## Dye"
   ]
  },
  {
   "cell_type": "code",
   "execution_count": 289,
   "metadata": {
    "slideshow": {
     "slide_type": "slide"
    }
   },
   "outputs": [
    {
     "name": "stdout",
     "output_type": "stream",
     "text": [
      "\n",
      "        Dye name =fluo3; concentration = 1.0e-09 mole/l; V = 1.2e-12 l, nof molecules = 7.2e+02\n",
      "        \n"
     ]
    }
   ],
   "source": [
    "ds = DyeSample(name = 'fluo3',  concentration = 1 * nanomole/l, volume = fov.volume())\n",
    "print(ds)"
   ]
  },
  {
   "cell_type": "markdown",
   "metadata": {
    "slideshow": {
     "slide_type": "slide"
    }
   },
   "source": [
    "## SFMI focusing\n",
    "\n",
    "- Once a molecule is identified in the FOV, the laser is focused on it: the difraction limit is around 200 nm"
   ]
  },
  {
   "cell_type": "code",
   "execution_count": 269,
   "metadata": {
    "slideshow": {
     "slide_type": "subslide"
    }
   },
   "outputs": [
    {
     "name": "stdout",
     "output_type": "stream",
     "text": [
      "the difraction limit in nm is 174.3\n"
     ]
    }
   ],
   "source": [
    "dl = diffraction_limit(laser, mc) \n",
    "print(f'the difraction limit in nm is {dl/nm:5.1f}')"
   ]
  },
  {
   "cell_type": "markdown",
   "metadata": {
    "slideshow": {
     "slide_type": "subslide"
    }
   },
   "source": [
    "- However, the image is projected into a region of 5 x 5 pixels. Each pixel is 16 mum, thus the lateral size of the projected area is 80 mum. Since the magnification of the microscope is 100, the lateral side of the imaged spot is 80/100 mum is 800 nm. "
   ]
  },
  {
   "cell_type": "code",
   "execution_count": 290,
   "metadata": {
    "slideshow": {
     "slide_type": "subslide"
    }
   },
   "outputs": [
    {
     "name": "stdout",
     "output_type": "stream",
     "text": [
      "\n",
      "        FOV; x = 8.0e-04 mm; y = 8.0e-04 mm; z = 2.0e-07 mm; area = 6.4e-07 mm2 volume = 1.3e-13 mm3\n",
      "        \n",
      "power density for laser focused in FOV  = 312500.0 W/cm2\n",
      "photon density for UV laser FOV (per pulse of 500 ms)  = 2.0e+23 ph per cm2\n",
      "Fluorescence per molecule and pulse (500 ms) second = 1.4e+07\n",
      "nof photoelectrons reaching CCD = 2.9e+06\n"
     ]
    }
   ],
   "source": [
    "\n",
    "fov = FoV(x = 0.8 * micron, y = 0.8 * micron, z = 0.2 * nm) # assumes that laser power is quickly attenuatted with R\n",
    "print(fov)\n",
    "print(f'power density for laser focused in FOV  = {power_density(luv,fov)/(W/cm2):5.1f} W/cm2')\n",
    "I = photon_density(luv, fov, 0.5*second)\n",
    "print(f'photon density for UV laser FOV (per pulse of 500 ms)  = {I/(1/cm2):5.1e} ph per cm2')\n",
    "flm = fluorescence_per_molecule(m, I, 0.5*second)\n",
    "print('Fluorescence per molecule and pulse (500 ms) second = {0:5.1e}'.format(flm))\n",
    "\n",
    "n_photons_reaching_CCD = flm * mc.transmission()\n",
    "print('nof photoelectrons reaching CCD = {0:5.1e}'.format(n_photons_reaching_CCD))\n"
   ]
  },
  {
   "cell_type": "markdown",
   "metadata": {
    "slideshow": {
     "slide_type": "slide"
    }
   },
   "source": [
    "## CCD"
   ]
  },
  {
   "cell_type": "code",
   "execution_count": 291,
   "metadata": {
    "slideshow": {
     "slide_type": "subslide"
    }
   },
   "outputs": [
    {
     "name": "stdout",
     "output_type": "stream",
     "text": [
      "CCD(name='C9100-23B', n_pixels=(512, 512), size_pixels=(0.016, 0.016), effective_area=(8.19, 8.19), linear_full_well=(370000.0, 150000.0), pixel_clock_rate=(0.022, 0.011, 0.0006875), dark_current=0.005, readout_noise=8, readout_speed=72)\n"
     ]
    },
    {
     "data": {
      "text/plain": [
       "[<matplotlib.lines.Line2D at 0x1a20c7feb8>]"
      ]
     },
     "execution_count": 291,
     "metadata": {},
     "output_type": "execute_result"
    },
    {
     "data": {
      "image/png": "[encoded data removed]",
      "text/plain": [
       "<Figure size 432x288 with 1 Axes>"
      ]
     },
     "metadata": {},
     "output_type": "display_data"
    }
   ],
   "source": [
    "x = np.arange(0., 1100., 1.) * nm\n",
    "ccd = CCD()\n",
    "print(ccd)\n",
    "y = ccd.efficiency(x)\n",
    "plt.plot(x, y)"
   ]
  },
  {
   "cell_type": "code",
   "execution_count": 292,
   "metadata": {
    "slideshow": {
     "slide_type": "subslide"
    }
   },
   "outputs": [
    {
     "name": "stdout",
     "output_type": "stream",
     "text": [
      "nof photoelectrons reaching CCD = 2.9e+06\n",
      "nof photoelectrons CCD          = 2.6e+06\n",
      "nof photoelectrons per pixel    = 9.8e+00\n",
      "S/N per pixel                   = 3.1e+00\n"
     ]
    }
   ],
   "source": [
    "n_photoelectrons_CCD       = n_photons_reaching_CCD * ccd.efficiency(laser.lamda)\n",
    "n_photoelectrons_pixel_CCD = photoelectrons_per_pixel(n_photoelectrons_CCD, ccd)\n",
    "\n",
    "print('nof photoelectrons reaching CCD = {0:5.1e}'.format(n_photons_reaching_CCD))\n",
    "print('nof photoelectrons CCD          = {0:5.1e}'.format(n_photoelectrons_CCD))\n",
    "print('nof photoelectrons per pixel    = {0:5.1e}'.format(n_photoelectrons_pixel_CCD))\n",
    "print('S/N per pixel                   = {0:5.1e}'.format(np.sqrt(n_photoelectrons_pixel_CCD)))"
   ]
  },
  {
   "cell_type": "markdown",
   "metadata": {
    "slideshow": {
     "slide_type": "subslide"
    }
   },
   "source": [
    "### The number is consistent with PRL paper.\n",
    "<img align=\"center\" src=\"img/prlPhotobleaching.png\" width=\"500\" height=\"500\"></img> "
   ]
  },
  {
   "cell_type": "markdown",
   "metadata": {
    "slideshow": {
     "slide_type": "slide"
    }
   },
   "source": [
    "# SABAT experiments: a proposal"
   ]
  },
  {
   "cell_type": "markdown",
   "metadata": {
    "slideshow": {
     "slide_type": "slide"
    }
   },
   "source": [
    "## State of the art: Molecule\n",
    "\n",
    "- F. Cossio and his group have developed a new molecule (C826)\n",
    "- Measurements with spectrofluoremeter show that the chelated molecule shines with a peak at 425 nm when excited at 250 nm. The unchelated molecule response at that wavelength is rather week. \n",
    "- The unchelated molecule shines at 489 nm for all excitations, with higher response when excited with a blue laser (436 nm)."
   ]
  },
  {
   "cell_type": "markdown",
   "metadata": {
    "slideshow": {
     "slide_type": "subslide"
    }
   },
   "source": [
    "## C826\n",
    "\n",
    "<img align=\"center\" src=\"img/dipcCrown_8_2_6.png\" width=\"600\" height=\"600\"></img>\n",
    "\n",
    "- 8+2+6 Crown     : C826, developed by F. Cossio group. \n",
    "- Excitation light: 250 nm results in maximum separation between chelated and unchelated molecules\n"
   ]
  },
  {
   "cell_type": "markdown",
   "metadata": {
    "slideshow": {
     "slide_type": "slide"
    }
   },
   "source": [
    "## State of the art: preparation and characterization of C826 monolayers\n",
    "\n",
    "## Steps:\n",
    "\n",
    "- Fernando adds a linker to the C826 molecule, so that a monolayer containing only the C826 molecule can be formed attaching molecule to a gold layer (refere to that sample as C826P, P stands for Pure).\n",
    "- C826P is inspected by the molecular physics group (Celia, Martina, Dimas, MPG from now on). What are the physical parameters that we can measure? Molecule density, monolayer sample, defaults, presence of contaminants?\n",
    "- C826P is extracted from the vacuum chamber and exposed to atmosphere, then inspected again. What do we observe?\n",
    "- A second sample is prepared dissolving a barium salt in the solution. Presumably this second sample is saturated with Ba++ ions. Refer to it as C826S (S from saturated). Repeat the same steps than for C826P.\n",
    "- Finally a third sample is prepared using an ALI (C826A) and inspection is repeated.\n"
   ]
  },
  {
   "cell_type": "markdown",
   "metadata": {
    "slideshow": {
     "slide_type": "slide"
    }
   },
   "source": [
    "## Wet fluorescence experiments\n",
    "\n",
    "1. Start observing SMFI for C826 in disolution, reproducing the steps of NPRL.\n",
    "2. The first experiment can be done with the unchelated molecule, shining a laser of 436 nm and observing the fluorescence at 489 nm. This allows us to fully test the setup before using a 250 nm laser to excite the molecule.\n",
    "3. The second experiment would then use a 250 nm laser and observe SMFI at 425 nm. Let's examine the numbers."
   ]
  },
  {
   "cell_type": "markdown",
   "metadata": {
    "slideshow": {
     "slide_type": "slide"
    }
   },
   "source": [
    "## Laser for UV excitation (chelated molecule):\n",
    "\n",
    "https://www.rpmclasers.com/product/p4-235-5-2-0-5-236nm-microchip-laser/\n",
    "\n",
    "https://rpmclasers.com/wp-content/uploads/products/Multi-Wavelength%20Series%20v1_1.pdf\n",
    "\n",
    "- Wavelength      : 236 nm \n",
    "- Beam power      : 1 mW\n",
    "- Beam energy     : 0.5 muJ per pulse\n",
    "- Pulse width     : 1.4 nm \n",
    "- Beam rate.      : 1 - 10 kHz\n",
    "\n",
    "- Quote: The price for this laser is 16,173 and has a lead time of 12 weeks ARO.  This price includes the laser head, controller w/ software, power supply and heatsink, so it is everything you need to run the laser right out of the box. \n",
    "\n",
    "- STU-01E-100 laser\n",
    "\n",
    "https://www.gophotonics.com/products/lasers/teem-photonics/29-689-stu-01e-1x0\n",
    "\n",
    "- Wavelength  : 266 nm \n",
    "- Beam power  : 2 mW\n",
    "- Beam energy : 1 muJ per pulse\n",
    "- Pulse width : 0.4 ns\n",
    "- Beam rate.  : 4 kHz\n",
    "\n",
    "- Quote: About the cost :\n",
    "- STU-01E-1xx laser unit 8 957 euro.\n",
    "- MLC-03A-DP1 controller unit 752 euro.\n",
    "- External trigger (3x) RR mode option xxx–x3x : 299 euro.\n",
    "- Note: other rep. rate mode options are not charge, ie. 0 euro.\n",
    "- Lead time : about 8-10 weeks.\n"
   ]
  },
  {
   "cell_type": "markdown",
   "metadata": {
    "slideshow": {
     "slide_type": "slide"
    }
   },
   "source": [
    "## SABAT-SMFI (wet)"
   ]
  },
  {
   "cell_type": "markdown",
   "metadata": {
    "slideshow": {
     "slide_type": "subslide"
    }
   },
   "source": [
    "### Beam"
   ]
  },
  {
   "cell_type": "code",
   "execution_count": 293,
   "metadata": {
    "slideshow": {
     "slide_type": "subslide"
    }
   },
   "outputs": [
    {
     "name": "stdout",
     "output_type": "stream",
     "text": [
      "\n",
      "        Laser:\n",
      "        lamda                     =2.7e+02 nm\n",
      "        photon energy             =4.7e+00 eV\n",
      "        power                     =1.0e+00 mW\n",
      "        repetition rate           =4.0e+00 kHz\n",
      "        pulse width               =2.5e-01 ms\n",
      "        energy per pulse          =2.5e-01 muJ\n",
      "        \n",
      "\n",
      "        FOV; x = 3.5e-02 mm; y = 3.5e-02 mm; z = 9.8e-04 mm; area = 1.2e-03 mm2 volume = 1.2e-06 mm3\n",
      "        \n",
      "power density for laser focused in FOV  = 163.3 W/cm2\n",
      "photon density for UV laser FOV (per pulse of 1 s)  = 2.1e+20 ph per cm2\n"
     ]
    }
   ],
   "source": [
    "laser = LaserBeam(lamda = 266 * nm, power = 1 * milliwatt, reprate = 4 * kHZ)\n",
    "print(laser)\n",
    "fov = FoV(x = 35 * micron, y = 35 * micron, z = 2 * 488 * nm)\n",
    "print(fov)\n",
    "print(f'power density for laser focused in FOV  = {power_density(luv,fov)/(W/cm2):5.1f} W/cm2')\n",
    "I = photon_density(luv, fov, 1*second)\n",
    "print(f'photon density for UV laser FOV (per pulse of 1 s)  = {I/(1/cm2):5.1e} ph per cm2')\n",
    "\n"
   ]
  },
  {
   "cell_type": "markdown",
   "metadata": {
    "slideshow": {
     "slide_type": "subslide"
    }
   },
   "source": [
    "### The number of photons is of the same order than NPR. Assuming the same concentrations of dye and techiques (including TIRF) it should be straight forward to observe SMFI.\n",
    "\n",
    "### Questions:\n",
    "\n",
    "- What are the absorption cross-section and qantum yield (or at least its product) of C826? The SMFI experiment should allow us to compare it with Fluo-3\n",
    "\n",
    "- What is the quenching time compared with Fluo-3?\n",
    "\n",
    "### One could consider to perform in the same setup a repetition of the NPRL experiment (Fluo-3) to provide a direct comparison with C826.\n"
   ]
  },
  {
   "cell_type": "markdown",
   "metadata": {
    "slideshow": {
     "slide_type": "slide"
    }
   },
   "source": [
    "## Dry fluorescence experiments\n",
    "\n",
    "- After completion of the wet experiments one could perform several dry experiments:\n",
    "\n",
    "1. Observe SMFI in unchelated monolayer.\n",
    "2. Observe SMFI in Barium-spiked (saturated) monolayer. \n",
    "3. Observe SMFI in monolayer + Ali drop.\n",
    "\n",
    "- An important point to decide is whether (1) and (2) can be performed \"in air\" or need to be performed in vacuum. This depends of the effect on the monolayer of atmosphera. We assume that (3) will be performed in vacuum. "
   ]
  },
  {
   "cell_type": "markdown",
   "metadata": {
    "slideshow": {
     "slide_type": "slide"
    }
   },
   "source": [
    "## Differences between PVA substrates (wet) and monolayer (dry)\n",
    "\n",
    "- The thickness of a monolayer is very thin. There are no \"background molecules\", like in the wet case. Therefore, TIRF is not needed. This is afortunate, on the other hand, since TIRF is not possible (no oil) in vacuum. One consequence is that the NA of the microscope will be smaller than one (assume 0.7)\n",
    "- We need to decide whether to decouple the laser movement and focusing from the objective movement and focusing. Perhpas the simple thing is to couple both and iluminate from behind the sample.\n",
    "- To perform the experiments we need a transparent substrate, either quartz or ITO. Perhaps quartz is best to start (we don't need an electric field yet), but ITO should also be investigated.\n",
    "- The photon absorption cross section should be of the same order than Fluo-3"
   ]
  },
  {
   "cell_type": "markdown",
   "metadata": {
    "slideshow": {
     "slide_type": "slide"
    }
   },
   "source": [
    "### SABAT Microscope"
   ]
  },
  {
   "cell_type": "code",
   "execution_count": 274,
   "metadata": {
    "slideshow": {
     "slide_type": "slide"
    }
   },
   "outputs": [
    {
     "name": "stdout",
     "output_type": "stream",
     "text": [
      "\n",
      "        name                 = SABAT\n",
      "        NA                   =   0.7 \n",
      "        M                    = 100.0 \n",
      "        eff dichroic         =  0.85 \n",
      "        eff filter           =  0.80 \n",
      "        Optical transmission =  0.07\n",
      "        Filter  transmission =  0.68\n",
      "        Total transmission   =  0.05\n",
      "        \n"
     ]
    }
   ],
   "source": [
    "mc = Microscope(name='SABAT', numerical_aperture=0.7, magnification=100)\n",
    "print(mc)"
   ]
  },
  {
   "cell_type": "markdown",
   "metadata": {
    "slideshow": {
     "slide_type": "slide"
    }
   },
   "source": [
    "## SMFI in dry\n"
   ]
  },
  {
   "cell_type": "code",
   "execution_count": 294,
   "metadata": {
    "slideshow": {
     "slide_type": "subslide"
    }
   },
   "outputs": [
    {
     "name": "stdout",
     "output_type": "stream",
     "text": [
      "the difraction limit in nm is  95.0\n"
     ]
    }
   ],
   "source": [
    "dl = diffraction_limit(laser, mc) \n",
    "print(f'the difraction limit in nm is {dl/nm:5.1f}')"
   ]
  },
  {
   "cell_type": "markdown",
   "metadata": {
    "slideshow": {
     "slide_type": "subslide"
    }
   },
   "source": [
    "#### With an amplification of 100 one could imagine a single molecule in one pixel. The difraction limit will be 10 x 10 mu after amplification, each pixel is 16 mu x 16 mu. Thus one consider a FOV of 160 x 160 nm, or in round number 200 nm. The numbers below show that we can do better than in the PRL, assuming that the cross sections and the quantum yield of the molecule are similar. "
   ]
  },
  {
   "cell_type": "code",
   "execution_count": 297,
   "metadata": {
    "slideshow": {
     "slide_type": "subslide"
    }
   },
   "outputs": [
    {
     "name": "stdout",
     "output_type": "stream",
     "text": [
      "\n",
      "        FOV; x = 2.0e-04 mm; y = 2.0e-04 mm; z = 1.0e-06 mm; area = 4.0e-08 mm2 volume = 4.0e-14 mm3\n",
      "        \n",
      "power density for laser focused in FOV  = 5000000.0 W/cm2\n",
      "photon density for UV laser FOV (per pulse of 500 ms)  = 3.1e+24 ph per cm2\n",
      "Fluorescence per molecule and pulse (500 ms) second = 2.3e+08\n",
      "nof photoelectrons reaching CCD = 4.6e+07\n",
      "nof photoelectrons CCD          = 4.6e+06\n",
      "nof photoelectrons per pixel    = 1.8e+01\n",
      "S/N per pixel                   = 4.2e+00\n"
     ]
    }
   ],
   "source": [
    "fov = FoV(x = 0.2 * micron, y = 0.2 * micron, z = 1 * nm) # assumes that laser power is quickly attenuatted with R\n",
    "print(fov)\n",
    "print(f'power density for laser focused in FOV  = {power_density(luv,fov)/(W/cm2):5.1f} W/cm2')\n",
    "I = photon_density(luv, fov, 0.5*second)\n",
    "print(f'photon density for UV laser FOV (per pulse of 500 ms)  = {I/(1/cm2):5.1e} ph per cm2')\n",
    "flm = fluorescence_per_molecule(m, I, 0.5*second)\n",
    "print('Fluorescence per molecule and pulse (500 ms) second = {0:5.1e}'.format(flm))\n",
    "\n",
    "n_photons_reaching_CCD = flm * mc.transmission()\n",
    "print('nof photoelectrons reaching CCD = {0:5.1e}'.format(n_photons_reaching_CCD))\n",
    "\n",
    "n_photoelectrons_CCD       = n_photons_reaching_CCD * ccd.efficiency(laser.lamda)\n",
    "n_photoelectrons_pixel_CCD = photoelectrons_per_pixel(n_photoelectrons_CCD, ccd)\n",
    "\n",
    "print('nof photoelectrons CCD          = {0:5.1e}'.format(n_photoelectrons_CCD))\n",
    "print('nof photoelectrons per pixel    = {0:5.1e}'.format(n_photoelectrons_pixel_CCD))\n",
    "print('S/N per pixel                   = {0:5.1e}'.format(np.sqrt(n_photoelectrons_pixel_CCD)))"
   ]
  }
 ],
 "metadata": {
  "celltoolbar": "Slideshow",
  "kernelspec": {
   "display_name": "Python 3",
   "language": "python",
   "name": "python3"
  },
  "language_info": {
   "codemirror_mode": {
    "name": "ipython",
    "version": 3
   },
   "file_extension": ".py",
   "mimetype": "text/x-python",
   "name": "python",
   "nbconvert_exporter": "python",
   "pygments_lexer": "ipython3",
   "version": "3.7.1"
  },
  "widgets": {
   "state": {},
   "version": "1.0.0"
  }
 },
 "nbformat": 4,
 "nbformat_minor": 2
}
