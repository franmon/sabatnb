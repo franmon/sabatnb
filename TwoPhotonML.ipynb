{
 "cells": [
  {
   "cell_type": "markdown",
   "metadata": {},
   "source": [
    "# Two photon monolayer"
   ]
  },
  {
   "cell_type": "markdown",
   "metadata": {},
   "source": [
    "- Ideas concerning the scan of a mono-layer made of FIB molecules and interrogated through 2p laser absorption "
   ]
  },
  {
   "cell_type": "code",
   "execution_count": 47,
   "metadata": {
    "slideshow": {
     "slide_type": "skip"
    }
   },
   "outputs": [
    {
     "name": "stdout",
     "output_type": "stream",
     "text": [
      "The autoreload extension is already loaded. To reload it, use:\n",
      "  %reload_ext autoreload\n"
     ]
    }
   ],
   "source": [
    "%matplotlib inline\n",
    "%load_ext autoreload\n",
    "%autoreload 2\n",
    "import matplotlib.pyplot as plt\n",
    "plt.rcParams[\"figure.figsize\"] = 10, 8\n",
    "plt.rcParams[\"font.size\"     ] = 14"
   ]
  },
  {
   "cell_type": "code",
   "execution_count": 48,
   "metadata": {},
   "outputs": [],
   "source": [
    "from IPython.display import Image\n",
    "from IPython.display import Math\n",
    "from IPython.display import Latex"
   ]
  },
  {
   "cell_type": "code",
   "execution_count": 49,
   "metadata": {
    "slideshow": {
     "slide_type": "skip"
    }
   },
   "outputs": [
    {
     "name": "stdout",
     "output_type": "stream",
     "text": [
      "Last updated on  Fri Apr 19 09:27:31 2019\n"
     ]
    }
   ],
   "source": [
    "import os\n",
    "import sys\n",
    "import time\n",
    "import warnings\n",
    "import datetime \n",
    "print(\"Last updated on \", time.asctime())"
   ]
  },
  {
   "cell_type": "code",
   "execution_count": 50,
   "metadata": {
    "slideshow": {
     "slide_type": "skip"
    }
   },
   "outputs": [],
   "source": [
    "import seaborn as sns\n",
    "import numpy as np\n",
    "import pandas as pd\n",
    "import matplotlib\n",
    "import matplotlib.pyplot as plt\n",
    "import tables            as tb\n",
    "import random\n",
    "import glob\n",
    "import warnings\n",
    "sns.set()"
   ]
  },
  {
   "cell_type": "code",
   "execution_count": 51,
   "metadata": {
    "slideshow": {
     "slide_type": "skip"
    }
   },
   "outputs": [],
   "source": [
    "from  invisible_cities.core.system_of_units import *"
   ]
  },
  {
   "cell_type": "code",
   "execution_count": 52,
   "metadata": {},
   "outputs": [],
   "source": [
    "from sabat.sbt_types import FoV, CircularFoV, Monolayer\n",
    "from sabat.sbt_types import Laser, PulsedLaser, GLaser, GaussianBeam\n",
    "from sabat.sbt_types import Molecule\n",
    "from sabat.sbt_types import Molecule2P\n",
    "from sabat.sbt_types import DyeSample\n",
    "from sabat.sbt_types import Microscope\n",
    "from sabat.sbt_types import CCD"
   ]
  },
  {
   "cell_type": "code",
   "execution_count": 53,
   "metadata": {},
   "outputs": [],
   "source": [
    "from sabat.sbt_core import  power_density\n",
    "from sabat.sbt_core import  photon_density\n",
    "from sabat.sbt_core import  fluorescence_per_molecule\n",
    "from sabat.sbt_core import  duration_of_fluorescence\n",
    "from sabat.sbt_core import  diffraction_limit\n",
    "from sabat.sbt_core import  photoelectrons_per_pixel\n",
    "from sabat.sbt_core import  fluorescence_2p\n",
    "from sabat.sbt_core import  absorbed_photons_per_fluorophore_per_pulse_2p"
   ]
  },
  {
   "cell_type": "code",
   "execution_count": 54,
   "metadata": {},
   "outputs": [],
   "source": [
    "from sabat.sbt_types import  photon, molecule, GM, us, ucm2, ucm3, gp "
   ]
  },
  {
   "cell_type": "markdown",
   "metadata": {},
   "source": [
    "# Relevant papers\n",
    "\n",
    "https://www.osapublishing.org/DirectPDFAccess/6D7E7982-90AC-2FC4-1BC45ECB85CF58B0_33721/josab-13-3-481.pdf?da=1&id=33721&seq=0&mobile=no\n",
    "\n",
    "http://www.aomf.ca/pdfs/Denk1990.pdf\n",
    "\n",
    "See also:\n",
    "\n",
    "http://micro.magnet.fsu.edu/primer/techniques/fluorescence/multiphoton/multiphotonintro.html\n",
    "\n",
    "http://xrm.phys.northwestern.edu/research/pdf_papers/chapters/wilson_sheppard_chaps1-5.pdf\n",
    "\n",
    "https://www.photonics.ethz.ch/fileadmin/user_upload/Courses/NanoOptics/\n",
    "\n",
    "https://www.newport.com/n/gaussian-beam-optics\n",
    "\n",
    "## Author\n",
    "\n",
    "- J.J. Gomez-Cadenas [NEXT](https://next.ific.uv.es/next/) \n",
    "\n",
    "#### Contact\n",
    "\n",
    "\n",
    "- [Email](mailto:jjgomezcadenas@dipc.org)\n",
    "\n",
    "\n"
   ]
  },
  {
   "cell_type": "markdown",
   "metadata": {},
   "source": [
    "## Two Photon Absorption\n",
    "\n",
    "Two-photon absorption (TPA) is the physical process by which  two photons of identical or different frequencies are absorbed by a molecule. The energy difference between the involved lower and upper states of the molecule equals  the sum of the energies of the two photons absorbed. TPA is a second-order process, typically several orders of magnitude weaker than linear absorption at low light intensities. In TPA the transition rate depends on the square of the light intensity. The non-linear nature of the process can make TPA dominate over linear absorption at high intensities.\n",
    "\n",
    "Two-photon absorption can lead to two-photon-excited fluorescence (TPEF) where the excited state produced by TPA decays by spontaneous emission to a lower energy state \n",
    "\n",
    "<img align=\"center\" src=\"img/TPEM.png\" width=\"500\" height=\"500\"></img>\n",
    "\n",
    "\n",
    "\n",
    "In two-photon excitation microscopy (TPEM) a pulsed laser beam (often infrared, since many common dyes absorb in the blue) is focused through an objective lens. The  laser pulse width is in the range of 100 femtoseconds and the repetition rate in the range of 100 MHz, allowing the high photon density and flux required for two photons absorption\n"
   ]
  },
  {
   "cell_type": "markdown",
   "metadata": {},
   "source": [
    "## Mathematical formulation\n",
    "\n",
    "Because TPA is a second-order process, the number of photons absorbed per molecule per unit time is proportional to the two-photon absorption cross section $\\delta$ and to the square of the incident intensity $I$. In a particular experiment, the total number of photons absorbed per unit time \n",
    "$N_{abs}$~ is also a function of dye concentration $C$~ (assumed to be constant in the absence of saturation and photobleaching) and the illuminated sample volume $V$. Thus:\n",
    "\n",
    "\\begin{equation}\n",
    "N_{abs}(t) = C \\delta \\int_V I^2({\\bf r}, t) dV.\n",
    "\\end{equation}\n",
    "\n",
    "For the lasers used for TPEM, it is possible to separate the time and space dependent of the excitation intensity, $I({\\bf r}, t) = I_0(t) S({\\bf r})$. Then:\n",
    "\n",
    "\\begin{equation}\n",
    "N_{abs}(t) = C \\delta I_0^2(t) \\int_V S^2({\\bf r}) dV.\n",
    "\\end{equation}\n",
    "\n",
    "Assuming no stimulated emission and self-quenching, the number of fluorescence photons collected per unit time ($F$) is given by:\n",
    "\n",
    "\\begin{equation}\n",
    "F(t) = \\frac{1}{2}\\epsilon Q N_{abs}(t).\n",
    "\\end{equation}\n",
    "\n",
    "Where $\\epsilon$~ is the microscope detection efficiency and $Q$~is the quantum efficiency of the dye. The factor 1/2 reflects the fact that two photons are needed for each excitation event.\n",
    "\n",
    "In practice one measures the time-averaged flux, $<F(t)>$:\n",
    "\\begin{equation}\n",
    "<F(t)> = \\frac{1}{2}\\epsilon Q C \\delta <I_0^2(t)> \\int_V S^2({\\bf r}) dV.\n",
    "\\end{equation}\n",
    "\n",
    "Notice that $<F(t)>$ is proportional to $<I_0^2(t)>$, but the microscope measures a signal proportional to $<I_0(t)>$. Defining:\n",
    "\n",
    "\\begin{equation}\n",
    "g = \\frac{<I_0^2(t)>}{<I_0(t)>^2},\n",
    "\\end{equation}\n",
    "\n",
    "we can write: \n",
    "\\begin{equation}\n",
    "<F(t)> = \\frac{1}{2}\\epsilon Q C \\delta g <I_0^2(t)>^2 \\int_V S^2({\\bf r}) dV (1).\n",
    "\\label{eq.F}\n",
    "\\end{equation}\n",
    "\n",
    "### Gaussian laser beam\n",
    "To compute the integral $\\int_V S^2({\\bf r})$~it is useful to approximate the laser as a gaussian laser beam, defined as:\n",
    "\n",
    "\\begin{equation}\n",
    "S({\\bf r}) = S(r, z) = \\left[ \\frac{w_0}{w(z)}\\right]^2 e^{\\frac{-2 r^2}{w(z)^2}}.\n",
    "\\end{equation}\n",
    "\n",
    "\n",
    "The parameter $w_0$, usually called the Gaussian beam radius (or beam waist), is the radius at which the intensity has decreased to $1/e^2$~ or 0.135 of its axial, or peak value. At $2 w_0$, or twice the Gaussian radius, the intensity is 0.0003 of its peak value, usually completely negligible.\n",
    "\n",
    "The evolution with the longitudinal coordinate $z$~of the beam radius is described by the equation:\n",
    "\n",
    "\\begin{equation}\n",
    "w(z) = w_0 \\sqrt{1 + (\\frac{z}{z_R})^2}.\n",
    "\\end{equation}\n",
    "\n",
    "where the Rayleigh radius $z_R$~is defined as:\n",
    " \\begin{equation}\n",
    "z_R = \\frac{\\pi w_0}{\\lambda},\n",
    "\\end{equation}\n",
    "\n",
    "and $\\lambda$ is the incident light wavelength. \n",
    "\n",
    "If a gaussian beam is focused with a lens of numerical aperture A, the \n",
    "$w_0$ is related with the numerical aperture of the lens (in the difraction limist) as:\n",
    "$$ w_0 = \\frac{\\lambda}{\\pi A}$$\n",
    "\n",
    "and\n",
    "\n",
    "$$ z_r =  \\frac{\\pi w_0^2 }{\\lambda} = \\frac{\\lambda }{\\pi A^2}$$\n",
    "\n",
    "<img align=\"center\" src=\"img/wz.png\" width=\"500\" height=\"500\"></img>\n",
    "\n",
    "\n",
    "The beam power is obtained integrating the intensity distribution:\n",
    "\n",
    "\\begin{equation}\n",
    "P = \\int_0^\\infty I(r, z=0) ~2 \\pi r dr =  I_0 \\int_0^\\infty  2 \\pi r e^{-2 r^2/w_0^2} dr (2),\n",
    "= \\frac{1}{2} I_0 \\pi w_0^2.\n",
    "\\end{equation}\n",
    "\n",
    "and thus:\n",
    "\n",
    "\\begin{equation}\n",
    "I_0 = \\frac{2 P}{ \\pi w_0^2}.\n",
    "\\label{eq.P}\n",
    "\\end{equation}\n",
    "\n",
    "\n",
    "The integral of the square of the Gaussian beam to the full volume yields:\n",
    "\n",
    "\\begin{equation}\n",
    "\\int_{V\\rightarrow \\infty} I^2(r, z) = \\int_{-\\infty}^\\infty dz \\int_0^\\infty I^2(r, z) ~2 \\pi r dr.\n",
    "\\end{equation}\n",
    "\n",
    "The integral in the radial coordinates is: \n",
    "\n",
    "\\begin{equation}\n",
    "\\int_0^\\infty I^2(r, z) ~2 \\pi r dr = \\left[ \\frac{w_0}{w(z)}\\right]^4 \\int_0^\\infty 2 \\pi r e^{-4 r^2/w_0^2} dr\n",
    "=  \\left[ \\frac{w_0}{w(z)}\\right]^4 \\frac{1}{4}  \\pi w(z)^2 \n",
    "= \\frac{\\pi w_0^4}{4 w(z)^2}\n",
    "\\end{equation}\n",
    "\n",
    "The integral in the longitudinal coordinate is: \n",
    "\n",
    "\\begin{equation}\n",
    "\\int_{-\\infty}^\\infty dz  \\frac{\\pi w_0^4}{4 w(z)^2} =  \n",
    "\\frac{\\pi w_0^4}{4} \\int_{-\\infty}^\\infty \\frac{dz}{w(z)^2}  = \n",
    "\\frac{\\pi w_0^4}{4} \\int_{-\\infty}^\\infty \\frac{dz}{w_0^2 (1 + (z/z_R)^2)} =\n",
    "\\frac{\\pi w_0^2}{4} \\pi z_R.\n",
    "\\end{equation}\n",
    "\n",
    "It follows that for an \"infinitely thick sample\", we find:\n",
    "\n",
    "\\begin{equation}\n",
    "\\int_{V\\rightarrow \\infty} I^2(r, z) =\\frac{\\pi w_0^2}{4} \\pi \\frac{\\pi w_0^2}{\\lambda} =\n",
    "\\frac{\\pi^3 w_0^4}{4 \\lambda} (3)\n",
    "\\label{eq.I}\n",
    "\\end{equation}\n",
    "\n",
    "Substituting equation (2) and equation  (3) in \n",
    "equation (1), we find:\n",
    "\n",
    "\\begin{equation}\n",
    "<F(t)> = \\frac{1}{2}\\epsilon Q C \\delta g \\frac{4 P^2}{\\pi^2 w_0^4} \\frac{\\pi^3 w_0^4}{4 \\lambda}\n",
    "=  \\frac{1}{2}\\epsilon Q C \\delta g  \\frac{\\pi}{ \\lambda} P(t)^2.\n",
    "\\end{equation}\n",
    "\n",
    "In the calculation above, the refraction index $n$~has been assumed to be 1. Writing it down explicitly we find the expected value of the TPA induced fluorescence under the approximation of a Gaussian laser beam (notice also that the sample is assume to be infinitely thick compared, since we integrate z between $\\pm \\infty$):\n",
    "\n",
    "\\begin{equation}\n",
    "<F(t)> = \\frac{1}{2}\\epsilon Q C \\delta g  \\frac{n \\pi}{ \\lambda} P(t)^2 \\,\\,\\,(4).\n",
    "\\label{eq.FF}\n",
    "\\end{equation}\n",
    "\n",
    "Notice also that, according to equation 4, $F(t)$~does not depend on the beam waist (or equivalently of the numerical aperture). \n",
    "\n",
    "### Temporal dependence for a pulse laser\n",
    "\n",
    "<img align=\"center\" src=\"img/pulsed_beam.png\" width=\"500\" height=\"500\"></img>\n",
    "\n",
    "The focused intensity obtained from a mode-locked laser is a periodic function of time\n",
    "defined by the pulse repetition rate (f) and the pulse width (FWHM), $\\tau$.  For pulses with a temporal profile one can write:\n",
    "\n",
    "\\begin{equation}\n",
    "I(t) = I_p \\exp{[-4 \\log 2 (\\frac{t}{\\tau})^2]} \\,\\,\\, (5)\n",
    "\\label{eq.GT}\n",
    "\\end{equation}\n",
    "\n",
    "Because of the periodic nature of the pulse train, one needs to calculate g for only one cycle. \n",
    "\n",
    "\\begin{equation}\n",
    "g = \\frac{g_p}{f\\tau},\n",
    "\\label{eq.gp}\n",
    "\\end{equation}\n",
    "\n",
    "where:\n",
    "\n",
    "$$\n",
    "g_p = \\frac{\\tau \\int_{-1/(2f)}^{1/(2f)} I_0^2(t)}{[\\tau \\int_{-1/(2f)}^{1/(2f)} I_0(t)]^2} \\,\\,\\, (6)\n",
    "$$\n",
    "\n",
    "Substituting (5) into (6), we find: \n",
    "\n",
    "\\begin{equation}\n",
    "g_p = \\frac{0.75  erf(\\frac{2.35}{ 2 f\\tau})}{1.134  erf(\\frac{1.66}{ 2 f\\tau})^2}. \n",
    "\\end{equation}\n",
    "\n",
    "Setting $f \\tau = 1/2$, we find $g_p = 0.664$.\n",
    "\n",
    "### TPA fluorescence for a gaussian pulsed beam\n",
    "\n",
    "Substituting (6) into (4) we find, finally:\n",
    "\n",
    "\\begin{equation}\n",
    "<F(t)> = \\frac{1}{2}\\epsilon Q C \\delta \\frac{g_p}{f \\tau}  \\frac{n \\pi}{ \\lambda} P(t)^2. \\,\\,\\, (7)\n",
    "\\end{equation}\n",
    "\n",
    "Notice that the units are photons per unit time, as expected: \n",
    "\n",
    "\\begin{equation}\n",
    "[<F(t)>] = {\\rm \\frac{molecule}{L^3}\\frac{L^4 T}{photon \\, molecule}  L^{-1}\n",
    "\\frac{photons^2}{T^2}  =  \\frac{photon}{T}}\n",
    "\\end{equation}"
   ]
  },
  {
   "cell_type": "markdown",
   "metadata": {},
   "source": [
    "## The FIB molecule"
   ]
  },
  {
   "cell_type": "code",
   "execution_count": 21,
   "metadata": {},
   "outputs": [
    {
     "data": {
      "text/plain": [
       "\n",
       "        Molecule name =Fluorescein; cross section = 3.0e-16 cm2; Q =   0.9\n",
       "        "
      ]
     },
     "execution_count": 21,
     "metadata": {},
     "output_type": "execute_result"
    }
   ],
   "source": [
    "fl = Molecule(name = 'Fluorescein', sigma=3E-16 * cm2, Q=0.9)\n",
    "fl"
   ]
  },
  {
   "cell_type": "markdown",
   "metadata": {},
   "source": [
    "## C826\n",
    "\n",
    "<img align=\"center\" src=\"img/dipcCrown_8_2_6.png\" width=\"600\" height=\"600\"></img>\n",
    "\n",
    "- 8+2+6 Crown     : C826, developed by F. Cossio group. \n",
    "- Excitation light: 250 nm results in maximum separation between chelated and unchelated molecules\n"
   ]
  },
  {
   "cell_type": "markdown",
   "metadata": {},
   "source": [
    "### Molecule\n",
    "- Assuming until measurement same cross section that for Fluorecein.\n",
    "- **need to measure the single photon and two photon absorption cross sections for FIB**"
   ]
  },
  {
   "cell_type": "markdown",
   "metadata": {},
   "source": [
    "#### 1 GM = 1e-50 * cm2*cm2*second / (photon * molecule)"
   ]
  },
  {
   "cell_type": "code",
   "execution_count": 61,
   "metadata": {},
   "outputs": [],
   "source": [
    "fl2 = Molecule2P(name = 'FIB', sigma=3E-16 * cm2, Q=0.9,\n",
    "                lamda = np.array([500 * nm]), \n",
    "                s2    = np.array([10 * GM]))"
   ]
  },
  {
   "cell_type": "code",
   "execution_count": 62,
   "metadata": {},
   "outputs": [
    {
     "name": "stdout",
     "output_type": "stream",
     "text": [
      " Assume TPA cross section for FIB at 500 nm in GM = 10.0\n"
     ]
    }
   ],
   "source": [
    "print(f' Assume TPA cross section for FIB at 500 nm in GM = {fl2.sigma2(500*nm) /GM}')"
   ]
  },
  {
   "cell_type": "markdown",
   "metadata": {},
   "source": [
    "### Laser beam\n",
    "- The essential parameter in the laser beam is beam repetition, since the power saturates (there are enough photons to guarantee that each fluorophere absorbs two of them). Let's assume a \"standard\" beam of 100 MHz"
   ]
  },
  {
   "cell_type": "code",
   "execution_count": 122,
   "metadata": {},
   "outputs": [
    {
     "data": {
      "text/plain": [
       "\n",
       "        Pulsed Laser:\n",
       "        wavelength                =5.0e+02 nm\n",
       "        photon energy             =2.5e+00 eV\n",
       "        power                     =6.0e+02 mW\n",
       "        repetition rate           =1.0e+02 kHz\n",
       "        pulse width               =1.0e+02 fs\n",
       "        energy per pulse          =6.0e+04 fJ\n",
       "        energy per second         =6.0e+02 mJ\n",
       "        photons per second        =1.5e+18 ph/second\n",
       "        "
      ]
     },
     "execution_count": 122,
     "metadata": {},
     "output_type": "execute_result"
    }
   ],
   "source": [
    "lb = PulsedLaser(lamda=500*nm, power=600*mW, f=100*MHZ, tau=100*femtosecond)  \n",
    "lb"
   ]
  },
  {
   "cell_type": "markdown",
   "metadata": {},
   "source": [
    "### Microscope"
   ]
  },
  {
   "cell_type": "code",
   "execution_count": 64,
   "metadata": {},
   "outputs": [
    {
     "name": "stdout",
     "output_type": "stream",
     "text": [
      "\n",
      "        name                 = Espinardo\n",
      "        NA                   =   0.5\n",
      "        M                    =  20.0\n",
      "        eff dichroic         =  0.85\n",
      "        eff filter           =  0.16\n",
      "        Optical transmission =  0.96\n",
      "        Filter  transmission =  0.14\n",
      "        Total transmission   =  0.13\n",
      "        \n"
     ]
    }
   ],
   "source": [
    "mc = Microscope(name='Espinardo', numerical_aperture=0.5, magnification=20, eff_dichroic = 0.85, eff_filter = 0.8 * 0.2) #0.2 for QE of PMT\n",
    "print(mc)"
   ]
  },
  {
   "cell_type": "code",
   "execution_count": 109,
   "metadata": {},
   "outputs": [
    {
     "data": {
      "text/plain": [
       "\n",
       "        w0                   =   0.3 micron\n",
       "        zr                   =   0.6 micron\n",
       "        DOF                  =   1.3 micron\n",
       "        "
      ]
     },
     "execution_count": 109,
     "metadata": {},
     "output_type": "execute_result"
    }
   ],
   "source": [
    "gb = GaussianBeam(laser=lb, mc = mc)  \n",
    "gb"
   ]
  },
  {
   "cell_type": "code",
   "execution_count": 110,
   "metadata": {},
   "outputs": [],
   "source": [
    "Z = np.linspace(-10 * gb.zr(), 10 * gb.zr())\n",
    "WZ = [gb.w0wz2(z) for z in Z]"
   ]
  },
  {
   "cell_type": "code",
   "execution_count": 111,
   "metadata": {},
   "outputs": [
    {
     "data": {
      "image/png": "[encoded data removed]",
      "text/plain": [
       "<Figure size 864x432 with 2 Axes>"
      ]
     },
     "metadata": {},
     "output_type": "display_data"
    }
   ],
   "source": [
    "fig = plt.figure(figsize=(12,6))\n",
    "ax      = fig.add_subplot(1, 2, 1)\n",
    "plt.semilogy(Z/micron, WZ)\n",
    "plt.xlabel(\"Z\")\n",
    "plt.ylabel(\"w(z)\")\n",
    "plt.title (\"Gaussian Beam W(z) log \")\n",
    "plt.grid(True)\n",
    "ax      = fig.add_subplot(1, 2, 2)\n",
    "plt.plot(Z/micron, WZ)\n",
    "plt.xlabel(\"Z\")\n",
    "plt.ylabel(\"w(z)\")\n",
    "plt.title (\"Gaussian Beam W(z) linear\")\n",
    "plt.grid(True)"
   ]
  },
  {
   "cell_type": "code",
   "execution_count": 112,
   "metadata": {},
   "outputs": [],
   "source": [
    "Z = np.linspace(-5 * gb.zr(), 5 * gb.zr())\n",
    "WZ = np.array([gb.w(z) for z in Z])\n",
    "WZm = np.array([-gb.w(z) for z in Z])"
   ]
  },
  {
   "cell_type": "code",
   "execution_count": 69,
   "metadata": {},
   "outputs": [
    {
     "data": {
      "image/png": "[encoded data removed]",
      "text/plain": [
       "<Figure size 864x432 with 1 Axes>"
      ]
     },
     "metadata": {},
     "output_type": "display_data"
    }
   ],
   "source": [
    "fig = plt.figure(figsize=(12,6))\n",
    "ax      = fig.add_subplot(1, 1, 1)\n",
    "\n",
    "plt.plot(Z/micron, WZ/micron)\n",
    "plt.plot(Z/micron, WZm/micron)\n",
    "plt.xlabel(\"Z (micron)\")\n",
    "plt.ylabel(\"w(z) (micron)\")\n",
    "plt.title (\"Gaussian Beam w(z) \")\n",
    "plt.grid(True)"
   ]
  },
  {
   "cell_type": "markdown",
   "metadata": {},
   "source": [
    "### Penetration of gaussian beam**\n",
    "\n",
    "in R: $2 w_0 = \\frac{\\lambda}{\\pi A}$\n",
    "\n",
    "in Z : $2  z_R = \\frac{2 \\lambda}{\\pi A^2}$"
   ]
  },
  {
   "cell_type": "code",
   "execution_count": 70,
   "metadata": {},
   "outputs": [
    {
     "data": {
      "text/plain": [
       "\n",
       "        FOV; d = 6.4e-04 mm; r = 3.2e-04 mm; z = 1.0e-04 mm;\n",
       "        area = 3.2e-07 mm2 volume = 3.2e-11 mm3\n",
       "        "
      ]
     },
     "execution_count": 70,
     "metadata": {},
     "output_type": "execute_result"
    }
   ],
   "source": [
    "fov= CircularFoV(d = 2* gb.w0(), z= 100 * nm)\n",
    "fov"
   ]
  },
  {
   "cell_type": "markdown",
   "metadata": {},
   "source": [
    "### Density of photons in that area"
   ]
  },
  {
   "cell_type": "code",
   "execution_count": 113,
   "metadata": {},
   "outputs": [
    {
     "name": "stdout",
     "output_type": "stream",
     "text": [
      "photon density = 4.0e+26 photons/(second cm2)\n"
     ]
    }
   ],
   "source": [
    "I = photon_density(lb, fov)\n",
    "print(f'photon density = {I/(us*ucm2):5.1e} photons/(second cm2)')"
   ]
  },
  {
   "cell_type": "code",
   "execution_count": 114,
   "metadata": {},
   "outputs": [
    {
     "name": "stdout",
     "output_type": "stream",
     "text": [
      "photon density per pulse= 4.0e+30 photons/(second cm2)\n"
     ]
    }
   ],
   "source": [
    "print(f'photon density per pulse= {I/lb.tau/(us*ucm2):5.1e} photons/(second cm2)')"
   ]
  },
  {
   "cell_type": "markdown",
   "metadata": {},
   "source": [
    "### Dye of 100 nm concentration "
   ]
  },
  {
   "cell_type": "code",
   "execution_count": 115,
   "metadata": {},
   "outputs": [
    {
     "data": {
      "text/plain": [
       "\n",
       "        Dye name =f2p;\n",
       "        concentration = 1.0e-07 mole/l (6.0e+13 molecules/cm3);\n",
       "        V = 3.2e-17 l,\n",
       "        nof molecules = 1.9e+00\n",
       "        "
      ]
     },
     "execution_count": 115,
     "metadata": {},
     "output_type": "execute_result"
    }
   ],
   "source": [
    "ds = DyeSample(name='f2p',concentration = 100 * nanomole/l, volume= fov.volume())\n",
    "ds"
   ]
  },
  {
   "cell_type": "code",
   "execution_count": 116,
   "metadata": {},
   "outputs": [
    {
     "name": "stdout",
     "output_type": "stream",
     "text": [
      " laser power in photons/second =1.26e+18\n"
     ]
    }
   ],
   "source": [
    "print(f' laser power in photons/second ={lb.n_photons()/us:5.2e}')"
   ]
  },
  {
   "cell_type": "code",
   "execution_count": 117,
   "metadata": {},
   "outputs": [],
   "source": [
    "F = fluorescence_2p(ds, fl2, lb, mc)"
   ]
  },
  {
   "cell_type": "code",
   "execution_count": 118,
   "metadata": {},
   "outputs": [
    {
     "name": "stdout",
     "output_type": "stream",
     "text": [
      " F = 2.3e+09 photons/second\n"
     ]
    }
   ],
   "source": [
    "print(f' F = {F/us:5.1e} photons/second')"
   ]
  },
  {
   "cell_type": "code",
   "execution_count": 119,
   "metadata": {},
   "outputs": [
    {
     "name": "stdout",
     "output_type": "stream",
     "text": [
      "2.3e+09\n"
     ]
    }
   ],
   "source": [
    "F2 = F/us\n",
    "print(f'{F2:5.1e}')"
   ]
  },
  {
   "cell_type": "markdown",
   "metadata": {},
   "source": [
    "### According to calculation a large number of fluorescence photons are produced even for small concentrations"
   ]
  },
  {
   "cell_type": "markdown",
   "metadata": {},
   "source": [
    "## Number of absorbed photons, per fluorophere per pulse\n",
    "\n",
    "http://www.aomf.ca/pdfs/Denk1990.pdf\n",
    "\n",
    "- equation 9 (in references)\n",
    "\n",
    "$$ na = \\frac{P^2 Q \\sigma_2}{\\tau f} (\\frac{A^2}{2 \\hbar c \\lambda})^2$$\n",
    "\n",
    "where:\n",
    "- Q is the quantum efficiency (0.9 for fluorescein)\n",
    "- $\\sigma_2$ is the two photon absorption cross section (in cm$^4$ s)\n",
    "- A is the numerical aperture\n",
    "- f is the frequency (e.g, 80 MHZ)\n",
    "- $\\tau$ is the FWHM of the pulse width (e.g, 400 fs)\n",
    "- P is the laser power\n",
    "- $\\lambda$ is the wavelength of the light\n",
    "\n",
    "- units are photons/fluorophene\n"
   ]
  },
  {
   "cell_type": "code",
   "execution_count": 123,
   "metadata": {},
   "outputs": [
    {
     "name": "stdout",
     "output_type": "stream",
     "text": [
      " p0         = 0.6000000000000001 J/s\n",
      " Q * delta  = 9.000000000000001e-50 cm4 s/ (molecule photon)\n",
      " tau * f**2 = 1000.0000000000001 s^-1\n",
      " hbarc      = 3.16e-24 J cm\n",
      " lamda      = 5.000000000000001e-05 cm\n",
      " A          = 0.5 \n",
      " (p0**2 * m.Q * delta) / (tau * f**2) = 3.240000000000001e-53 J^2 cm^4\n",
      "((A**2 / (2 * hbarc * lamda))**2       =6.2590129786893104e+53 J^-2 cm^-4\n"
     ]
    }
   ],
   "source": [
    "na = absorbed_photons_per_fluorophore_per_pulse_2p(fl2, lb, mc)"
   ]
  },
  {
   "cell_type": "code",
   "execution_count": 124,
   "metadata": {},
   "outputs": [
    {
     "name": "stdout",
     "output_type": "stream",
     "text": [
      " number of absorbed photons per fluorophore per pulse = 2.0e+01\n"
     ]
    }
   ],
   "source": [
    "print(f' number of absorbed photons per fluorophore per pulse = {na:5.1e}')"
   ]
  },
  {
   "cell_type": "markdown",
   "metadata": {},
   "source": [
    "#### This is exactly what is needed to saturate the fluorophore."
   ]
  },
  {
   "cell_type": "code",
   "execution_count": 125,
   "metadata": {},
   "outputs": [
    {
     "name": "stdout",
     "output_type": "stream",
     "text": [
      "power_to_saturate_fluorescence=5.9e+01 mW\n"
     ]
    }
   ],
   "source": [
    "power_to_saturate_fluorescence = (2/na) *lb.power\n",
    "print(f'power_to_saturate_fluorescence={power_to_saturate_fluorescence/mW:5.1e} mW')"
   ]
  },
  {
   "cell_type": "markdown",
   "metadata": {},
   "source": [
    "### The number of photons per fluorophere per second should then simply be equal to the number of pulses, sice we saturate"
   ]
  },
  {
   "cell_type": "code",
   "execution_count": 127,
   "metadata": {},
   "outputs": [
    {
     "name": "stdout",
     "output_type": "stream",
     "text": [
      " number of produced photons per fluorophore per second = 1.0e+08\n"
     ]
    }
   ],
   "source": [
    "n_f = n_pulses_per_second = lb.f/hertz\n",
    "print(f' number of produced photons per fluorophore per second = {n_pulses_per_second:5.1e}')"
   ]
  },
  {
   "cell_type": "code",
   "execution_count": 134,
   "metadata": {},
   "outputs": [
    {
     "name": "stdout",
     "output_type": "stream",
     "text": [
      "number of photons/mus = 1.0e+02, detected (mus) = 1.3e+01\n"
     ]
    }
   ],
   "source": [
    "n_s   = n_f  #photons per second.\n",
    "n_mus = n_s * 1E-6\n",
    "ndet  = n_mus * mc.transmission() \n",
    "print(f'number of photons/mus = {n_mus:5.1e}, detected (mus) = {ndet:5.1e}')"
   ]
  },
  {
   "cell_type": "markdown",
   "metadata": {},
   "source": [
    "### Thus each mus we detect O(10) photons. "
   ]
  },
  {
   "cell_type": "code",
   "execution_count": 135,
   "metadata": {},
   "outputs": [
    {
     "data": {
      "text/plain": [
       "\n",
       "\n",
       "        x = 1.0e+00 mum; y = 1.0e+00 mum; z = 1.0e+00 nm; area = 1.0e+00 mum2 volume = 1.0e-03 mum3\n",
       "        nof molecules = 1.0e+06\n",
       "        snr           = 2.5e-02\n",
       "        "
      ]
     },
     "execution_count": 135,
     "metadata": {},
     "output_type": "execute_result"
    }
   ],
   "source": [
    "ml = Monolayer(x= 1 * mum, y = 1 * mum, z = 1 * nm, ns = 13, nb = 0.13)\n",
    "ml"
   ]
  },
  {
   "cell_type": "code",
   "execution_count": 136,
   "metadata": {},
   "outputs": [
    {
     "name": "stdout",
     "output_type": "stream",
     "text": [
      " SNR for 1.0e+03 pulses = 0.8062257748298551\n"
     ]
    }
   ],
   "source": [
    "r= 1e+3\n",
    "print(f' SNR for {r:5.1e} pulses = {ml.SNR(r)}')"
   ]
  },
  {
   "cell_type": "markdown",
   "metadata": {},
   "source": [
    "### The overal SNR is not enough if we try to sample at 1 MHZ for 1 ms time. "
   ]
  },
  {
   "cell_type": "code",
   "execution_count": 137,
   "metadata": {},
   "outputs": [
    {
     "data": {
      "text/plain": [
       "\n",
       "\n",
       "        x = 1.0e+00 mum; y = 1.0e+00 mum; z = 1.0e+00 nm; area = 1.0e+00 mum2 volume = 1.0e-03 mum3\n",
       "        nof molecules = 1.0e+06\n",
       "        snr           = 8.1e-02\n",
       "        "
      ]
     },
     "execution_count": 137,
     "metadata": {},
     "output_type": "execute_result"
    }
   ],
   "source": [
    "ml = Monolayer(x= 1 * mum, y = 1 * mum, z = 1 * nm, ns = 130, nb = 1.3)\n",
    "ml"
   ]
  },
  {
   "cell_type": "code",
   "execution_count": 138,
   "metadata": {},
   "outputs": [
    {
     "name": "stdout",
     "output_type": "stream",
     "text": [
      " SNR for 1.0e+04 pulses = 8.062257748298551\n"
     ]
    }
   ],
   "source": [
    "r= 1e+4\n",
    "print(f' SNR for {r:5.1e} pulses = {ml.SNR(r)}')"
   ]
  },
  {
   "cell_type": "markdown",
   "metadata": {},
   "source": [
    "### Thus we need 1E+4 samples of 10mus each, or 0.1 second per point."
   ]
  },
  {
   "cell_type": "markdown",
   "metadata": {},
   "source": [
    "## We need plasmonics to increase the signal, even if it increases the backround too!\n"
   ]
  },
  {
   "cell_type": "code",
   "execution_count": 149,
   "metadata": {},
   "outputs": [],
   "source": [
    "def SNR(plasmonic_amplification = 1, fib_molecule_snr   = 100, photons_signal_mus = 10, r= 1e+3):\n",
    "    photons_bkg_mus    = photons_signal_mus / fib_molecule_snr\n",
    "    ml = Monolayer(x= 1 * mum, y = 1 * mum, z = 1 * nm, \n",
    "               ns = photons_signal_mus * plasmonic_amplification, \n",
    "               nb = photons_bkg_mus * plasmonic_amplification)\n",
    "\n",
    "    print(f'Plasmonic amplification = {plasmonic_amplification}')\n",
    "    print(f'FIB molecule SNR = {fib_molecule_snr}')\n",
    "    print(f'Detected signal photons (per mus) = {photons_signal_mus}')\n",
    "    print(f'Detected background photons (per mus) = {photons_bkg_mus}')\n",
    "    print(f' SNR for {r:5.1e} pulses = {ml.SNR(r)}')"
   ]
  },
  {
   "cell_type": "code",
   "execution_count": 150,
   "metadata": {},
   "outputs": [
    {
     "name": "stdout",
     "output_type": "stream",
     "text": [
      "Plasmonic amplification = 1\n",
      "FIB molecule SNR = 100\n",
      "Detected signal photons (per mus) = 10\n",
      "Detected background photons (per mus) = 0.1\n",
      " SNR for 1.0e+03 pulses = 0.7071067811865477\n"
     ]
    }
   ],
   "source": [
    "SNR()"
   ]
  },
  {
   "cell_type": "code",
   "execution_count": 151,
   "metadata": {},
   "outputs": [
    {
     "name": "stdout",
     "output_type": "stream",
     "text": [
      "Plasmonic amplification = 10\n",
      "FIB molecule SNR = 100\n",
      "Detected signal photons (per mus) = 10\n",
      "Detected background photons (per mus) = 0.1\n",
      " SNR for 1.0e+03 pulses = 2.2360679774997907\n"
     ]
    }
   ],
   "source": [
    "SNR(plasmonic_amplification = 10)"
   ]
  },
  {
   "cell_type": "code",
   "execution_count": 152,
   "metadata": {},
   "outputs": [
    {
     "name": "stdout",
     "output_type": "stream",
     "text": [
      "Plasmonic amplification = 100\n",
      "FIB molecule SNR = 100\n",
      "Detected signal photons (per mus) = 10\n",
      "Detected background photons (per mus) = 0.1\n",
      " SNR for 1.0e+03 pulses = 7.071067811865476\n"
     ]
    }
   ],
   "source": [
    "SNR(plasmonic_amplification = 100)"
   ]
  },
  {
   "cell_type": "code",
   "execution_count": 153,
   "metadata": {},
   "outputs": [
    {
     "name": "stdout",
     "output_type": "stream",
     "text": [
      "Plasmonic amplification = 1000\n",
      "FIB molecule SNR = 100\n",
      "Detected signal photons (per mus) = 10\n",
      "Detected background photons (per mus) = 0.1\n",
      " SNR for 1.0e+03 pulses = 22.3606797749979\n"
     ]
    }
   ],
   "source": [
    "SNR(plasmonic_amplification = 1000)"
   ]
  },
  {
   "cell_type": "code",
   "execution_count": 154,
   "metadata": {},
   "outputs": [
    {
     "name": "stdout",
     "output_type": "stream",
     "text": [
      "Plasmonic amplification = 1\n",
      "FIB molecule SNR = 1000\n",
      "Detected signal photons (per mus) = 10\n",
      "Detected background photons (per mus) = 0.01\n",
      " SNR for 1.0e+03 pulses = 2.2360679774997902\n"
     ]
    }
   ],
   "source": [
    "SNR(plasmonic_amplification = 1, fib_molecule_snr   = 1000)"
   ]
  },
  {
   "cell_type": "markdown",
   "metadata": {},
   "source": [
    "## Scanning time\n",
    "\n",
    "- In a monolayer molecules will be packed at 1 nm separation. The ML itself will be 1 nm thick.\n",
    "- Assume that the beam will illuminate a region of 1 mu2. \n",
    "- Then, if the mirror speed can be tuned to 1 khz, one could cover 1E+3 points per second. \n",
    "- Assuming that 1 ms exposure is enough, one can use an array of beams to cover the transverse coordinate.\n",
    "- Using 20 beams, one needs 50 seconds to cover the 1 mm2 sample, which appears reasonable!"
   ]
  },
  {
   "cell_type": "code",
   "execution_count": null,
   "metadata": {},
   "outputs": [],
   "source": []
  }
 ],
 "metadata": {
  "celltoolbar": "Slideshow",
  "kernelspec": {
   "display_name": "Python 3",
   "language": "python",
   "name": "python3"
  },
  "language_info": {
   "codemirror_mode": {
    "name": "ipython",
    "version": 3
   },
   "file_extension": ".py",
   "mimetype": "text/x-python",
   "name": "python",
   "nbconvert_exporter": "python",
   "pygments_lexer": "ipython3",
   "version": "3.7.1"
  },
  "widgets": {
   "state": {},
   "version": "1.0.0"
  }
 },
 "nbformat": 4,
 "nbformat_minor": 2
}
