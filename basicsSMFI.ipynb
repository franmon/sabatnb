{
 "cells": [
  {
   "cell_type": "markdown",
   "metadata": {},
   "source": [
    "# SMFI\n",
    "\n",
    "- Basic notions and software demonstration"
   ]
  },
  {
   "cell_type": "code",
   "execution_count": 34,
   "metadata": {
    "slideshow": {
     "slide_type": "skip"
    }
   },
   "outputs": [],
   "source": [
    "%matplotlib inline\n",
    "from IPython.display import Image\n",
    "from IPython.display import Math\n",
    "from IPython.display import Latex"
   ]
  },
  {
   "cell_type": "code",
   "execution_count": 35,
   "metadata": {
    "slideshow": {
     "slide_type": "skip"
    }
   },
   "outputs": [
    {
     "name": "stdout",
     "output_type": "stream",
     "text": [
      "The autoreload extension is already loaded. To reload it, use:\n",
      "  %reload_ext autoreload\n",
      "Last updated on  Mon Mar 25 13:08:38 2019\n"
     ]
    }
   ],
   "source": [
    "%load_ext autoreload\n",
    "%autoreload 2\n",
    "import os\n",
    "import sys\n",
    "import time\n",
    "import warnings\n",
    "import datetime \n",
    "print(\"Last updated on \", time.asctime())"
   ]
  },
  {
   "cell_type": "code",
   "execution_count": 36,
   "metadata": {
    "slideshow": {
     "slide_type": "skip"
    }
   },
   "outputs": [],
   "source": [
    "import seaborn as sns\n",
    "import numpy as np\n",
    "import pandas as pd\n",
    "import matplotlib\n",
    "import tables            as tb\n",
    "import random\n",
    "import glob\n",
    "import warnings\n",
    "sns.set()\n",
    "import matplotlib.pyplot as plt\n"
   ]
  },
  {
   "cell_type": "code",
   "execution_count": 37,
   "metadata": {
    "slideshow": {
     "slide_type": "skip"
    }
   },
   "outputs": [],
   "source": [
    "from dataclasses import dataclass"
   ]
  },
  {
   "cell_type": "code",
   "execution_count": 38,
   "metadata": {
    "slideshow": {
     "slide_type": "skip"
    }
   },
   "outputs": [],
   "source": [
    "from  invisible_cities.core.system_of_units import *"
   ]
  },
  {
   "cell_type": "code",
   "execution_count": 39,
   "metadata": {},
   "outputs": [],
   "source": [
    "from sabat.sbt_types import FoV, CircularFoV\n",
    "from sabat.sbt_types import Laser, PulsedLaser, GLaser\n",
    "from sabat.sbt_types import Molecule\n",
    "from sabat.sbt_types import Molecule2P\n",
    "from sabat.sbt_types import DyeSample\n",
    "from sabat.sbt_types import Microscope\n",
    "from sabat.sbt_types import CCD"
   ]
  },
  {
   "cell_type": "code",
   "execution_count": 40,
   "metadata": {},
   "outputs": [],
   "source": [
    "from sabat.sbt_core import  power_density\n",
    "from sabat.sbt_core import  photon_density\n",
    "from sabat.sbt_core import  fluorescence_per_molecule\n",
    "from sabat.sbt_core import  duration_of_fluorescence\n",
    "from sabat.sbt_core import  diffraction_limit\n",
    "from sabat.sbt_core import  photoelectrons_per_pixel"
   ]
  },
  {
   "cell_type": "markdown",
   "metadata": {
    "slideshow": {
     "slide_type": "slide"
    }
   },
   "source": [
    "\n",
    "## Authors\n",
    "\n",
    "- J.J. Gomez-Cadenas \n",
    "\n",
    "[NEXT](https://next.ific.uv.es/next/)\n",
    "\n",
    "#### Contact\n",
    "\n",
    "\n",
    "- [Email](mailto:jjgomezcadenas@dipc.org)\n",
    "\n",
    "\n"
   ]
  },
  {
   "cell_type": "markdown",
   "metadata": {
    "slideshow": {
     "slide_type": "slide"
    }
   },
   "source": [
    "## Fluorescent molecules \n",
    "\n",
    "- In the most basic sense fluorescence is a photon energy reducer. The molecule takes in a higher energy photon (short wavelength) and emits a lower energy one (longer wavelength). The difference in excitation and emission is know as the Stokes shift, and in general the larger the Stoke shift.\n",
    "\n",
    "<img align=\"center\" src=\"img/EmissionAbsorptionAlexa.png\" width=\"500\" height=\"500\"></img>\n"
   ]
  },
  {
   "cell_type": "markdown",
   "metadata": {
    "slideshow": {
     "slide_type": "subslide"
    }
   },
   "source": [
    "## Fluorescein\n",
    "\n",
    "- Fluorescein is the base fluorescent molecule for NPRL studies. A fluorescent molecule is a rigid molecule that emits light (stokes-shifted) when excited and requires no alteration to its energy levels. \n",
    "\n",
    "\n",
    "<img align=\"center\" src=\"img/fluoresceingMol.png\" width=\"200\" height=\"200\"></img>\n",
    "<img align=\"center\" src=\"img/Fluorescein.png\" width=\"500\" height=\"500\"></img>\n",
    "\n"
   ]
  },
  {
   "cell_type": "markdown",
   "metadata": {
    "slideshow": {
     "slide_type": "subslide"
    }
   },
   "source": [
    "## Fluorophore absorption\n",
    "<img align=\"center\" src=\"img/FluoroAbs.png\" width=\"800\" height=\"800\"></img>"
   ]
  },
  {
   "cell_type": "markdown",
   "metadata": {
    "slideshow": {
     "slide_type": "subslide"
    }
   },
   "source": [
    "<img align=\"center\" src=\"img/Beer-Lambert.png\" width=\"800\" height=\"800\"></img>\n",
    "\n"
   ]
  },
  {
   "cell_type": "markdown",
   "metadata": {
    "slideshow": {
     "slide_type": "subslide"
    }
   },
   "source": [
    "<img align=\"center\" src=\"img/FqY.png\" width=\"800\" height=\"800\"></img>\n"
   ]
  },
  {
   "cell_type": "markdown",
   "metadata": {
    "slideshow": {
     "slide_type": "subslide"
    }
   },
   "source": [
    "## Fluorescent indicator\n",
    "\n",
    "- A fluorescent indicator is a more complex molecule that usually requires some external bond or ion capture in order for its energy levels to allow photon emission. Fluo-3, Fluo-4 and C826 are fluorescent indicators. When it is not in the presence of a dication it can de-excite through its vibrational degrees of freedom, and in the presence of a certain dications the vibrational freedom is limited and photon emission is allowed. \n",
    "\n",
    "\n",
    "<img align=\"center\" src=\"img/Fluo3Fluo4.png\" width=\"500\" height=\"500\"></img>"
   ]
  },
  {
   "cell_type": "markdown",
   "metadata": {
    "slideshow": {
     "slide_type": "subslide"
    }
   },
   "source": [
    "- When the molecule ix complexed with the right dictation (e.g, Ca++ in figure) we say that the molecule is chelated.\n",
    "- In the case of a fluorescent indicator, chelated molecules emit more than unchelated molecules\n",
    "\n",
    "<img align=\"center\" src=\"img/Fluo3.png\" width=\"500\" height=\"500\"></img>\n",
    "<img align=\"center\" src=\"img/fluo3Spectra.png\" width=\"500\" height=\"500\"></img>\n"
   ]
  },
  {
   "cell_type": "markdown",
   "metadata": {
    "slideshow": {
     "slide_type": "subslide"
    }
   },
   "source": [
    "## Fading, quenching and photobleaching\n",
    "\n",
    "- The general term for a reduction of fluorescence emission intensity is fading, a catch-all category that is usually further subdivided into quenching and photobleaching phenomena for more precise descriptions. \n",
    "- Photobleaching is the irreversible decomposition of the fluorescent molecules in the excited state because of their interaction with molecular oxygen before emission. \n",
    "- The excited state relaxation process of quenching results in reduced fluorescence intensity through a variety of mechanisms involving non-radiative energy loss and frequently occurs as a result of oxidizing agents or the presence of salts or heavy metals or halogen compounds. \n",
    "- In some cases, quenching results from the transfer of energy to another molecule (termed the acceptor), which resides physically close to the excited fluorophore (the donor), a phenomenon known as fluorescence resonance energy transfer (FRET). "
   ]
  },
  {
   "cell_type": "markdown",
   "metadata": {
    "slideshow": {
     "slide_type": "subslide"
    }
   },
   "source": [
    "## Where to find more:\n",
    "\n",
    "http://priede.bf.lu.lv/grozs/Mikrobiologijas/BiotehIII/2013/Fluores_Theory_.pdf\n",
    "\n",
    "http://priede.bf.lu.lv/grozs/Mikrobiologijas/BiotehIII/2013/Fluorescence%20handout.pdf\n"
   ]
  },
  {
   "cell_type": "markdown",
   "metadata": {
    "slideshow": {
     "slide_type": "slide"
    }
   },
   "source": [
    "# Elementary concepts in microscopy\n",
    "\n",
    "- An introduction to fluorescence microscopy can be found [here](https://www.microscopyu.com/techniques/fluorescence/introduction-to-fluorescence-microscopy). In the next slides "
   ]
  },
  {
   "cell_type": "markdown",
   "metadata": {
    "slideshow": {
     "slide_type": "subslide"
    }
   },
   "source": [
    "## Fluorescent microscope\n",
    "\n",
    "\n",
    "<img align=\"center\" src=\"img/epiFluorescentMicroscope.png\"></img>\n",
    "\n"
   ]
  },
  {
   "cell_type": "markdown",
   "metadata": {
    "slideshow": {
     "slide_type": "subslide"
    }
   },
   "source": [
    "- Illustrated in figure is a cutaway diagram of a modern epi-fluorescence microscope equipped for both transmitted and reflected fluorescence microscopy. \n",
    "- The vertical illuminator in the center of the diagram has the light source positioned at one end and the filter cube turret at the other. \n",
    "- The design consists of a basic reflected light microscope in which the wavelength of the reflected light is longer than that of the excitation. \n",
    "- In a fluorescence vertical illuminator, light of a specific wavelength is produced by passing multispectral light from an arc-discharge lamp through a wavelength selective excitation filter. Wavelengths passed by the excitation filter reflect from the surface of a dichromatic (also termed a dichroic) mirror or beamsplitter, through the microscope objective to bath the specimen with intense light. \n",
    "- If the specimen fluoresces, the emission light gathered by the objective passes back through the dichromatic mirror and is subsequently filtered by a barrier (or emission) filter, which blocks the unwanted excitation wavelengths."
   ]
  },
  {
   "cell_type": "markdown",
   "metadata": {
    "slideshow": {
     "slide_type": "subslide"
    }
   },
   "source": [
    "## Epi-fluorescence illumination \n",
    "\n",
    "- In Epi-fluorescence illumination the reflected light vertical illuminator is interposed between the observation viewing tubes and the nosepiece housing the objectives. The illuminator is designed to direct light onto the specimen by first passing the excitation light through the microscope objective (which in this configuration, acts as a condenser) on the way toward the specimen, and then using that same objective to capture the emitted fluorescence. \n",
    "- This type of illuminator has several advantages. \n",
    "\n",
    "    a. The fluorescence microscope objective serves first as a well-corrected condenser and secondly as the image-forming light gatherer. Being a single component, the objective/condenser is always in perfect alignment.\n",
    "    \n",
    "    b. A majority of the excitation light reaching the specimen passes through without interaction and travels away from the objective, and the illuminated area is restricted to that which is observed through the eyepieces. \n",
    "        \n",
    "    c. The full numerical aperture of the objective is available when the microscope is properly configured."
   ]
  },
  {
   "cell_type": "markdown",
   "metadata": {
    "slideshow": {
     "slide_type": "subslide"
    }
   },
   "source": [
    "## Steering of the ligth. Filters\n",
    "\n",
    "<img align=\"center\" src=\"img/FluorescenceFilters.png\" width=\"300\" height=\"300\"></img>\n",
    "\n",
    "- Excitation light travels along the illuminator perpendicular to the optical axis of the microscope, passes through collector lenses and impinges upon the excitation filter where selection of the desired band and blockage of unwanted wavelength occurs. \n",
    "- The selected wavelengths, after passing through the excitation filter, reach the dichromatic beamsplitting mirror, which reflects shorter wavelength light and passes longer wavelength light. \n",
    "- The dichromatic beamsplitter is tilted at a 45-degree angle with respect to the incoming excitation light and reflects this illumination at a 90-degree angle directly through the objective optical system and onto the specimen. \n",
    "- Fluorescence emission produced by the illuminated specimen is gathered by the objective, now serving in its usual image-forming function. \n",
    "- Because the emitted light consists of longer wavelengths than the excitation illumination, it is able to pass through the dichromatic mirror and upward to the observation tubes or electronic detector."
   ]
  },
  {
   "cell_type": "markdown",
   "metadata": {
    "slideshow": {
     "slide_type": "subslide"
    }
   },
   "source": [
    "## Numerical aperture\n",
    "\n",
    "See: https://www.microscopyu.com/microscopy-basics/numerical-aperture"
   ]
  },
  {
   "cell_type": "markdown",
   "metadata": {},
   "source": [
    "# Software"
   ]
  },
  {
   "cell_type": "markdown",
   "metadata": {},
   "source": [
    "https://github.com/jjgomezcadenas/sabatsw"
   ]
  },
  {
   "cell_type": "markdown",
   "metadata": {},
   "source": [
    "# An example from\n",
    "\n",
    "https://www.microscopyu.com/techniques/fluorescence/introduction-to-fluorescence-microscopy"
   ]
  },
  {
   "cell_type": "markdown",
   "metadata": {},
   "source": [
    "# The Fluorescence Light Budget\n",
    "\n",
    "An estimation of the light fluxes in a typical fluorescence microscope is useful to outline constraints that will be encountered in producing digital images or during the visual observation of specimens. The excitation source is assumed, for this exercise, to be a standard 75-Watt xenon arc-discharge lamp having a mean luminous flux density of approximately 400 candelas per square millimeter. When the lamp output is collected and directed through a 490-nanometer interference filter (having a 10-nanometer bandwidth and 75 percent transmission), about <span style=\"color:red\"> 2 milliWatts of light </span>  will pass through. After reflection by a 90-percent efficient dichromatic mirror, a light flux of <span style=\"color:red\"> 1.8 milliWatts </span>  enters the rear aperture of the microscope objective as the excitation beam.\n",
    "\n",
    "With a <span style=\"color:red\"> 100x objective having a numerical aperture of 1.4 </span>, the area of the specimen illuminated will be <span style=\"color:red\"> 12 x 10^(-6) square centimeters </span>, assuming <span style=\"color:red\"> a circular field of view about 40 micrometers in diameter</span> . The light flux on the specimen is then about <span style=\"color:red\"> 150 Watts per square centimeter</span>, which corresponds to a flux density of <span style=\"color:red\"> 3.6 x 10^(20) photons per square centimeter</span>. Thus, the specimen illumination intensity is about 1000 times higher than that incident on the Earth's surface on a sunny day.\n"
   ]
  },
  {
   "cell_type": "code",
   "execution_count": 8,
   "metadata": {},
   "outputs": [],
   "source": [
    "photon = 1\n",
    "us = photon/second\n",
    "ucm2 = photon/cm2\n",
    "wcm2 = W/cm2"
   ]
  },
  {
   "cell_type": "code",
   "execution_count": 9,
   "metadata": {},
   "outputs": [
    {
     "data": {
      "text/plain": [
       "\n",
       "        Laser:\n",
       "        wavelength                =4.9e+02 nm\n",
       "        photon energy             =2.5e+00 eV\n",
       "        power                     =1.8e+00 mW\n",
       "        energy per second         =1.8e+00 mJ\n",
       "        photons per second        =4.4e+15 ph/second\n",
       "        "
      ]
     },
     "execution_count": 9,
     "metadata": {},
     "output_type": "execute_result"
    }
   ],
   "source": [
    "lb = Laser(lamda=490*nm, power=1.8E-3*W)  \n",
    "lb"
   ]
  },
  {
   "cell_type": "code",
   "execution_count": 10,
   "metadata": {},
   "outputs": [
    {
     "data": {
      "text/plain": [
       "\n",
       "        FOV; d = 4.0e-02 mm; r = 2.0e-02 mm; z = 1.0e-02 mm;\n",
       "        area = 1.3e-03 mm2 volume = 1.3e-05 mm3\n",
       "        "
      ]
     },
     "execution_count": 10,
     "metadata": {},
     "output_type": "execute_result"
    }
   ],
   "source": [
    "fov= CircularFoV(d = 40*mum, z = 10*mum)\n",
    "fov"
   ]
  },
  {
   "cell_type": "code",
   "execution_count": 11,
   "metadata": {},
   "outputs": [
    {
     "name": "stdout",
     "output_type": "stream",
     "text": [
      " FOV area  = 1.3e-05 cm2\n"
     ]
    }
   ],
   "source": [
    "print(f' FOV area  = {fov.area()/cm2:5.1e} cm2')"
   ]
  },
  {
   "cell_type": "code",
   "execution_count": 12,
   "metadata": {},
   "outputs": [
    {
     "name": "stdout",
     "output_type": "stream",
     "text": [
      "power density = 143.2 W/cm2\n"
     ]
    }
   ],
   "source": [
    "pd = power_density(lb, fov)\n",
    "print(f'power density = {pd/wcm2:5.1f} W/cm2')"
   ]
  },
  {
   "cell_type": "code",
   "execution_count": 42,
   "metadata": {},
   "outputs": [
    {
     "name": "stdout",
     "output_type": "stream",
     "text": [
      "photon density = 3.5e+20 photons/(second cm2)\n"
     ]
    }
   ],
   "source": [
    "I = photon_density(lb, fov)\n",
    "print(f'photon density = {I/(us*ucm2):5.1e} photons/(second cm2)')"
   ]
  },
  {
   "cell_type": "markdown",
   "metadata": {},
   "source": [
    "## Produced fluorescence\n",
    "\n",
    "The fluorescence emission depends on:\n",
    "\n",
    "1. The absorption and emission characteristics of the fluorophore.\n",
    "2. Its concentration in the specimen. \n",
    "3. The optical path length. \n",
    "4. Tthe fluorescence produced (F) is then given by the equation:\n",
    "\n",
    "$$ F = \\sigma × Q × I$$\n",
    "\n",
    "where σ is the molecular absorption cross-section, Q is the quantum yield, and I is the incident light flux. Assuming that fluorescein is the fluorophore, the absorption cross-section (σ) is 3 x 10^(-16) square centimeters per molecule, Q equals 0.99, resulting in a value for F of 100,000 photons per second per molecule. "
   ]
  },
  {
   "cell_type": "code",
   "execution_count": 14,
   "metadata": {},
   "outputs": [
    {
     "data": {
      "text/plain": [
       "\n",
       "        Molecule name =Fluorescein; cross section = 3.0e-16 cm2; Q =   1.0\n",
       "        "
      ]
     },
     "execution_count": 14,
     "metadata": {},
     "output_type": "execute_result"
    }
   ],
   "source": [
    "ml = Molecule(name = 'Fluorescein', sigma=3E-16 * cm2, Q=0.99)\n",
    "ml"
   ]
  },
  {
   "cell_type": "code",
   "execution_count": 25,
   "metadata": {},
   "outputs": [
    {
     "name": "stdout",
     "output_type": "stream",
     "text": [
      "Fluorescence per molecule per second = 1.0e+05\n"
     ]
    }
   ],
   "source": [
    "F = fluorescence_per_molecule(ml, I)\n",
    "print(f'Fluorescence per molecule per second = {F/us:5.1e}')"
   ]
  },
  {
   "cell_type": "markdown",
   "metadata": {},
   "source": [
    "## Dye concentration and emitted fluorescence\n",
    "\n",
    "1. If the dye concentration is 1 micromole per liter and is uniformly distributed in a 40-micrometer diameter disk with a thickness of 10 micrometers, there are approximately 7.6 million molecules in the optical path.\n",
    "\n",
    "2. If all of the molecules were excited simultaneously, the fluorescence emission rate would be $8.4 \\times 10^{11}$ photons per second (given the product of F and the number of dye molecules)"
   ]
  },
  {
   "cell_type": "code",
   "execution_count": 16,
   "metadata": {},
   "outputs": [
    {
     "data": {
      "text/plain": [
       "\n",
       "        Dye name =test;\n",
       "        concentration = 1.0e-06 mole/l (6.0e+08 molecules/cm3);\n",
       "        V = 1.3e-11 l,\n",
       "        nof molecules = 7.6e+06\n",
       "        "
      ]
     },
     "execution_count": 16,
     "metadata": {},
     "output_type": "execute_result"
    }
   ],
   "source": [
    "ds = DyeSample(name='test',concentration = 1 * micromole/l, volume= np.pi * (40/2)**2 * 10 * micron3)\n",
    "ds"
   ]
  },
  {
   "cell_type": "code",
   "execution_count": 18,
   "metadata": {},
   "outputs": [
    {
     "name": "stdout",
     "output_type": "stream",
     "text": [
      "Fluorescence emission rate (all molecules excited =7.9e+11)\n"
     ]
    }
   ],
   "source": [
    "print(f'Fluorescence emission rate (all molecules excited ={F * ds.n_molecules()/us:5.1e})')"
   ]
  },
  {
   "cell_type": "markdown",
   "metadata": {},
   "source": [
    "## Efficiency of detection\n",
    "\n",
    "1. The efficiency of detection is a function of the optical collection efficiency and the detector quantum efficiency. \n",
    "2. A 1.4-numerical aperture objective with 100-percent transmission (an unrealistic condition) has a maximum collection efficiency, limited by the acceptance angle of about 30 percent. \n",
    "3. The transmission efficiency of the dichromatic mirror is 85 percent and that of the barrier filter is 80 percent. The overall collection efficiency is then about 20 percent. \n",
    "4. If the detector is a conventional charge-coupled device (CCD), the quantum efficiency is about 50 percent for the green fluorescein emission (at 525 nanometers), so the detected signal would be 86 billion photons per second or about 10 percent of the emitted fluorescence. "
   ]
  },
  {
   "cell_type": "code",
   "execution_count": 19,
   "metadata": {},
   "outputs": [
    {
     "data": {
      "text/plain": [
       "\n",
       "        name                 = test\n",
       "        NA                   =   1.4\n",
       "        M                    = 100.0\n",
       "        eff dichroic         =  0.85\n",
       "        eff filter           =  0.80\n",
       "        Optical transmission =  0.30\n",
       "        Filter  transmission =  0.68\n",
       "        Total transmission   =  0.20\n",
       "        "
      ]
     },
     "execution_count": 19,
     "metadata": {},
     "output_type": "execute_result"
    }
   ],
   "source": [
    "mc = Microscope(name='test', numerical_aperture=1.4, magnification=100)\n",
    "mc"
   ]
  },
  {
   "cell_type": "code",
   "execution_count": 20,
   "metadata": {},
   "outputs": [
    {
     "data": {
      "text/plain": [
       "CCD(name='C9100-23B', n_pixels=(512, 512), size_pixels=(0.016, 0.016), effective_area=(8.19, 8.19), linear_full_well=(370000.0, 150000.0), pixel_clock_rate=(0.022, 0.011, 0.0006875), dark_current=0.005, readout_noise=8, readout_speed=72)"
      ]
     },
     "execution_count": 20,
     "metadata": {},
     "output_type": "execute_result"
    }
   ],
   "source": [
    "ccd = CCD()\n",
    "ccd"
   ]
  },
  {
   "cell_type": "code",
   "execution_count": 22,
   "metadata": {},
   "outputs": [
    {
     "name": "stdout",
     "output_type": "stream",
     "text": [
      "Detected emission rate (all molecules excited) = 1.5e+11\n"
     ]
    }
   ],
   "source": [
    "print('Detected emission rate (all molecules excited) = {0:5.1e}'.format(\n",
    "       ds.n_molecules() * F * mc.transmission() * ccd.efficiency(lb.lamda)/us))"
   ]
  },
  {
   "cell_type": "markdown",
   "metadata": {},
   "source": [
    "## Duration of fluorescence\n",
    "\n",
    "1. The duration of fluorescence emission depends upon the rate of fluorophore destruction as a result of photobleaching. \n",
    "2. For fluorescein in an oxygenated saline solution, measurements indicate that each molecule can only emit about 36,000 photons before being destroyed. \n",
    "3. In a deoxygenated environment, the rate of photodestruction diminishes about tenfold, so 360,000 photons are produced per fluorescein molecule. \n",
    "4. The entire dye pool, in this example (7.6 million molecules), would then be capable of producing a minimum of 2.6 x 10 × E(11) and a maximum of 2.6 x 10 × E(12) photons. \n",
    "5. Assuming the emission rate of 100,000 photons per second per molecule calculated above, fluorescence could continue for only 0.3 to 3 seconds before photodestruction. "
   ]
  },
  {
   "cell_type": "code",
   "execution_count": 31,
   "metadata": {},
   "outputs": [
    {
     "data": {
      "text/plain": [
       "0.3430991150579744"
      ]
     },
     "execution_count": 31,
     "metadata": {},
     "output_type": "execute_result"
    }
   ],
   "source": [
    "duration_of_fluorescence(ml, I, 'oxygenated') / second"
   ]
  },
  {
   "cell_type": "code",
   "execution_count": 27,
   "metadata": {},
   "outputs": [
    {
     "data": {
      "text/plain": [
       "36000"
      ]
     },
     "execution_count": 27,
     "metadata": {},
     "output_type": "execute_result"
    }
   ],
   "source": [
    "ml.max_photons('oxygenated')"
   ]
  },
  {
   "cell_type": "code",
   "execution_count": 30,
   "metadata": {},
   "outputs": [
    {
     "data": {
      "text/plain": [
       "104925.94827566658"
      ]
     },
     "execution_count": 30,
     "metadata": {},
     "output_type": "execute_result"
    }
   ],
   "source": [
    "fluorescence_per_molecule(ml, I)/us"
   ]
  },
  {
   "cell_type": "code",
   "execution_count": 32,
   "metadata": {},
   "outputs": [
    {
     "data": {
      "text/plain": [
       "3.430991150579744"
      ]
     },
     "execution_count": 32,
     "metadata": {},
     "output_type": "execute_result"
    }
   ],
   "source": [
    "duration_of_fluorescence(ml, I, 'deoxygenated') / second"
   ]
  },
  {
   "cell_type": "code",
   "execution_count": 33,
   "metadata": {},
   "outputs": [
    {
     "data": {
      "text/plain": [
       "9.530530973832623e+24"
      ]
     },
     "execution_count": 33,
     "metadata": {},
     "output_type": "execute_result"
    }
   ],
   "source": [
    "duration_of_fluorescence(ml, I, 'dry') / second"
   ]
  },
  {
   "cell_type": "markdown",
   "metadata": {},
   "source": [
    "## Detected light\n",
    "\n",
    "1. If the detector is a 1000 x 1000 pixel CCD camera, the signal will be distributed over a million sensors, with approximately 72,000 electrons per sensor. \n",
    "2. For a scientific-grade CCD with 9-micrometer square sensors, the full well storage capacity is about 80,000 electrons and the read-out noise is less than 10 electrons. \n",
    "3. The signal-to-noise ratio would then be largely determined by photon statistical noise equal to the square root of the signal, approximately 268. \n",
    "4. In almost all cases, this high signal level could only continue for a very brief period of time before photodestruction occurs. \n",
    "5. The compromise utilized by most microscopists to prolong the observation period is a reduction in the incident light flux intensity so that only a fraction of the fluorophore molecules in the dye pool are excited and subjected to photodestruction. \n",
    "6. Thus, the signal-to-noise ratio rarely equals the theoretical maximum and typically ranges between 10 and 20 in fluorescence microscopy."
   ]
  },
  {
   "cell_type": "markdown",
   "metadata": {},
   "source": [
    "## Detecting single molecules\n",
    "\n",
    "1. It is often possible to detect the fluorescence emission from a single molecule, provided that the optical background and detector noise are sufficiently low. \n",
    "2. As discussed above, a single fluorescein molecule could emit as many as 300,000 photons before it is destroyed by photobleaching. \n",
    "3. Assuming a 20-percent collection and detection efficiency, about 60,000 photons would be detected. Using avalanche photodiode or electron multiplying CCD detectors for these experiments, investigators have been able to monitor the behavior of single molecules for many seconds and even minutes. \n",
    "4. The major problem is adequate suppression of the optical background noise. Because many of the materials utilized in construction of microscope lenses and filters display some level of autofluorescence, efforts were initially directed toward the manufacture of very low fluorescence components. \n",
    "7. However, it soon became evident that fluorescence microscopy techniques utilizing total internal reflection (TIR) provided the desired combination of low background and high excitation light flux."
   ]
  },
  {
   "cell_type": "markdown",
   "metadata": {},
   "source": [
    "## TIRFM\n",
    "\n",
    "<img align=\"center\" src=\"img/TIRF.png\" width=\"500\" height=\"500\"></img>\n",
    "\n",
    "1. Total internal reflection fluorescence microscopy (TIRFM) takes advantage of the evanescent wave that is developed when light is totally internally reflected at the interface between two media having dissimilar refractive indices. "
   ]
  },
  {
   "cell_type": "markdown",
   "metadata": {},
   "source": [
    "1. The principle employing an external light source is illustrated in Figure (a). In this technique, a beam of light (usually an expanded laser beam) is directed through a prism of high refractive index, such as glass or sapphire, which abuts a lower refractive index medium of glass or aqueous solution.\n",
    "2. If the light is directed into the prism at higher than the critical angle, the beam will be totally internally reflected at the interface. The reflection phenomenon develops an evanescent wave at the interface by the generation of an electromagnetic field that permeates about 200 nanometers or less into the lower refractive index space. The light intensity in the evanescent wave is sufficiently high to excite the fluorophores within it, but because of its shallow depth, the volume excited is very small. The result is an extremely low-level background because so little of the specimen is exposed to the excitation light (only that portion within a 200-nanometer distance of the interface).\n",
    "3. TIRF can also be conducted through a modification of the epi-illumination approached utilized in widefield techniques (as illustrated in Figure (b)). This method requires a very high numerical aperture objective (at least 1.4, but preferably 1.45 to 1.6) and partial illumination of the microscope field from one side by a small sport or more uniform illumination by a thin annulus. High refractive index lens immersion medium and microscope cover glass are required to achieve the illumination angle resulting in total internal reflection. As presented in Figure (b), light rays exiting the objective front lens element at an angle less than the critical angle (denoted as A(1)) in figure (b)) are transmitted away from the microscope. When the angle is increased to or beyond the critical angle (indicated a angle A(2) in Figure (b)), total internal reflection results."
   ]
  }
 ],
 "metadata": {
  "celltoolbar": "Slideshow",
  "kernelspec": {
   "display_name": "Python 3",
   "language": "python",
   "name": "python3"
  },
  "language_info": {
   "codemirror_mode": {
    "name": "ipython",
    "version": 3
   },
   "file_extension": ".py",
   "mimetype": "text/x-python",
   "name": "python",
   "nbconvert_exporter": "python",
   "pygments_lexer": "ipython3",
   "version": "3.7.1"
  },
  "widgets": {
   "state": {},
   "version": "1.0.0"
  }
 },
 "nbformat": 4,
 "nbformat_minor": 2
}
