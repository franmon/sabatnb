{
 "cells": [
  {
   "cell_type": "markdown",
   "metadata": {},
   "source": [
    "# SABAT SMFI\n",
    "\n",
    "- Estimates detection efficiency for Fuchsin in new laser setup TOPATU"
   ]
  },
  {
   "cell_type": "code",
   "execution_count": 2,
   "metadata": {
    "slideshow": {
     "slide_type": "skip"
    }
   },
   "outputs": [],
   "source": [
    "%matplotlib inline\n",
    "from IPython.display import Image\n",
    "from IPython.display import Math\n",
    "from IPython.display import Latex"
   ]
  },
  {
   "cell_type": "code",
   "execution_count": 3,
   "metadata": {
    "slideshow": {
     "slide_type": "skip"
    }
   },
   "outputs": [
    {
     "name": "stdout",
     "output_type": "stream",
     "text": [
      "Last updated on  Mon Jun 22 19:19:09 2020\n"
     ]
    }
   ],
   "source": [
    "%load_ext autoreload\n",
    "%autoreload 2\n",
    "import os\n",
    "import sys\n",
    "import time\n",
    "import warnings\n",
    "import datetime \n",
    "print(\"Last updated on \", time.asctime())"
   ]
  },
  {
   "cell_type": "code",
   "execution_count": 4,
   "metadata": {
    "slideshow": {
     "slide_type": "skip"
    }
   },
   "outputs": [],
   "source": [
    "import seaborn as sns\n",
    "import numpy as np\n",
    "import pandas as pd\n",
    "import matplotlib\n",
    "import tables            as tb\n",
    "import random\n",
    "import glob\n",
    "import warnings\n",
    "sns.set()\n",
    "import matplotlib.pyplot as plt\n"
   ]
  },
  {
   "cell_type": "code",
   "execution_count": 5,
   "metadata": {
    "slideshow": {
     "slide_type": "skip"
    }
   },
   "outputs": [],
   "source": [
    "from dataclasses import dataclass"
   ]
  },
  {
   "cell_type": "code",
   "execution_count": 6,
   "metadata": {
    "slideshow": {
     "slide_type": "skip"
    }
   },
   "outputs": [],
   "source": [
    "from  invisible_cities.core.system_of_units import *\n",
    "from  invisible_cities.core.system_of_units import MHZ"
   ]
  },
  {
   "cell_type": "code",
   "execution_count": 7,
   "metadata": {},
   "outputs": [],
   "source": [
    "from sabat.sbt_types import FoV, CircularFoV\n",
    "from sabat.sbt_types import Laser, PulsedLaser, GLaser, GaussianBeam\n",
    "from sabat.sbt_types import Molecule\n",
    "from sabat.sbt_types import Molecule2P\n",
    "from sabat.sbt_types import DyeSample\n",
    "from sabat.sbt_types import Microscope\n",
    "from sabat.sbt_types import CCD"
   ]
  },
  {
   "cell_type": "code",
   "execution_count": 8,
   "metadata": {},
   "outputs": [],
   "source": [
    "from sabat.sbt_core import  power_density\n",
    "from sabat.sbt_core import  photon_density\n",
    "from sabat.sbt_core import  fluorescence_per_molecule\n",
    "from sabat.sbt_core import  duration_of_fluorescence\n",
    "from sabat.sbt_core import  diffraction_limit\n",
    "from sabat.sbt_core import  photoelectrons_per_pixel\n",
    "# from sabat.sbt_core import  fluorescence_2p\n",
    "from sabat.sbt_core import  absorbed_photons_per_fluorophore_per_pulse_2p"
   ]
  },
  {
   "cell_type": "markdown",
   "metadata": {
    "slideshow": {
     "slide_type": "slide"
    }
   },
   "source": [
    "# SABAT SMFI\n",
    "\n",
    "## Authors\n",
    "\n",
    "- J.J. Gomez-Cadenas \n",
    "\n",
    "- P. Herrero Gómez\n",
    "\n",
    "[NEXT](https://next.ific.uv.es/next/)\n",
    "\n",
    "#### Contact\n",
    "\n",
    "\n",
    "- [Email](mailto:jjgomezcadenas@dipc.org)\n",
    "\n",
    "\n"
   ]
  },
  {
   "cell_type": "markdown",
   "metadata": {},
   "source": [
    "## Diode laser\n",
    "Beam size = ø 3.5 mm"
   ]
  },
  {
   "cell_type": "code",
   "execution_count": 9,
   "metadata": {
    "slideshow": {
     "slide_type": "slide"
    }
   },
   "outputs": [
    {
     "data": {
      "text/plain": [
       "\n",
       "        Laser:\n",
       "        wavelength                =5.3e+02 nm\n",
       "        photon energy             =2.3e+00 eV\n",
       "        power                     =4.5e+00 mW\n",
       "        energy per second         =4.5e+00 mJ\n",
       "        photons per second        =1.2e+16 ph/second\n",
       "        "
      ]
     },
     "execution_count": 9,
     "metadata": {},
     "output_type": "execute_result"
    }
   ],
   "source": [
    "weakLaser = Laser(lamda=532 * nm, power = 4.5 * milliwatt)\n",
    "weakLaser"
   ]
  },
  {
   "cell_type": "markdown",
   "metadata": {},
   "source": [
    "## Microscope\n",
    "Dichroic cuts at 567 nm, with transmission efficiency of ~95%\n",
    "\n",
    "https://www.thorlabs.com/newgrouppage9.cfm?objectgroup_id=3313&pn=DMLP567R\n",
    "\n",
    "No filter, so eff_filter = 1\n",
    "\n",
    "OB has NA = 0.3, M = 30x\n"
   ]
  },
  {
   "cell_type": "code",
   "execution_count": 10,
   "metadata": {
    "slideshow": {
     "slide_type": "slide"
    }
   },
   "outputs": [
    {
     "name": "stdout",
     "output_type": "stream",
     "text": [
      "\n",
      "        name                 = TOPATU\n",
      "        NA                   = 3.0e-01\n",
      "        M                    = 3.0e+01\n",
      "        eff dichroic         = 9.50e-01\n",
      "        eff filter           = 1.00e+00\n",
      "        eff PMT              = 3.00e-01\n",
      "        Optical transmission = 2.23e-02\n",
      "        Filter  transmission = 9.50e-01\n",
      "        Total transmission   = 6.05e-03\n",
      "        \n"
     ]
    }
   ],
   "source": [
    "mmc = Microscope(name='TOPATU', numerical_aperture=0.3, magnification=30, eff_filter=1, eff_dichroic=0.95)\n",
    "print(mmc)"
   ]
  },
  {
   "cell_type": "code",
   "execution_count": 13,
   "metadata": {
    "slideshow": {
     "slide_type": "subslide"
    }
   },
   "outputs": [
    {
     "name": "stdout",
     "output_type": "stream",
     "text": [
      "the difraction limit in nm is 1081.7\n"
     ]
    }
   ],
   "source": [
    "dl = diffraction_limit(weakLaser, mmc) \n",
    "print(f'the difraction limit in nm is {dl/nm:5.1f}')"
   ]
  },
  {
   "cell_type": "code",
   "execution_count": 12,
   "metadata": {
    "slideshow": {
     "slide_type": "subslide"
    }
   },
   "outputs": [
    {
     "name": "stdout",
     "output_type": "stream",
     "text": [
      "\n",
      "        FOV; x = 1.0e-03 mm; y = 1.0e-03 mm; z = 1.0e-06 mm; area = 1.0e-06 mm2 volume = 1.0e-12 mm3\n",
      "        \n",
      "power density for laser focused in FOV  = 450000.0 W/cm2\n",
      "photon density for UV laser FOV (per pulse of 1 s)  = 1.2e+15 ph per cm2\n"
     ]
    }
   ],
   "source": [
    "fov = FoV(x = 1 * micron, y = 1 * micron, z = 1 * nm) # assumes that laser power is quickly attenuatted with R\n",
    "print(fov)\n",
    "print(f'power density for laser focused in FOV  = {power_density(weakLaser,fov)/(W/cm2):5.1f} W/cm2')\n",
    "I = photon_density(weakLaser, fov)\n",
    "print(f'photon density for UV laser FOV (per pulse of 1 s)  = {I/(1/cm2):5.1e} ph per cm2')\n"
   ]
  },
  {
   "cell_type": "markdown",
   "metadata": {},
   "source": [
    "## Calibration fluorophore: New Fuchsin\n",
    "https://en.wikipedia.org/wiki/New_fuchsine\n",
    "\n",
    "Not to be confused with *basic* fuchsin, however, could only find Q and $\\sigma$ for basic fuchsin, assume they're similar\n",
    "\n",
    "Single absorption cross section [https://core.ac.uk/download/pdf/11534085.pdf]\n",
    "\n",
    "$\\sigma^{(L)} = (4 \\pm 2) \\times 10^{-17}$\n",
    "\n",
    "QY at C = 1e-5 M [https://link.springer.com/content/pdf/10.1007/s10895-014-1369-0.pdf] (figure 6. x axis scale is a typo)\n",
    "\n",
    "Q = 0.4 "
   ]
  },
  {
   "cell_type": "code",
   "execution_count": 13,
   "metadata": {},
   "outputs": [
    {
     "name": "stdout",
     "output_type": "stream",
     "text": [
      "\n",
      "        Molecule name =Fuchsin; cross section = 4.0e-17 cm2; Q =   0.4\n",
      "        \n",
      "Fluorescence per molecule = 1.9e-02\n"
     ]
    }
   ],
   "source": [
    "fuch = Molecule(name='Fuchsin', sigma=4E-17 * cm2, Q = 0.4)  \n",
    "print(fuch)\n",
    "flm = fluorescence_per_molecule(fuch, I)\n",
    "print('Fluorescence per molecule = {0:5.1e}'.format(flm))"
   ]
  },
  {
   "cell_type": "markdown",
   "metadata": {},
   "source": [
    "## Detection\n",
    "ORCA Flash V3.0: [https://www.hamamatsu.com/resources/pdf/sys/SCAS0134E_C13440-20CU_tec.pdf]"
   ]
  },
  {
   "cell_type": "code",
   "execution_count": 16,
   "metadata": {},
   "outputs": [],
   "source": [
    "orca = CCD(name = 'C13440-20CU', n_pixels = (2048, 2048), \n",
    "           size_pixels=(6.5*micron, 6.5*micron),  effective_area=(13.312* mm, 13.312*mm),\n",
    "          linear_full_well=(3e4, 150), pixel_clock_rate=(85 * MHZ, 85*MHZ),\n",
    "          dark_current=0.06, readout_noise=1.0, readout_speed=100) "
   ]
  },
  {
   "cell_type": "code",
   "execution_count": 17,
   "metadata": {},
   "outputs": [
    {
     "name": "stdout",
     "output_type": "stream",
     "text": [
      "nof photoelectrons reaching CCD = 1.2e-04\n",
      "nof photoelectrons CCD          = 1.1e-04\n",
      "nof photoelectrons per pixel    = 2.7e-11\n",
      "S/N per pixel                   = 5.2e-06\n"
     ]
    }
   ],
   "source": [
    "n_photons_reaching_CCD = flm * mmc.transmission()\n",
    "print('nof photoelectrons reaching CCD = {0:5.1e}'.format(n_photons_reaching_CCD))\n",
    "\n",
    "n_photoelectrons_CCD       = n_photons_reaching_CCD * orca.efficiency(weakLaser.lamda)\n",
    "n_photoelectrons_pixel_CCD = photoelectrons_per_pixel(n_photoelectrons_CCD, orca)\n",
    "\n",
    "print('nof photoelectrons CCD          = {0:5.1e}'.format(n_photoelectrons_CCD))\n",
    "print('nof photoelectrons per pixel    = {0:5.1e}'.format(n_photoelectrons_pixel_CCD))\n",
    "print('S/N per pixel                   = {0:5.1e}'.format(np.sqrt(n_photoelectrons_pixel_CCD)))"
   ]
  },
  {
   "cell_type": "markdown",
   "metadata": {},
   "source": [
    "## Using a better OB\n",
    "\n",
    "NA = 0.85\n",
    "\n",
    "M = 60x"
   ]
  },
  {
   "cell_type": "code",
   "execution_count": 14,
   "metadata": {
    "slideshow": {
     "slide_type": "slide"
    }
   },
   "outputs": [
    {
     "name": "stdout",
     "output_type": "stream",
     "text": [
      "\n",
      "        name                 = TOPATU_goodOB\n",
      "        NA                   = 8.5e-01\n",
      "        M                    = 6.0e+01\n",
      "        eff dichroic         = 9.50e-01\n",
      "        eff filter           = 1.00e+00\n",
      "        eff PMT              = 3.00e-01\n",
      "        Optical transmission = 1.70e-01\n",
      "        Filter  transmission = 9.50e-01\n",
      "        Total transmission   = 4.60e-02\n",
      "        \n"
     ]
    }
   ],
   "source": [
    "mOB = Microscope(name='TOPATU_goodOB', numerical_aperture=0.85, magnification=60, eff_filter=1, eff_dichroic=0.95)\n",
    "print(mOB)"
   ]
  },
  {
   "cell_type": "code",
   "execution_count": 18,
   "metadata": {},
   "outputs": [
    {
     "name": "stdout",
     "output_type": "stream",
     "text": [
      "nof photoelectrons reaching CCD = 8.9e-04\n",
      "nof photoelectrons CCD          = 8.5e-04\n",
      "nof photoelectrons per pixel    = 2.0e-10\n",
      "S/N per pixel                   = 1.4e-05\n"
     ]
    }
   ],
   "source": [
    "n_photons_reaching_CCD = flm * mOB.transmission()\n",
    "print('nof photoelectrons reaching CCD = {0:5.1e}'.format(n_photons_reaching_CCD))\n",
    "\n",
    "n_photoelectrons_CCD       = n_photons_reaching_CCD * orca.efficiency(weakLaser.lamda)\n",
    "n_photoelectrons_pixel_CCD = photoelectrons_per_pixel(n_photoelectrons_CCD, orca)\n",
    "\n",
    "print('nof photoelectrons CCD          = {0:5.1e}'.format(n_photoelectrons_CCD))\n",
    "print('nof photoelectrons per pixel    = {0:5.1e}'.format(n_photoelectrons_pixel_CCD))\n",
    "print('S/N per pixel                   = {0:5.1e}'.format(np.sqrt(n_photoelectrons_pixel_CCD)))"
   ]
  }
 ],
 "metadata": {
  "celltoolbar": "Slideshow",
  "kernelspec": {
   "display_name": "Python 3",
   "language": "python",
   "name": "python3"
  },
  "language_info": {
   "codemirror_mode": {
    "name": "ipython",
    "version": 3
   },
   "file_extension": ".py",
   "mimetype": "text/x-python",
   "name": "python",
   "nbconvert_exporter": "python",
   "pygments_lexer": "ipython3",
   "version": "3.7.2"
  },
  "toc": {
   "base_numbering": 1,
   "nav_menu": {},
   "number_sections": true,
   "sideBar": true,
   "skip_h1_title": false,
   "title_cell": "Table of Contents",
   "title_sidebar": "Contents",
   "toc_cell": false,
   "toc_position": {},
   "toc_section_display": true,
   "toc_window_display": false
  },
  "widgets": {
   "state": {},
   "version": "1.0.0"
  }
 },
 "nbformat": 4,
 "nbformat_minor": 2
}
