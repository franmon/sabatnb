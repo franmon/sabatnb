{
 "cells": [
  {
   "cell_type": "markdown",
   "metadata": {},
   "source": [
    "# SMFI with two photon absorption"
   ]
  },
  {
   "cell_type": "code",
   "execution_count": 1,
   "metadata": {
    "slideshow": {
     "slide_type": "skip"
    }
   },
   "outputs": [],
   "source": [
    "%matplotlib inline\n",
    "from IPython.display import Image\n",
    "from IPython.display import Math\n",
    "from IPython.display import Latex"
   ]
  },
  {
   "cell_type": "code",
   "execution_count": 2,
   "metadata": {
    "slideshow": {
     "slide_type": "skip"
    }
   },
   "outputs": [
    {
     "name": "stdout",
     "output_type": "stream",
     "text": [
      "Last updated on  Wed Apr 10 18:46:02 2019\n"
     ]
    }
   ],
   "source": [
    "%load_ext autoreload\n",
    "%autoreload 2\n",
    "import os\n",
    "import sys\n",
    "import time\n",
    "import warnings\n",
    "import datetime \n",
    "print(\"Last updated on \", time.asctime())"
   ]
  },
  {
   "cell_type": "code",
   "execution_count": 3,
   "metadata": {
    "slideshow": {
     "slide_type": "skip"
    }
   },
   "outputs": [],
   "source": [
    "import seaborn as sns\n",
    "import numpy as np\n",
    "import pandas as pd\n",
    "import matplotlib\n",
    "import matplotlib.pyplot as plt\n",
    "import tables            as tb\n",
    "import random\n",
    "import glob\n",
    "import warnings\n",
    "sns.set()"
   ]
  },
  {
   "cell_type": "code",
   "execution_count": 4,
   "metadata": {
    "slideshow": {
     "slide_type": "skip"
    }
   },
   "outputs": [],
   "source": [
    "from  invisible_cities.core.system_of_units import *"
   ]
  },
  {
   "cell_type": "code",
   "execution_count": 5,
   "metadata": {},
   "outputs": [],
   "source": [
    "from sabat.sbt_types import FoV, CircularFoV\n",
    "from sabat.sbt_types import Laser, PulsedLaser, GLaser, GaussianBeam\n",
    "from sabat.sbt_types import Molecule\n",
    "from sabat.sbt_types import Molecule2P\n",
    "from sabat.sbt_types import DyeSample\n",
    "from sabat.sbt_types import Microscope\n",
    "from sabat.sbt_types import CCD"
   ]
  },
  {
   "cell_type": "code",
   "execution_count": 6,
   "metadata": {},
   "outputs": [],
   "source": [
    "from sabat.sbt_core import  power_density\n",
    "from sabat.sbt_core import  photon_density\n",
    "from sabat.sbt_core import  fluorescence_per_molecule\n",
    "from sabat.sbt_core import  duration_of_fluorescence\n",
    "from sabat.sbt_core import  diffraction_limit\n",
    "from sabat.sbt_core import  photoelectrons_per_pixel\n",
    "from sabat.sbt_core import  fluorescence_2p\n",
    "from sabat.sbt_core import  absorbed_photons_per_fluorophore_per_pulse_2p"
   ]
  },
  {
   "cell_type": "markdown",
   "metadata": {},
   "source": [
    "# TWO PHOTON EXPERIMENT"
   ]
  },
  {
   "cell_type": "markdown",
   "metadata": {},
   "source": [
    "# Relevant papers\n",
    "\n",
    "https://www.osapublishing.org/DirectPDFAccess/6D7E7982-90AC-2FC4-1BC45ECB85CF58B0_33721/josab-13-3-481.pdf?da=1&id=33721&seq=0&mobile=no\n",
    "http://www.aomf.ca/pdfs/Denk1990.pdf\n",
    "\n",
    "See also:\n",
    "\n",
    "http://micro.magnet.fsu.edu/primer/techniques/fluorescence/multiphoton/multiphotonintro.html\n",
    "\n",
    "http://xrm.phys.northwestern.edu/research/pdf_papers/chapters/wilson_sheppard_chaps1-5.pdf\n",
    "\n",
    "## Author\n",
    "\n",
    "- J.J. Gomez-Cadenas [NEXT](https://next.ific.uv.es/next/) \n",
    "\n",
    "#### Contact\n",
    "\n",
    "\n",
    "- [Email](mailto:jjgomezcadenas@dipc.org)\n",
    "\n",
    "\n"
   ]
  },
  {
   "cell_type": "markdown",
   "metadata": {},
   "source": [
    "### Constants and units"
   ]
  },
  {
   "cell_type": "code",
   "execution_count": 7,
   "metadata": {},
   "outputs": [],
   "source": [
    "photon = 1\n",
    "molecule = 1\n",
    "GM = 1e-50 * cm2*cm2*second / (photon * molecule)\n",
    "us = photon / second\n",
    "ucm2 = photon / cm2\n",
    "ucm3 = molecule / cm3\n",
    "gp = 0.66"
   ]
  },
  {
   "cell_type": "markdown",
   "metadata": {},
   "source": [
    "### Molecule\n",
    "\n",
    "- For the first experiment we will use Fluorescein, which has a well known 2-photon cross section"
   ]
  },
  {
   "cell_type": "code",
   "execution_count": 8,
   "metadata": {},
   "outputs": [
    {
     "data": {
      "text/plain": [
       "\n",
       "        Molecule name =Fluorescein; cross section = 3.0e-16 cm2; Q =   0.9\n",
       "        "
      ]
     },
     "execution_count": 8,
     "metadata": {},
     "output_type": "execute_result"
    }
   ],
   "source": [
    "fl = Molecule(name = 'Fluorescein', sigma=3E-16 * cm2, Q=0.9)\n",
    "fl"
   ]
  },
  {
   "cell_type": "code",
   "execution_count": 9,
   "metadata": {},
   "outputs": [],
   "source": [
    "fl2 = Molecule2P(name = 'Fluorescein', sigma=3E-16 * cm2, Q=0.9)"
   ]
  },
  {
   "cell_type": "code",
   "execution_count": 10,
   "metadata": {},
   "outputs": [],
   "source": [
    "x = np.arange(700, 1000, 10) * nm"
   ]
  },
  {
   "cell_type": "code",
   "execution_count": 11,
   "metadata": {},
   "outputs": [
    {
     "data": {
      "text/plain": [
       "[<matplotlib.lines.Line2D at 0x1a224aaa58>]"
      ]
     },
     "execution_count": 11,
     "metadata": {},
     "output_type": "execute_result"
    },
    {
     "data": {
      "image/png": "[encoded data removed]",
      "text/plain": [
       "<Figure size 432x288 with 1 Axes>"
      ]
     },
     "metadata": {},
     "output_type": "display_data"
    }
   ],
   "source": [
    "plt.plot(x/nm, fl2.sigma2(x)/GM)"
   ]
  },
  {
   "cell_type": "markdown",
   "metadata": {},
   "source": [
    "## The setup\n",
    "\n",
    "- The idea is to proceed to a raster scan, with the microscope focused in a small region, so that the regime is diffusion dominated. \n",
    "- The concentration of the dye is 10 nM. Assuming that the size of the spot is roughly 1 micron  we expect to see about 20 molecules per fov"
   ]
  },
  {
   "cell_type": "markdown",
   "metadata": {},
   "source": [
    "### Laser beam"
   ]
  },
  {
   "cell_type": "code",
   "execution_count": 12,
   "metadata": {},
   "outputs": [
    {
     "data": {
      "text/plain": [
       "\n",
       "        Pulsed Laser:\n",
       "        wavelength                =8.0e+02 nm\n",
       "        photon energy             =1.6e+00 eV\n",
       "        power                     =3.5e+02 mW\n",
       "        repetition rate           =7.6e+01 kHz\n",
       "        pulse width               =4.0e+02 fs\n",
       "        energy per pulse          =2.7e+04 fJ\n",
       "        energy per second         =3.5e+02 mJ\n",
       "        photons per second        =3.5e+02 ph/second\n",
       "        "
      ]
     },
     "execution_count": 12,
     "metadata": {},
     "output_type": "execute_result"
    }
   ],
   "source": [
    "lb = PulsedLaser(lamda=800*nm, power=350*mW, f=76*MHZ, tau=400*femtosecond)  \n",
    "lb"
   ]
  },
  {
   "cell_type": "markdown",
   "metadata": {},
   "source": [
    "### Microscope"
   ]
  },
  {
   "cell_type": "code",
   "execution_count": 13,
   "metadata": {},
   "outputs": [
    {
     "name": "stdout",
     "output_type": "stream",
     "text": [
      "\n",
      "        name                 = Espinardo\n",
      "        NA                   =   0.5\n",
      "        M                    =  20.0\n",
      "        eff dichroic         =  0.85\n",
      "        eff filter           =  0.80\n",
      "        Optical transmission =  0.96\n",
      "        Filter  transmission =  0.68\n",
      "        Total transmission   =  0.65\n",
      "        \n"
     ]
    }
   ],
   "source": [
    "mc = Microscope(name='Espinardo', numerical_aperture=0.5, magnification=20)\n",
    "print(mc)"
   ]
  },
  {
   "cell_type": "markdown",
   "metadata": {},
   "source": [
    "### Scanning \n",
    "- area $90 \\times 90 \\mu m$.\n",
    "- pixels 256 x 256 (puede llegar a 512 x 512)"
   ]
  },
  {
   "cell_type": "code",
   "execution_count": 14,
   "metadata": {},
   "outputs": [],
   "source": [
    "\n",
    "pixel_size_mu_a = 90 * mum /(256)\n",
    "pixel_size_mu_b = 90 * mum /(512)"
   ]
  },
  {
   "cell_type": "code",
   "execution_count": 15,
   "metadata": {},
   "outputs": [
    {
     "name": "stdout",
     "output_type": "stream",
     "text": [
      "pixel size conf A= 3.5e+02 nm\n",
      "pixel size conf B= 1.8e+02 nm\n"
     ]
    }
   ],
   "source": [
    "print(f'pixel size conf A= {pixel_size_mu_a/nm:5.1e} nm')\n",
    "print(f'pixel size conf B= {pixel_size_mu_b/nm:5.1e} nm')"
   ]
  },
  {
   "cell_type": "markdown",
   "metadata": {},
   "source": [
    "### Difraction limit"
   ]
  },
  {
   "cell_type": "code",
   "execution_count": 16,
   "metadata": {},
   "outputs": [
    {
     "name": "stdout",
     "output_type": "stream",
     "text": [
      "diffraction limit = 976.0  nm\n"
     ]
    }
   ],
   "source": [
    "dl = diffraction_limit(lb, mc)\n",
    "print(f'diffraction limit = {dl/nm}  nm')"
   ]
  },
  {
   "cell_type": "markdown",
   "metadata": {},
   "source": [
    "### Assume a FOV of size diffraction limit\n",
    "\n",
    "z is set to 0.04 mm, see\n",
    "https://www.osapublishing.org/DirectPDFAccess/6D7E7982-90AC-2FC4-1BC45ECB85CF58B0_33721/josab-13-3-481.pdf?da=1&id=33721&seq=0&mobile=no"
   ]
  },
  {
   "cell_type": "code",
   "execution_count": 17,
   "metadata": {},
   "outputs": [
    {
     "data": {
      "text/plain": [
       "\n",
       "        FOV; d = 9.8e-04 mm; r = 4.9e-04 mm; z = 4.0e-03 mm;\n",
       "        area = 7.5e-07 mm2 volume = 3.0e-09 mm3\n",
       "        "
      ]
     },
     "execution_count": 17,
     "metadata": {},
     "output_type": "execute_result"
    }
   ],
   "source": [
    "fov= CircularFoV(d = dl, z= 5 * lb.lamda * mm)\n",
    "fov"
   ]
  },
  {
   "cell_type": "markdown",
   "metadata": {},
   "source": [
    "### Density of photons in that area"
   ]
  },
  {
   "cell_type": "code",
   "execution_count": 18,
   "metadata": {},
   "outputs": [
    {
     "name": "stdout",
     "output_type": "stream",
     "text": [
      "photon density = 1.9e+26 photons/(second cm2)\n"
     ]
    }
   ],
   "source": [
    "I = photon_density(lb, fov)\n",
    "print(f'photon density = {I/(us*ucm2):5.1e} photons/(second cm2)')"
   ]
  },
  {
   "cell_type": "code",
   "execution_count": 19,
   "metadata": {},
   "outputs": [
    {
     "name": "stdout",
     "output_type": "stream",
     "text": [
      "photon density per pulse= 4.7e+29 photons/(second cm2)\n"
     ]
    }
   ],
   "source": [
    "print(f'photon density per pulse= {I/lb.tau/(us*ucm2):5.1e} photons/(second cm2)')"
   ]
  },
  {
   "cell_type": "markdown",
   "metadata": {},
   "source": [
    "### Dye of 10 nm concentration "
   ]
  },
  {
   "cell_type": "code",
   "execution_count": 20,
   "metadata": {},
   "outputs": [
    {
     "data": {
      "text/plain": [
       "\n",
       "        Dye name =f2p;\n",
       "        concentration = 1.0e-08 mole/l (6.0e+12 molecules/cm3);\n",
       "        V = 3.0e-15 l,\n",
       "        nof molecules = 1.8e+01\n",
       "        "
      ]
     },
     "execution_count": 20,
     "metadata": {},
     "output_type": "execute_result"
    }
   ],
   "source": [
    "ds = DyeSample(name='f2p',concentration = 10 * nanomole/l, volume= fov.volume())\n",
    "ds"
   ]
  },
  {
   "cell_type": "code",
   "execution_count": 21,
   "metadata": {},
   "outputs": [
    {
     "name": "stdout",
     "output_type": "stream",
     "text": [
      " laser power in photons/second =1.41e+18\n"
     ]
    }
   ],
   "source": [
    "print(f' laser power in photons/second ={lb.n_photons()/us:5.2e}')"
   ]
  },
  {
   "cell_type": "code",
   "execution_count": 22,
   "metadata": {},
   "outputs": [],
   "source": [
    "gb = GaussianBeam(lb, dl)"
   ]
  },
  {
   "cell_type": "markdown",
   "metadata": {},
   "source": [
    "### Equation 15\n",
    "\n",
    "https://www.osapublishing.org/DirectPDFAccess/6D7E7982-90AC-2FC4-1BC45ECB85CF58B0_33721/josab-13-3-481.pdf?da=1&id=33721&seq=0&mobile=no\n",
    "\n",
    "Fluorescence produced by 2 photon absorption (efficiency of detection system = 1 in this formula, computed separatedly)\n",
    "\n",
    "$$ F(t) = \\frac{1}{2} Q \\sigma_2 C \\frac{g_p}{f \\tau} \\frac{8 n P(t)^2}{\\pi \\lambda}$$\n",
    "\n",
    "where:\n",
    "- Q is the quantum efficiency (0.9 for fluorescein)\n",
    "- $\\sigma_2$ is the two photon absorption cross section (in cm$^4$ s)\n",
    "- C is the concentration (molecules/cm$^3$)\n",
    "- $g_p = 0.66$ (see paper)\n",
    "- f is the frequency (e.g, 80 MHZ)\n",
    "- $\\tau$ is the FWHM of the pulse width (e.g, 400 fs)\n",
    "- n is the refraction index\n",
    "- P(t) is the number of photons per unit time in the sample\n",
    "- $\\lambda$ is the wavelength of the light\n",
    "\n",
    "- units are photons/second"
   ]
  },
  {
   "cell_type": "code",
   "execution_count": 23,
   "metadata": {},
   "outputs": [],
   "source": [
    "def fluorescence_2p_t(ds: DyeSample, m: Molecule2P, lb: GLaser, n: float = 1)->float:\n",
    "    \"\"\"\n",
    "    Returns the number of photons emitted by fluorescence through 2 photon absorption\n",
    "    in the focal volume of a strongly focused illumination (e.g, diffraction limited)\n",
    "    \"\"\"\n",
    "    gp    = 0.66\n",
    "    Q     = m.Q   \n",
    "    delta =  m.sigma2(lb.lamda)/ (cm2*cm2*s)\n",
    "    C     = ds.rho_molecules() /ucm3\n",
    "    ftau  = lb.f * lb.tau\n",
    "    lamda =  lb.lamda / cm\n",
    "    P0    =  lb.n_photons()/us\n",
    "    \n",
    "    print(f' Q  ={Q:5.1e} ')\n",
    "    print(f' delta = {delta:5.1e} cm4 second / (photon molecule)')\n",
    "    print(f' Concentration = {C:5.1e} molecules/cm3')\n",
    "    print(f' P0 = {P0:5.1e} photons/second')\n",
    "    print(f' ftau = {ftau:5.1e}')\n",
    "    print(f' landa = {lamda:5.1e} cm')\n",
    "\n",
    "    t1 = 0.5 * Q * delta\n",
    "    t2 = C * gp/ftau\n",
    "    t3 = 8 * n/(np.pi * lamda)\n",
    "    t4 = P0**2\n",
    "    \n",
    "    print(f' t1 ={t1:5.1e}')\n",
    "    print(f' t2 ={t2:5.1e}')\n",
    "    print(f' t3 ={t3:5.1e}')\n",
    "    print(f' t4 ={t4:5.1e}')\n",
    "    \n",
    "    fa = t1 * t2 * t3 * t4\n",
    "    fb = 0.5 * m.Q* m.sigma2(lb.lamda) * ds.rho_molecules() * (gp /(lb.f * lb.tau)) *(8 * n * lb.n_photons()**2) / (np.pi * lb.lamda)\n",
    "    \n",
    "    print(f'fa ={fa:5.1e}  photons / second ')\n",
    "    print(f'fb ={fb/us:5.1e}  photons / second ')\n",
    "\n",
    "    return   fa\n"
   ]
  },
  {
   "cell_type": "code",
   "execution_count": 24,
   "metadata": {},
   "outputs": [
    {
     "name": "stdout",
     "output_type": "stream",
     "text": [
      " Q  =9.0e-01 \n",
      " delta = 3.6e-49 cm4 second / (photon molecule)\n",
      " Concentration = 6.0e+12 molecules/cm3\n",
      " P0 = 1.4e+18 photons/second\n",
      " ftau = 3.0e-05\n",
      " landa = 8.0e-05 cm\n",
      " t1 =1.6e-49\n",
      " t2 =1.3e+17\n",
      " t3 =3.2e+04\n",
      " t4 =2.0e+36\n",
      "fa =1.3e+09  photons / second \n",
      "fb =1.3e+09  photons / second \n"
     ]
    }
   ],
   "source": [
    "Ft = fluorescence_2p_t(ds, fl2, lb)"
   ]
  },
  {
   "cell_type": "code",
   "execution_count": 25,
   "metadata": {},
   "outputs": [],
   "source": [
    "F = fluorescence_2p(ds, fl2, lb)"
   ]
  },
  {
   "cell_type": "code",
   "execution_count": 26,
   "metadata": {},
   "outputs": [
    {
     "name": "stdout",
     "output_type": "stream",
     "text": [
      " F = 1.3e+09 photons/second\n"
     ]
    }
   ],
   "source": [
    "print(f' F = {F/us:5.1e} photons/second')"
   ]
  },
  {
   "cell_type": "markdown",
   "metadata": {},
   "source": [
    "### According to calculation a large number of fluorescence photons are produced even for small concentrations"
   ]
  },
  {
   "cell_type": "markdown",
   "metadata": {},
   "source": [
    "### Assuming a gaussian beam"
   ]
  },
  {
   "cell_type": "code",
   "execution_count": 27,
   "metadata": {},
   "outputs": [
    {
     "name": "stdout",
     "output_type": "stream",
     "text": [
      " zr = 3.7e+00 mum\n"
     ]
    }
   ],
   "source": [
    "print(f' zr = {gb.zr/mum:5.1e} mum')"
   ]
  },
  {
   "cell_type": "code",
   "execution_count": 31,
   "metadata": {},
   "outputs": [
    {
     "name": "stdout",
     "output_type": "stream",
     "text": [
      " I0 = 2.3e+07 W/cm2)\n"
     ]
    }
   ],
   "source": [
    "print(f' I0 = {gb.I0/(W/cm2):5.1e} W/cm2)')"
   ]
  },
  {
   "cell_type": "code",
   "execution_count": 32,
   "metadata": {},
   "outputs": [
    {
     "name": "stdout",
     "output_type": "stream",
     "text": [
      " w0 = 9.8e-01 mu ; wz = 9.8e-01 mu \n"
     ]
    }
   ],
   "source": [
    "wz = gb.w(0)\n",
    "print(f' w0 = {gb.w0/mum:5.1e} mu ; wz = {wz/mum:5.1e} mu ')"
   ]
  },
  {
   "cell_type": "code",
   "execution_count": 33,
   "metadata": {},
   "outputs": [
    {
     "name": "stdout",
     "output_type": "stream",
     "text": [
      " g = 1.0e+00\n"
     ]
    }
   ],
   "source": [
    "g = gb.g(0, 0)\n",
    "print(f' g = {g:5.1e}')"
   ]
  },
  {
   "cell_type": "markdown",
   "metadata": {},
   "source": [
    "## Number of absorbed photons, per fluorophere per pulse\n",
    "\n",
    "http://www.aomf.ca/pdfs/Denk1990.pdf\n",
    "\n",
    "- equation 9 (in references)\n",
    "\n",
    "$$ na = \\frac{P^2 Q \\sigma_2}{\\tau f} (\\frac{A^2}{2 \\hbar c \\lambda})^2$$\n",
    "\n",
    "where:\n",
    "- Q is the quantum efficiency (0.9 for fluorescein)\n",
    "- $\\sigma_2$ is the two photon absorption cross section (in cm$^4$ s)\n",
    "- A is the numerical aperture\n",
    "- f is the frequency (e.g, 80 MHZ)\n",
    "- $\\tau$ is the FWHM of the pulse width (e.g, 400 fs)\n",
    "- P is the laser power\n",
    "- $\\lambda$ is the wavelength of the light\n",
    "\n",
    "- units are photons/fluorophene\n"
   ]
  },
  {
   "cell_type": "code",
   "execution_count": 27,
   "metadata": {},
   "outputs": [],
   "source": [
    "def absorbed_photons_per_fluorophore_per_pulse_2p_t( p0mW : float, deltaGM : float, taufS: float, fMHz : float, A : float, lamdanM: float) ->float:\n",
    "    \"\"\"\n",
    "        p0    -> mW\n",
    "        tau   -> fs\n",
    "        f     -> MHz\n",
    "        lamda -> nm\n",
    "        delta -> cm^4 s\n",
    "        na = (p0^2 * delta)/(tau * f^2) * (A^2/(2 hbarc * lambda))^2\n",
    "        where hbarc = hbar * c = 3.16 x 10^{-26} J m = 3.16 x 10^{-24} J cm\n",
    "        \n",
    "        thus dimensions:\n",
    "        p0^2 --> (E/t)^2 -> J^2 * s^-2\n",
    "        p0^2 * delta -> J^2 cm^4 s^-1\n",
    "        tau * f^2 = tau * f *f -> [s][s^-1][s^-1]\n",
    "        (p0^2 * delta)/(tau * f^2) -> J^2 cm^4\n",
    "        A^2/(2 hbarc * lambda) -> J^-1 cm-2\n",
    "        (p0^2 * delta)/(tau * f^2) * (A^2/(2 hbarc * lambda))^2 J^2 cm^4 J^-2 cm^-4\n",
    "    \"\"\"\n",
    "    hbarc = 3.16    * 1e-24      # J cm \n",
    "    p0    = p0mW    * 1e-3       # mW to W (J/S)\n",
    "    delta = deltaGM * 1e-50      # GM to cm4 s\n",
    "    tau   = taufS   * 1e-15      # fs to s\n",
    "    f     = fMHz    * 1e+6       # hZ to MHz\n",
    "    l     = lamdanM * 1e-7       # nm to cm\n",
    "    \n",
    "    print(f'p0  ={p0}')\n",
    "    print(f'(delta  ={delta}')\n",
    "    print(f'(p0**2 * delta) ={(p0**2 * delta)}')\n",
    "    print(f'(tau * f**2)    ={(tau * f**2)}')\n",
    "    print(f'(p0**2 * delta) / (tau * f**2)    ={(p0**2 * delta)/ (tau * f**2)}')\n",
    "    print(f'(2 * hbarc * l)                   ={2 * hbarc * l}')\n",
    "    print(f'((A**2 / (2 * hbarc * l))**2      ={(A**2 / (2 * hbarc * l))**2}')\n",
    "    \n",
    "    return ((p0**2 * 0.9 * delta) / (tau * f**2)) * (A**2 / (2 * hbarc * l))**2 "
   ]
  },
  {
   "cell_type": "code",
   "execution_count": 28,
   "metadata": {},
   "outputs": [
    {
     "name": "stdout",
     "output_type": "stream",
     "text": [
      "p0  =0.35\n",
      "(delta  =3.6e-49\n",
      "(p0**2 * delta) =4.409999999999999e-50\n",
      "(tau * f**2)    =2310.4\n",
      "(p0**2 * delta) / (tau * f**2)    =1.9087603878116338e-53\n",
      "(2 * hbarc * l)                   =5.0559999999999995e-28\n",
      "((A**2 / (2 * hbarc * l))**2      =2.444926944800513e+53\n"
     ]
    }
   ],
   "source": [
    "na = absorbed_photons_per_fluorophore_per_pulse_2p_t(lb.power/mW, fl2.sigma2(lb.lamda)/GM, lb.tau/femtosecond, lb.f/MHZ, mc.numerical_aperture, lb.lamda/nm)"
   ]
  },
  {
   "cell_type": "code",
   "execution_count": 29,
   "metadata": {},
   "outputs": [
    {
     "data": {
      "text/plain": [
       "4.2001017329956865"
      ]
     },
     "execution_count": 29,
     "metadata": {},
     "output_type": "execute_result"
    }
   ],
   "source": [
    "na"
   ]
  },
  {
   "cell_type": "code",
   "execution_count": 30,
   "metadata": {},
   "outputs": [
    {
     "name": "stdout",
     "output_type": "stream",
     "text": [
      " p0         = 0.35 J/s\n",
      " Q * delta  = 3.2400000000000003e-49 cm4 s/ (molecule photon)\n",
      " tau * f**2 = 2310.4000000000005 s^-1\n",
      " hbarc      = 3.16e-24 J cm\n",
      " lamda      = 8.000000000000002e-05 cm\n",
      " A          = 0.5 \n",
      " (p0**2 * m.Q * delta) / (tau * f**2) = 1.7178843490304706e-53 J^2 cm^4\n",
      "((A**2 / (2 * hbarc * lamda))**2       =2.444926944800512e+53 J^-2 cm^-4\n"
     ]
    }
   ],
   "source": [
    "na = absorbed_photons_per_fluorophore_per_pulse_2p(fl2, lb, mc)"
   ]
  },
  {
   "cell_type": "code",
   "execution_count": 31,
   "metadata": {},
   "outputs": [
    {
     "name": "stdout",
     "output_type": "stream",
     "text": [
      " number of absorbed photons per fluorophore per pulse = 4.2e+00\n"
     ]
    }
   ],
   "source": [
    "print(f' number of absorbed photons per fluorophore per pulse = {na:5.1e}')"
   ]
  },
  {
   "cell_type": "markdown",
   "metadata": {},
   "source": [
    "#### This implies that the number of photons per pulse saturates the fluorophore. Thus, each pulse will absorb two photons. In other words, one could reach the limit of 2 photons per fluorophene with (2/2.6 x 10^2) less power"
   ]
  },
  {
   "cell_type": "code",
   "execution_count": 32,
   "metadata": {},
   "outputs": [
    {
     "name": "stdout",
     "output_type": "stream",
     "text": [
      "power_to_saturate_fluorescence=1.7e+02 mW\n"
     ]
    }
   ],
   "source": [
    "power_to_saturate_fluorescence = (2/na) *lb.power\n",
    "print(f'power_to_saturate_fluorescence={power_to_saturate_fluorescence/mW:5.1e} mW')"
   ]
  },
  {
   "cell_type": "markdown",
   "metadata": {},
   "source": [
    "### The number of photons per fluorophere per second should then simply be equal to the number of pulses, sice we saturate"
   ]
  },
  {
   "cell_type": "code",
   "execution_count": 33,
   "metadata": {},
   "outputs": [
    {
     "name": "stdout",
     "output_type": "stream",
     "text": [
      " number of absorbed photons per fluorophore per second = 7.6e+07\n"
     ]
    }
   ],
   "source": [
    "n_pulses_per_second = lb.f/hertz\n",
    "print(f' number of absorbed photons per fluorophore per second = {n_pulses_per_second:5.1e}')"
   ]
  },
  {
   "cell_type": "markdown",
   "metadata": {},
   "source": [
    "### The number of absorbed photons in the sample depends on the number of molecules in the sample. We can use the formulas above to estimate the number of molecules in a diffraction-limited system."
   ]
  },
  {
   "cell_type": "code",
   "execution_count": 36,
   "metadata": {},
   "outputs": [
    {
     "data": {
      "text/plain": [
       "17.623261774172374"
      ]
     },
     "execution_count": 36,
     "metadata": {},
     "output_type": "execute_result"
    }
   ],
   "source": [
    "fs = F/us\n",
    "n = fs / n_pulses_per_second\n",
    "n"
   ]
  },
  {
   "cell_type": "code",
   "execution_count": 37,
   "metadata": {},
   "outputs": [
    {
     "name": "stdout",
     "output_type": "stream",
     "text": [
      " number of molecules in dye = 1.8e+01\n"
     ]
    }
   ],
   "source": [
    "print(f' number of molecules in dye = {n:5.1e}')"
   ]
  },
  {
   "cell_type": "code",
   "execution_count": null,
   "metadata": {},
   "outputs": [],
   "source": []
  },
  {
   "cell_type": "code",
   "execution_count": 38,
   "metadata": {},
   "outputs": [
    {
     "name": "stdout",
     "output_type": "stream",
     "text": [
      " F = 1.3e+09 photons/second\n",
      " number of absorbed photons per fluorophore per second = 7.6e+07\n",
      " number of molecules in dye for a concentracion of 6.0e+12 = 1.8e+01\n"
     ]
    }
   ],
   "source": [
    "print(f' F = {F/us:5.1e} photons/second')\n",
    "print(f' number of absorbed photons per fluorophore per second = {n_pulses_per_second:5.1e}')\n",
    "print(f' number of molecules in dye for a concentracion of {ds.rho_molecules()/ucm3:5.1e} = {n:5.1e}')"
   ]
  },
  {
   "cell_type": "code",
   "execution_count": 40,
   "metadata": {},
   "outputs": [
    {
     "data": {
      "text/plain": [
       "0.5002536072595212"
      ]
     },
     "execution_count": 40,
     "metadata": {},
     "output_type": "execute_result"
    }
   ],
   "source": [
    "l = 0.5**2 * np.pi /1.57\n",
    "l"
   ]
  },
  {
   "cell_type": "code",
   "execution_count": 34,
   "metadata": {},
   "outputs": [
    {
     "data": {
      "text/plain": [
       "1024"
      ]
     },
     "execution_count": 34,
     "metadata": {},
     "output_type": "execute_result"
    }
   ],
   "source": [
    "2**10"
   ]
  },
  {
   "cell_type": "code",
   "execution_count": null,
   "metadata": {},
   "outputs": [],
   "source": []
  }
 ],
 "metadata": {
  "celltoolbar": "Slideshow",
  "kernelspec": {
   "display_name": "Python 3",
   "language": "python",
   "name": "python3"
  },
  "language_info": {
   "codemirror_mode": {
    "name": "ipython",
    "version": 3
   },
   "file_extension": ".py",
   "mimetype": "text/x-python",
   "name": "python",
   "nbconvert_exporter": "python",
   "pygments_lexer": "ipython3",
   "version": "3.7.1"
  },
  "widgets": {
   "state": {},
   "version": "1.0.0"
  }
 },
 "nbformat": 4,
 "nbformat_minor": 2
}
