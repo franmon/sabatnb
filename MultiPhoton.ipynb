{
 "cells": [
  {
   "cell_type": "markdown",
   "metadata": {},
   "source": [
    "# Multiphoton"
   ]
  },
  {
   "cell_type": "markdown",
   "metadata": {},
   "source": [
    "- Multiphoton absorption"
   ]
  },
  {
   "cell_type": "code",
   "execution_count": 1,
   "metadata": {
    "slideshow": {
     "slide_type": "skip"
    }
   },
   "outputs": [],
   "source": [
    "%matplotlib inline\n",
    "%load_ext autoreload\n",
    "%autoreload 2\n",
    "import matplotlib.pyplot as plt\n",
    "plt.rcParams[\"figure.figsize\"] = 10, 8\n",
    "plt.rcParams[\"font.size\"     ] = 18"
   ]
  },
  {
   "cell_type": "code",
   "execution_count": 2,
   "metadata": {},
   "outputs": [],
   "source": [
    "from IPython.display import Image\n",
    "from IPython.display import Math\n",
    "from IPython.display import Latex"
   ]
  },
  {
   "cell_type": "code",
   "execution_count": 3,
   "metadata": {
    "slideshow": {
     "slide_type": "skip"
    }
   },
   "outputs": [
    {
     "name": "stdout",
     "output_type": "stream",
     "text": [
      "Last updated on  Tue Jun 18 10:44:24 2019\n"
     ]
    }
   ],
   "source": [
    "import os\n",
    "import sys\n",
    "import time\n",
    "import warnings\n",
    "import datetime \n",
    "print(\"Last updated on \", time.asctime())"
   ]
  },
  {
   "cell_type": "code",
   "execution_count": 4,
   "metadata": {
    "slideshow": {
     "slide_type": "skip"
    }
   },
   "outputs": [],
   "source": [
    "import seaborn as sns\n",
    "import numpy as np\n",
    "import pandas as pd\n",
    "import matplotlib\n",
    "import matplotlib.pyplot as plt\n",
    "import tables            as tb\n",
    "import random\n",
    "import glob\n",
    "import warnings\n",
    "sns.set()"
   ]
  },
  {
   "cell_type": "code",
   "execution_count": 5,
   "metadata": {
    "slideshow": {
     "slide_type": "skip"
    }
   },
   "outputs": [],
   "source": [
    "from  invisible_cities.core.system_of_units import *"
   ]
  },
  {
   "cell_type": "code",
   "execution_count": 6,
   "metadata": {},
   "outputs": [],
   "source": [
    "from sabat.sbt_types import FoV, CircularFoV, Monolayer\n",
    "from sabat.sbt_types import Laser, PulsedLaser, GLaser, GaussianBeam\n",
    "from sabat.sbt_types import Molecule\n",
    "from sabat.sbt_types import Molecule2P\n",
    "from sabat.sbt_types import DyeSample\n",
    "from sabat.sbt_types import Microscope\n",
    "from sabat.sbt_types import CCD\n",
    "from sabat.sbt_types import PhotonsPerSample"
   ]
  },
  {
   "cell_type": "code",
   "execution_count": 7,
   "metadata": {},
   "outputs": [],
   "source": [
    "from sabat.sbt_core import  power_density\n",
    "from sabat.sbt_core import  photon_density\n",
    "from sabat.sbt_core import  fluorescence_per_molecule\n",
    "from sabat.sbt_core import  duration_of_fluorescence\n",
    "from sabat.sbt_core import  diffraction_limit\n",
    "from sabat.sbt_core import  photoelectrons_per_pixel\n",
    "from sabat.sbt_core import  absorbed_photons_per_fluorophore_per_pulse_2p\n",
    "from sabat.sbt_core import  fluorescence_2p_gb\n",
    "from sabat.sbt_core import  fluorescence_2p_dl\n",
    "from sabat.sbt_core import  fluorescence_dl_2p\n",
    "from sabat.sbt_core import  fluorescence_dl\n",
    "from sabat.sbt_core import  photon_per_sample\n",
    "from sabat.sbt_core import  signal"
   ]
  },
  {
   "cell_type": "code",
   "execution_count": 8,
   "metadata": {},
   "outputs": [],
   "source": [
    "from sabat.sbt_types import  photon, molecule, GM, us, ucm2, ucm3, gp "
   ]
  },
  {
   "cell_type": "code",
   "execution_count": 9,
   "metadata": {},
   "outputs": [],
   "source": [
    "from sabat.sbt_core  import  FIB \n",
    "from sabat.sbt_core  import  FLUO3\n",
    "from sabat.sbt_core import  Setup"
   ]
  },
  {
   "cell_type": "code",
   "execution_count": 10,
   "metadata": {},
   "outputs": [],
   "source": [
    "GM3 = 1e-83 * cm**6*second**2"
   ]
  },
  {
   "cell_type": "code",
   "execution_count": 11,
   "metadata": {},
   "outputs": [],
   "source": [
    "def set_fonts(ax, fontsize=20):\n",
    "    for item in ([ax.title, ax.xaxis.label, ax.yaxis.label] +\n",
    "             ax.get_xticklabels() + ax.get_yticklabels()):\n",
    "        item.set_fontsize(fontsize)\n"
   ]
  },
  {
   "cell_type": "markdown",
   "metadata": {},
   "source": [
    "# Relevant papers\n",
    "https://www.osapublishing.org/boe/abstract.cfm?uri=boe-5-10-3427\n",
    "\n",
    "## Author\n",
    "\n",
    "- J.J. Gomez-Cadenas [NEXT](https://next.ific.uv.es/next/) \n",
    "\n",
    "#### Contact\n",
    "\n",
    "\n",
    "- [Email](mailto:jjgomezcadenas@dipc.org)\n",
    "\n",
    "\n"
   ]
  },
  {
   "cell_type": "markdown",
   "metadata": {},
   "source": [
    "## Multi Photon Absorption\n",
    "\n",
    "Multi-photon absorption (nPA) is the physical process by which n (n=2,3...) photons of identical or different frequencies are absorbed by a molecule. The energy difference between the involved lower and upper states of the molecule equals  the sum of the energies of the two photons absorbed. nPA is a high-order process, typically several orders of magnitude weaker than linear absorption at low light intensities. In MPA the transition rate depends on I^n, where I is the intensity. The non-linear nature of the process can make MPA dominate over linear absorption at high intensities.\n",
    "\n",
    "Two-photon absorption can lead to n-photon-excited fluorescence (nPEF) where the excited state produced by nPA decays by spontaneous emission to a lower energy state \n",
    "\n",
    "<img align=\"center\" src=\"img/TPEM.png\" width=\"500\" height=\"500\"></img>\n",
    "\n",
    "\n",
    "\n",
    "In n-photon excitation microscopy (nPEM) a pulsed laser beam (often infrared, since many common dyes absorb in the blue) is focused through an objective lens. The  laser pulse width is in the range of 100 femtoseconds and the repetition rate in the range of 100 MHz, allowing the high photon density and flux required for two photons absorption\n"
   ]
  },
  {
   "cell_type": "markdown",
   "metadata": {},
   "source": [
    "## Mathematical formulation\n",
    "\n",
    "The emitted fluorescence is:\n",
    "\n",
    "\\begin{equation}\n",
    "F^{(n)} (t) = \\frac{1}{n} \\frac{g_p^{(n)}}{(f \\tau)^{n-1}} \\frac{\\epsilon Q C \\sigma^{(n)} n_0 a^{(n)} A^{2n-4} P(t)^n}{8 \\pi^{3-n} \\lambda^{2n-3}} \n",
    "\\end{equation}\n",
    "\n",
    "Where $n$ is the number of photons absorbed, $g_p^{(n)}$ is the nth order temporal coherence of the excitation source, $a^{(n)}$ is a numerical constant, $f$ is the laser repetition rate (tipically 100 MHz), $\\tau$ is the laser pulse width FWHM (100 fs), $\\epsilon$ is the overall transmission efficiency of the setup, $Q$ is the quantum field of the molecule, $C$ the concentration, $\\sigma^{(n)}$ the cross section for n-photon absorption, $A$ the numerical aperture of the setup, and $P$ the power.\n",
    "\n",
    "For n = 2: \n",
    "\n",
    "- $\\sigma^{(2)} = 32.8 \\, 10^{-50} cm^4/(s\\, photon)$ for Fluorescein at 800 nm\n",
    "- $g_p^{(2)} = 0.664$\n",
    "- $a^{(2)} = 64$\n",
    "\n",
    "For n = 3:\n",
    "\n",
    "- $\\sigma^{(3)} = 16.3 \\, 10^{-84} cm^6/(s\\, photon)^2$ for Fluorescein at 1300 nm\n",
    "- $g_p^{(3)} = 0.51$\n",
    "- $a^{(2)} = 28.1$\n"
   ]
  },
  {
   "cell_type": "markdown",
   "metadata": {},
   "source": [
    "## 2PA and 3PA for FIB\n",
    "\n",
    "- Assume same order of magnitude cross sections than for Fluorescein"
   ]
  },
  {
   "cell_type": "code",
   "execution_count": 12,
   "metadata": {},
   "outputs": [
    {
     "data": {
      "text/plain": [
       "\n",
       "        FIB:\n",
       "        sigma2  (500 nm)  = 25.9 GM\n",
       "        sigma3  (500 nm)  =1.0e+00 GM3\n",
       "        Q                 =4.0e-01\n",
       "\n",
       "        "
      ]
     },
     "execution_count": 12,
     "metadata": {},
     "output_type": "execute_result"
    }
   ],
   "source": [
    "fib = FIB(Q=0.4)\n",
    "fib"
   ]
  },
  {
   "cell_type": "markdown",
   "metadata": {},
   "source": [
    "### Laser beam\n",
    "- Compare the 2PA (at 500 nm) with 3PA (at 800 nm)\n",
    "- Cross sections are just orders of magnitude."
   ]
  },
  {
   "cell_type": "code",
   "execution_count": 13,
   "metadata": {},
   "outputs": [
    {
     "data": {
      "text/plain": [
       "\n",
       "        Pulsed Laser:\n",
       "        wavelength                =5.0e+02 nm\n",
       "        photon energy             =2.5e+00 eV\n",
       "        power                     =5.0e+02 mW\n",
       "        repetition rate           =1.0e+02 kHz\n",
       "        pulse width               =1.0e+02 fs\n",
       "        energy per pulse          =5.0e+04 fJ\n",
       "        energy per second         =5.0e+02 mJ\n",
       "        photons per second        =1.3e+18 ph/second\n",
       "        "
      ]
     },
     "execution_count": 13,
     "metadata": {},
     "output_type": "execute_result"
    }
   ],
   "source": [
    "lb2 = PulsedLaser(lamda=500*nm, power=500*mW, f=100*MHZ, tau=100*femtosecond)  \n",
    "lb2"
   ]
  },
  {
   "cell_type": "code",
   "execution_count": 14,
   "metadata": {},
   "outputs": [
    {
     "data": {
      "image/png": "[encoded data removed]",
      "text/plain": [
       "<Figure size 864x432 with 1 Axes>"
      ]
     },
     "metadata": {},
     "output_type": "display_data"
    }
   ],
   "source": [
    "P  = np.linspace(1,1001) \n",
    "LB2 =[PulsedLaser(lamda=500*nm, power=p*mW, f=100*MHZ, tau=100*femtosecond) for p in P ]\n",
    "FF2 =np.array([lb.n_photons() for lb in LB2])\n",
    "\n",
    "fig = plt.figure(figsize=(12,6))\n",
    "ax      = fig.add_subplot(1, 1, 1)\n",
    "\n",
    "set_fonts(ax, fontsize=20)\n",
    "    \n",
    "plt.loglog(P, FF2/us, linewidth=3)\n",
    "plt.xlabel(r\"power (mW)\")\n",
    "plt.ylabel(\"I (photons/second)\")\n",
    "plt.grid(True)"
   ]
  },
  {
   "cell_type": "code",
   "execution_count": null,
   "metadata": {},
   "outputs": [],
   "source": []
  },
  {
   "cell_type": "code",
   "execution_count": 15,
   "metadata": {},
   "outputs": [
    {
     "data": {
      "text/plain": [
       "\n",
       "        Pulsed Laser:\n",
       "        wavelength                =7.5e+02 nm\n",
       "        photon energy             =1.7e+00 eV\n",
       "        power                     =3.0e+03 mW\n",
       "        repetition rate           =1.0e+02 kHz\n",
       "        pulse width               =1.0e+02 fs\n",
       "        energy per pulse          =3.0e+05 fJ\n",
       "        energy per second         =3.0e+03 mJ\n",
       "        photons per second        =1.1e+19 ph/second\n",
       "        "
      ]
     },
     "execution_count": 15,
     "metadata": {},
     "output_type": "execute_result"
    }
   ],
   "source": [
    "lb3 = PulsedLaser(lamda=750*nm, power=3000*mW, f=100*MHZ, tau=100*femtosecond)  \n",
    "lb3"
   ]
  },
  {
   "cell_type": "markdown",
   "metadata": {},
   "source": [
    "### Microscope: define first a microscope with transmission = 1"
   ]
  },
  {
   "cell_type": "code",
   "execution_count": 16,
   "metadata": {},
   "outputs": [
    {
     "name": "stdout",
     "output_type": "stream",
     "text": [
      "\n",
      "        name                 = Ideal\n",
      "        NA                   = 1.4e+00\n",
      "        M                    = 1.0e+02\n",
      "        eff dichroic         = 1.00e+00\n",
      "        eff filter           = 1.00e+00\n",
      "        eff PMT              = 1.00e+00\n",
      "        Optical transmission = 5.00e-01\n",
      "        Filter  transmission = 1.00e+00\n",
      "        Total transmission   = 5.00e-01\n",
      "        \n"
     ]
    }
   ],
   "source": [
    "mci = Microscope(name='Ideal', numerical_aperture=1.4, magnification=100,  \n",
    "                eff_PMT = 1, eff_dichroic = 1, eff_filter = 1) \n",
    "print(mci)"
   ]
  },
  {
   "cell_type": "markdown",
   "metadata": {},
   "source": [
    "### And now a realistic microscope"
   ]
  },
  {
   "cell_type": "code",
   "execution_count": 17,
   "metadata": {},
   "outputs": [
    {
     "name": "stdout",
     "output_type": "stream",
     "text": [
      "\n",
      "        name                 = Espinardo\n",
      "        NA                   = 5.0e-01\n",
      "        M                    = 2.0e+01\n",
      "        eff dichroic         = 8.50e-01\n",
      "        eff filter           = 8.00e-01\n",
      "        eff PMT              = 1.00e-01\n",
      "        Optical transmission = 9.19e-02\n",
      "        Filter  transmission = 6.80e-01\n",
      "        Total transmission   = 4.25e-03\n",
      "        \n"
     ]
    }
   ],
   "source": [
    "mc = Microscope(name='Espinardo', numerical_aperture=0.5, magnification=20,  \n",
    "                eff_PMT = 0.1, eff_dichroic = 0.85, eff_filter = 0.8) \n",
    "print(mc)"
   ]
  },
  {
   "cell_type": "markdown",
   "metadata": {},
   "source": [
    "### FOV at diffraction limit Ideal microscope. "
   ]
  },
  {
   "cell_type": "code",
   "execution_count": 24,
   "metadata": {},
   "outputs": [
    {
     "name": "stdout",
     "output_type": "stream",
     "text": [
      " diffraction limit for 500 nm = 0.2178571428571429\n",
      " diffraction limit for 750 nm = 0.32678571428571435\n"
     ]
    }
   ],
   "source": [
    "dl2 = diffraction_limit(lb2, mci)\n",
    "dl3 = diffraction_limit(lb3, mci)\n",
    "print(f' diffraction limit for 500 nm = {dl2/micron}')\n",
    "print(f' diffraction limit for 750 nm = {dl3/micron}')"
   ]
  },
  {
   "cell_type": "code",
   "execution_count": 26,
   "metadata": {},
   "outputs": [
    {
     "data": {
      "text/plain": [
       "\n",
       "        FOV; d = 2.2e-04 mm; r = 1.1e-04 mm; z = 4.4e-04 mm;\n",
       "        area = 3.7e-08 mm2 volume = 1.6e-11 mm3\n",
       "        "
      ]
     },
     "execution_count": 26,
     "metadata": {},
     "output_type": "execute_result"
    }
   ],
   "source": [
    "fov= CircularFoV(d = dl2, z= 2 * dl2)\n",
    "fov"
   ]
  },
  {
   "cell_type": "markdown",
   "metadata": {},
   "source": [
    "### Density of photons in that area"
   ]
  },
  {
   "cell_type": "code",
   "execution_count": 27,
   "metadata": {},
   "outputs": [
    {
     "name": "stdout",
     "output_type": "stream",
     "text": [
      "photon density = 3.4e+27 photons/(second cm2)\n"
     ]
    }
   ],
   "source": [
    "I = photon_density(lb2, fov)\n",
    "print(f'photon density = {I/(us*ucm2):5.1e} photons/(second cm2)')"
   ]
  },
  {
   "cell_type": "code",
   "execution_count": 28,
   "metadata": {},
   "outputs": [
    {
     "name": "stdout",
     "output_type": "stream",
     "text": [
      "photon density per pulse= 3.4e+31 photons/(second cm2)\n"
     ]
    }
   ],
   "source": [
    "print(f'photon density per pulse= {I/lb2.tau/(us*ucm2):5.1e} photons/(second cm2)')"
   ]
  },
  {
   "cell_type": "code",
   "execution_count": 128,
   "metadata": {},
   "outputs": [
    {
     "data": {
      "text/plain": [
       "9.999999999999994e-15"
      ]
     },
     "execution_count": 128,
     "metadata": {},
     "output_type": "execute_result"
    }
   ],
   "source": [
    "GM = 1e-50 * cm2*cm2*second / (photon * molecule)\n",
    "uml = nm**4 * 1e-8 * second\n",
    "GM/uml"
   ]
  },
  {
   "cell_type": "markdown",
   "metadata": {},
   "source": [
    "### FOV realistic microscope"
   ]
  },
  {
   "cell_type": "code",
   "execution_count": 129,
   "metadata": {},
   "outputs": [
    {
     "data": {
      "text/plain": [
       "3.37578090601872e+27"
      ]
     },
     "execution_count": 129,
     "metadata": {},
     "output_type": "execute_result"
    }
   ],
   "source": [
    "ui = nm**2 * 1e-8 * second\n",
    "I/ui"
   ]
  },
  {
   "cell_type": "code",
   "execution_count": 29,
   "metadata": {},
   "outputs": [
    {
     "name": "stdout",
     "output_type": "stream",
     "text": [
      " diffraction limit for 500 nm = 0.6100000000000001\n",
      " diffraction limit for 750 nm = 0.9150000000000001\n"
     ]
    }
   ],
   "source": [
    "rdl2 = diffraction_limit(lb2, mc)\n",
    "rdl3 = diffraction_limit(lb3, mc)\n",
    "print(f' diffraction limit for 500 nm = {rdl2/micron}')\n",
    "print(f' diffraction limit for 750 nm = {rdl3/micron}')"
   ]
  },
  {
   "cell_type": "code",
   "execution_count": null,
   "metadata": {},
   "outputs": [],
   "source": []
  },
  {
   "cell_type": "code",
   "execution_count": 30,
   "metadata": {},
   "outputs": [
    {
     "data": {
      "text/plain": [
       "\n",
       "        FOV; d = 6.1e-04 mm; r = 3.1e-04 mm; z = 1.2e-03 mm;\n",
       "        area = 2.9e-07 mm2 volume = 3.6e-10 mm3\n",
       "        "
      ]
     },
     "execution_count": 30,
     "metadata": {},
     "output_type": "execute_result"
    }
   ],
   "source": [
    "rfov= CircularFoV(d = rdl2, z= 2 * rdl2)\n",
    "rfov"
   ]
  },
  {
   "cell_type": "code",
   "execution_count": 31,
   "metadata": {},
   "outputs": [
    {
     "name": "stdout",
     "output_type": "stream",
     "text": [
      "photon density = 4.3e+26 photons/(second cm2)\n"
     ]
    }
   ],
   "source": [
    "rI = photon_density(lb2, rfov)\n",
    "print(f'photon density = {rI/(us*ucm2):5.1e} photons/(second cm2)')"
   ]
  },
  {
   "cell_type": "code",
   "execution_count": 32,
   "metadata": {},
   "outputs": [
    {
     "name": "stdout",
     "output_type": "stream",
     "text": [
      "photon density per pulse= 4.3e+30 photons/(second cm2)\n"
     ]
    }
   ],
   "source": [
    "print(f'photon density per pulse= {rI/lb2.tau/(us*ucm2):5.1e} photons/(second cm2)')"
   ]
  },
  {
   "cell_type": "code",
   "execution_count": null,
   "metadata": {},
   "outputs": [],
   "source": [
    "uns = 1 / ns\n",
    "unm"
   ]
  },
  {
   "cell_type": "code",
   "execution_count": null,
   "metadata": {},
   "outputs": [],
   "source": [
    "print(f'photon density per pulse= {rI/lb2.tau/(us*ucm2):5.1e} photons/(second cm2)')"
   ]
  },
  {
   "cell_type": "markdown",
   "metadata": {},
   "source": [
    "### Dye "
   ]
  },
  {
   "cell_type": "code",
   "execution_count": 36,
   "metadata": {},
   "outputs": [
    {
     "data": {
      "text/plain": [
       "\n",
       "        Dye name =f2p;\n",
       "        concentration = 1.7e-07 mole/l (1.0e+14 molecules/cm3);\n",
       "        V = 1.6e-17 l,\n",
       "        nof molecules = 1.6e+00\n",
       "        "
      ]
     },
     "execution_count": 36,
     "metadata": {},
     "output_type": "execute_result"
    }
   ],
   "source": [
    "ds = DyeSample(name='f2p',concentration = 1000/6 * nanomole/liter, volume= fov.volume())\n",
    "ds"
   ]
  },
  {
   "cell_type": "code",
   "execution_count": 37,
   "metadata": {},
   "outputs": [
    {
     "data": {
      "text/plain": [
       "\n",
       "        Dye name =rf2p;\n",
       "        concentration = 8.3e-09 mole/l (5.0e+12 molecules/cm3);\n",
       "        V = 3.6e-16 l,\n",
       "        nof molecules = 1.8e+00\n",
       "        "
      ]
     },
     "execution_count": 37,
     "metadata": {},
     "output_type": "execute_result"
    }
   ],
   "source": [
    "rds = DyeSample(name='rf2p',concentration = 50/6 * nanomole/liter, volume= rfov.volume())\n",
    "rds"
   ]
  },
  {
   "cell_type": "markdown",
   "metadata": {},
   "source": [
    "### Fluorescence"
   ]
  },
  {
   "cell_type": "markdown",
   "metadata": {},
   "source": [
    "#### 2p for 500 nm"
   ]
  },
  {
   "cell_type": "code",
   "execution_count": 48,
   "metadata": {},
   "outputs": [
    {
     "name": "stdout",
     "output_type": "stream",
     "text": [
      " number of photons absorbed =2\n",
      " Q = 0.4, sigma ( 500.00) =   25.92 GM\n",
      " rho = 1.0e+14 molecules/cm3\n",
      " f * tau = 1.0e-05\n",
      " photons/second = 1.3e+09\n",
      " t1 =  C * sigma * P^2 / lamda = 8.2e+05 s\n",
      " t2 = gp/(f tau) = 6.6e+04\n",
      " t3 = A * Q = 5.1e-01\n",
      " microscope T = 5.0e-01\n"
     ]
    }
   ],
   "source": [
    "F2 = fluorescence_dl(ds, fib, lb2, mci, n_photons = 2, verbose = True)"
   ]
  },
  {
   "cell_type": "code",
   "execution_count": 63,
   "metadata": {},
   "outputs": [
    {
     "name": "stdout",
     "output_type": "stream",
     "text": [
      "number of molecules in fov =1.6304102644387732\n",
      " Fluorescence = 1.4e+10 photons/second\n",
      " Fluorescence per molecule = 8.5e+09 photons/second\n"
     ]
    }
   ],
   "source": [
    "print(f'number of molecules in fov ={ds.n_molecules()}')\n",
    "print(f' Fluorescence = {F2/us:5.1e} photons/second')\n",
    "print(f' Fluorescence per molecule = {F2/ds.n_molecules()/us:5.1e} photons/second')"
   ]
  },
  {
   "cell_type": "code",
   "execution_count": 86,
   "metadata": {},
   "outputs": [
    {
     "name": "stdout",
     "output_type": "stream",
     "text": [
      " Fluorescence (saturates at na = 2) 5.0e+07 photons/second\n"
     ]
    }
   ],
   "source": [
    "F2s = fluorescence_dl_2p(ds, fib, lb2, mci, verbose = True)\n",
    "print(f' Fluorescence (saturates at na = 2) {F2s/us:5.1e} photons/second')"
   ]
  },
  {
   "cell_type": "markdown",
   "metadata": {},
   "source": [
    "#### 3p for 800 nm"
   ]
  },
  {
   "cell_type": "code",
   "execution_count": 87,
   "metadata": {},
   "outputs": [
    {
     "name": "stdout",
     "output_type": "stream",
     "text": [
      " number of photons absorbed =3\n",
      " Q = 0.4, sigma ( 750.00) =    1.00 GM\n",
      " rho = 1.0e+14 molecules/cm3\n",
      " f * tau = 1.0e-05\n",
      " photons/second = 1.1e+10\n",
      " t1 =  C * sigma * P^2 / lamda = 3.5e+00 s\n",
      " t2 = gp/(f tau) = 5.1e+09\n",
      " t3 = A * Q = 9.2e-01\n",
      " microscope T = 5.0e-01\n"
     ]
    }
   ],
   "source": [
    "F3 = fluorescence_dl(ds, fib, lb3, mci, n_photons = 3, verbose = True)"
   ]
  },
  {
   "cell_type": "code",
   "execution_count": 88,
   "metadata": {},
   "outputs": [
    {
     "name": "stdout",
     "output_type": "stream",
     "text": [
      " F3 = 8.1e+09 photons/second\n"
     ]
    }
   ],
   "source": [
    "print(f' F3 = {F3/us:5.1e} photons/second')"
   ]
  },
  {
   "cell_type": "markdown",
   "metadata": {},
   "source": [
    "### Fluorescence for an ideal microscope (T=1, NA=1.4) and \"standard\" setup (100 MHz, 100 fs)"
   ]
  },
  {
   "cell_type": "code",
   "execution_count": 65,
   "metadata": {},
   "outputs": [
    {
     "data": {
      "image/png": "[encoded data removed]",
      "text/plain": [
       "<Figure size 864x432 with 1 Axes>"
      ]
     },
     "metadata": {},
     "output_type": "display_data"
    }
   ],
   "source": [
    "fig = plt.figure(figsize=(12,6))\n",
    "ax      = fig.add_subplot(1, 1, 1)\n",
    "P  = np.linspace(1,1001) \n",
    "LB2 =[PulsedLaser(lamda=500*nm, power=p*mW, f=100*MHZ, tau=100*femtosecond) for p in P ]\n",
    "LB3 =[PulsedLaser(lamda=750*nm, power=p*mW, f=100*MHZ, tau=100*femtosecond) for p in P ]\n",
    "FF2 =np.array([fluorescence_dl(ds, fib, lb, mci, n_photons = 2) / ds.n_molecules() for lb in LB2])\n",
    "FF3 =np.array([fluorescence_dl(ds, fib, lb, mci, n_photons = 3) / ds.n_molecules() for lb in LB3])\n",
    "\n",
    "set_fonts(ax, fontsize=20)\n",
    "\n",
    "plt.loglog(P, FF2/us, linewidth=3)\n",
    "plt.loglog(P, FF3/us, linewidth=3)\n",
    "plt.xlabel(r\" power (mW)\")\n",
    "plt.ylabel(\" F (phtons/second)\")\n",
    "plt.grid(True)\n"
   ]
  },
  {
   "cell_type": "markdown",
   "metadata": {},
   "source": [
    "### Fluorescence for realistic microscope"
   ]
  },
  {
   "cell_type": "code",
   "execution_count": 66,
   "metadata": {},
   "outputs": [
    {
     "name": "stdout",
     "output_type": "stream",
     "text": [
      " number of photons absorbed =2\n",
      " Q = 0.4, sigma ( 500.00) =   25.92 GM\n",
      " rho = 5.0e+12 molecules/cm3\n",
      " f * tau = 1.0e-05\n",
      " photons/second = 1.3e+09\n",
      " t1 =  C * sigma * P^2 / lamda = 4.1e+04 s\n",
      " t2 = gp/(f tau) = 6.6e+04\n",
      " t3 = A * Q = 5.1e-01\n",
      " microscope T = 4.2e-03\n"
     ]
    }
   ],
   "source": [
    "rF2 = fluorescence_dl(rds, fib, lb2, mc, n_photons = 2, verbose = True)"
   ]
  },
  {
   "cell_type": "code",
   "execution_count": 67,
   "metadata": {},
   "outputs": [
    {
     "name": "stdout",
     "output_type": "stream",
     "text": [
      "number of molecules in fov =1.7895383062479977\n",
      " Fluorescence = 5.9e+06 photons/second\n",
      " Fluorescence per molecule = 3.3e+06 photons/second\n"
     ]
    }
   ],
   "source": [
    "print(f'number of molecules in fov ={rds.n_molecules()}')\n",
    "print(f' Fluorescence = {rF2/us:5.1e} photons/second')\n",
    "print(f' Fluorescence per molecule = {rF2/rds.n_molecules()/us:5.1e} photons/second')"
   ]
  },
  {
   "cell_type": "code",
   "execution_count": 69,
   "metadata": {},
   "outputs": [
    {
     "data": {
      "image/png": "[encoded data removed]",
      "text/plain": [
       "<Figure size 864x432 with 1 Axes>"
      ]
     },
     "metadata": {},
     "output_type": "display_data"
    }
   ],
   "source": [
    "fig = plt.figure(figsize=(12,6))\n",
    "ax      = fig.add_subplot(1, 1, 1)\n",
    "P  = np.linspace(1,3001) \n",
    "LB2 =[PulsedLaser(lamda=500*nm, power=p*mW, f=100*MHZ, tau=100*femtosecond) for p in P ]\n",
    "LB3 =[PulsedLaser(lamda=750*nm, power=p*mW, f=100*MHZ, tau=100*femtosecond) for p in P ]\n",
    "FF2 =np.array([fluorescence_dl(rds, fib, lb, mc, n_photons = 2) / rds.n_molecules() for lb in LB2])\n",
    "FF3 =np.array([fluorescence_dl(rds, fib, lb, mc, n_photons = 3) / rds.n_molecules() for lb in LB3])\n",
    "\n",
    "set_fonts(ax, fontsize=20)\n",
    "\n",
    "plt.loglog(P, FF2/us, linewidth=3)\n",
    "plt.loglog(P, FF3/us, linewidth=3)\n",
    "plt.xlabel(r\" power (mW)\")\n",
    "plt.ylabel(\" F (photons/second)\")\n",
    "plt.grid(True)\n"
   ]
  },
  {
   "cell_type": "markdown",
   "metadata": {},
   "source": [
    "### According to calculation a large number of fluorescence photons are produced even for small concentrations"
   ]
  },
  {
   "cell_type": "markdown",
   "metadata": {},
   "source": [
    "## Number of absorbed photons, per fluorophere per pulse\n",
    "\n",
    "http://www.aomf.ca/pdfs/Denk1990.pdf\n",
    "\n",
    "- equation 9 (in references)\n",
    "\n",
    "$$ na = \\frac{P^2 Q \\sigma_2}{\\tau f} (\\frac{A^2}{2 \\hbar c \\lambda})^2$$ (8)\n",
    "\n",
    "where:\n",
    "- Q is the quantum efficiency (0.9 for fluorescein)\n",
    "- $\\sigma_2$ is the two photon absorption cross section (in cm$^4$ s)\n",
    "- A is the numerical aperture\n",
    "- f is the frequency (e.g, 80 MHZ)\n",
    "- $\\tau$ is the FWHM of the pulse width (e.g, 400 fs)\n",
    "- P is the laser power\n",
    "- $\\lambda$ is the wavelength of the light\n",
    "\n",
    "- units are photons/fluorophene\n"
   ]
  },
  {
   "cell_type": "code",
   "execution_count": 72,
   "metadata": {},
   "outputs": [],
   "source": [
    "na = absorbed_photons_per_fluorophore_per_pulse_2p(fib, lb2, mci)"
   ]
  },
  {
   "cell_type": "code",
   "execution_count": 73,
   "metadata": {},
   "outputs": [
    {
     "name": "stdout",
     "output_type": "stream",
     "text": [
      " number of absorbed photons per fluorophore per pulse = 1.0e+03\n"
     ]
    }
   ],
   "source": [
    "print(f' number of absorbed photons per fluorophore per pulse = {na:5.1e}')"
   ]
  },
  {
   "cell_type": "markdown",
   "metadata": {},
   "source": [
    "### Thus the laser saturates the molecule in each pulse. The number of emitted photons is simply the number of pulses"
   ]
  },
  {
   "cell_type": "code",
   "execution_count": 43,
   "metadata": {},
   "outputs": [
    {
     "name": "stdout",
     "output_type": "stream",
     "text": [
      " number of produced photons per fluorophore per second = 1.0e+08\n"
     ]
    }
   ],
   "source": [
    "n_f = n_pulses_per_second = lb.f/hertz\n",
    "print(f' number of produced photons per fluorophore per second = {n_pulses_per_second:5.1e}')"
   ]
  },
  {
   "cell_type": "code",
   "execution_count": 74,
   "metadata": {},
   "outputs": [
    {
     "name": "stdout",
     "output_type": "stream",
     "text": [
      " number of absorbed photons per fluorophore per pulse = 1.6e+01\n"
     ]
    }
   ],
   "source": [
    "rna = absorbed_photons_per_fluorophore_per_pulse_2p(fib, lb2, mc)\n",
    "print(f' number of absorbed photons per fluorophore per pulse = {rna:5.1e}')"
   ]
  },
  {
   "cell_type": "markdown",
   "metadata": {},
   "source": [
    "### It saturates also for realistic microscope"
   ]
  },
  {
   "cell_type": "code",
   "execution_count": 93,
   "metadata": {},
   "outputs": [],
   "source": [
    "N = []\n",
    "P = np.linspace(50,200,10)\n",
    "for p in P:\n",
    "    lb = PulsedLaser(lamda=500*nm, power=p*mW, f=100*MHZ, tau=100*femtosecond)  \n",
    "    na = absorbed_photons_per_fluorophore_per_pulse_2p(fib, lb, mc)\n",
    "    N.append(na)"
   ]
  },
  {
   "cell_type": "code",
   "execution_count": 94,
   "metadata": {},
   "outputs": [
    {
     "data": {
      "text/plain": [
       "Text(0, 0.5, '# photons absorbed')"
      ]
     },
     "execution_count": 94,
     "metadata": {},
     "output_type": "execute_result"
    },
    {
     "data": {
      "image/png": "[encoded data removed]",
      "text/plain": [
       "<Figure size 864x432 with 1 Axes>"
      ]
     },
     "metadata": {},
     "output_type": "display_data"
    }
   ],
   "source": [
    "fig = plt.figure(figsize=(12,6))\n",
    "ax      = fig.add_subplot(1, 1, 1)\n",
    "\n",
    "set_fonts(ax, fontsize=20)\n",
    "plt.plot(P, N, linewidth=3)\n",
    "plt.xlabel('Power (mW)')\n",
    "plt.ylabel('# photons absorbed')"
   ]
  },
  {
   "cell_type": "code",
   "execution_count": 118,
   "metadata": {},
   "outputs": [
    {
     "data": {
      "image/png": "[encoded data removed]",
      "text/plain": [
       "<Figure size 864x432 with 1 Axes>"
      ]
     },
     "metadata": {},
     "output_type": "display_data"
    }
   ],
   "source": [
    "fig = plt.figure(figsize=(12,6))\n",
    "ax      = fig.add_subplot(1, 1, 1)\n",
    "P  = np.linspace(1,3001) \n",
    "LB2 =[PulsedLaser(lamda=500*nm, power=p*mW, f=100*MHZ, tau=100*femtosecond) for p in P ]\n",
    "LB3 =[PulsedLaser(lamda=750*nm, power=p*mW, f=100*MHZ, tau=100*femtosecond) for p in P ]\n",
    "FF2 =np.array([fluorescence_dl(rds, fib, lb, mc, n_photons = 2)  for lb in LB2])\n",
    "FF3 =np.array([fluorescence_dl(rds, fib, lb, mc, n_photons = 3)  for lb in LB3])\n",
    "FF4 =np.array([fluorescence_dl_2p(rds, fib, lb, mc)              for lb in LB2])\n",
    "\n",
    "set_fonts(ax, fontsize=20)\n",
    "\n",
    "plt.loglog(P, FF2/us, linewidth=3, label='2PA no saturation')\n",
    "plt.loglog(P, FF3/us, linewidth=3, label='3PA no saturation')\n",
    "plt.loglog(P, FF4/us, linewidth=3, label='2PA saturation')\n",
    "plt.xlabel(r\" power (mW)\")\n",
    "plt.ylabel(\" F (photons/second)\")\n",
    "plt.legend()\n",
    "plt.grid(True)"
   ]
  },
  {
   "cell_type": "markdown",
   "metadata": {},
   "source": [
    "### A better microscope is possible:"
   ]
  },
  {
   "cell_type": "code",
   "execution_count": 119,
   "metadata": {},
   "outputs": [
    {
     "name": "stdout",
     "output_type": "stream",
     "text": [
      "\n",
      "        name                 = NEXT\n",
      "        NA                   = 1.5e+00\n",
      "        M                    = 2.0e+01\n",
      "        eff dichroic         = 9.50e-01\n",
      "        eff filter           = 9.50e-01\n",
      "        eff PMT              = 5.00e-01\n",
      "        Optical transmission = 5.00e-01\n",
      "        Filter  transmission = 9.02e-01\n",
      "        Total transmission   = 2.04e-01\n",
      "        \n"
     ]
    }
   ],
   "source": [
    "mcr = Microscope(name='NEXT', numerical_aperture=1.5, magnification=20,  \n",
    "                eff_PMT = 0.5, eff_dichroic = 0.95, eff_filter = 0.95) \n",
    "print(mcr)"
   ]
  },
  {
   "cell_type": "code",
   "execution_count": 120,
   "metadata": {},
   "outputs": [
    {
     "name": "stdout",
     "output_type": "stream",
     "text": [
      " diffraction limit for 500 nm = 0.20333333333333337\n"
     ]
    },
    {
     "data": {
      "text/plain": [
       "\n",
       "        Dye name =pf2p;\n",
       "        concentration = 1.7e-07 mole/l (1.0e+14 molecules/cm3);\n",
       "        V = 1.3e-17 l,\n",
       "        nof molecules = 1.3e+00\n",
       "        "
      ]
     },
     "execution_count": 120,
     "metadata": {},
     "output_type": "execute_result"
    }
   ],
   "source": [
    "pdl2 = diffraction_limit(lb2, mcr)\n",
    "print(f' diffraction limit for 500 nm = {pdl2/micron}')\n",
    "pfov= CircularFoV(d = pdl2, z= 2 * pdl2)\n",
    "pds = DyeSample(name='pf2p',concentration = 1000/6 * nanomole/liter, volume= pfov.volume())\n",
    "pds"
   ]
  },
  {
   "cell_type": "code",
   "execution_count": 121,
   "metadata": {},
   "outputs": [
    {
     "data": {
      "image/png": "[encoded data removed]",
      "text/plain": [
       "<Figure size 864x432 with 1 Axes>"
      ]
     },
     "metadata": {},
     "output_type": "display_data"
    }
   ],
   "source": [
    "fig = plt.figure(figsize=(12,6))\n",
    "ax      = fig.add_subplot(1, 1, 1)\n",
    "P  = np.linspace(1,3001,200) \n",
    "LB2 =[PulsedLaser(lamda=500*nm, power=p*mW, f=100*MHZ, tau=100*femtosecond) for p in P ]\n",
    "LB3 =[PulsedLaser(lamda=750*nm, power=p*mW, f=100*MHZ, tau=100*femtosecond) for p in P ]\n",
    "FF2 =np.array([fluorescence_dl(pds, fib, lb, mcr, n_photons = 2)  for lb in LB2])\n",
    "FF3 =np.array([fluorescence_dl(pds, fib, lb, mcr, n_photons = 3)  for lb in LB3])\n",
    "FF4 =np.array([fluorescence_dl_2p(pds, fib, lb, mcr)              for lb in LB2])\n",
    "\n",
    "set_fonts(ax, fontsize=20)\n",
    "\n",
    "plt.loglog(P, FF2/us, linewidth=3, label='2PA no saturation')\n",
    "plt.loglog(P, FF3/us, linewidth=3, label='3PA no saturation')\n",
    "plt.loglog(P, FF4/us, linewidth=3, label='2PA saturation')\n",
    "plt.xlabel(r\" power (mW)\")\n",
    "plt.ylabel(\" F (photons/second)\")\n",
    "plt.legend()\n",
    "plt.grid(True)"
   ]
  },
  {
   "cell_type": "markdown",
   "metadata": {},
   "source": [
    "### Ideal microscope"
   ]
  },
  {
   "cell_type": "code",
   "execution_count": 122,
   "metadata": {},
   "outputs": [
    {
     "data": {
      "image/png": "[encoded data removed]",
      "text/plain": [
       "<Figure size 864x432 with 1 Axes>"
      ]
     },
     "metadata": {},
     "output_type": "display_data"
    }
   ],
   "source": [
    "fig = plt.figure(figsize=(12,6))\n",
    "ax      = fig.add_subplot(1, 1, 1)\n",
    "P  = np.linspace(1,3001,200) \n",
    "LB2 =[PulsedLaser(lamda=500*nm, power=p*mW, f=100*MHZ, tau=100*femtosecond) for p in P ]\n",
    "LB3 =[PulsedLaser(lamda=750*nm, power=p*mW, f=100*MHZ, tau=100*femtosecond) for p in P ]\n",
    "FF2 =np.array([fluorescence_dl(ds, fib, lb, mci, n_photons = 2)  for lb in LB2])\n",
    "FF3 =np.array([fluorescence_dl(ds, fib, lb, mci, n_photons = 3)  for lb in LB3])\n",
    "FF4 =np.array([fluorescence_dl_2p(ds, fib, lb, mci)              for lb in LB2])\n",
    "\n",
    "set_fonts(ax, fontsize=20)\n",
    "\n",
    "plt.loglog(P, FF2/us, linewidth=3, label='2PA no saturation')\n",
    "plt.loglog(P, FF3/us, linewidth=3, label='3PA no saturation')\n",
    "plt.loglog(P, FF4/us, linewidth=3, label='2PA saturation')\n",
    "plt.xlabel(r\" power (mW)\")\n",
    "plt.ylabel(\" F (photons/second)\")\n",
    "plt.legend()\n",
    "plt.grid(True)"
   ]
  },
  {
   "cell_type": "code",
   "execution_count": 124,
   "metadata": {},
   "outputs": [
    {
     "name": "stdout",
     "output_type": "stream",
     "text": [
      " 2PA no saturation. Max fluorescence: 5.0e+11\n",
      " 2PA    saturation. Max fluorescence: 5.0e+07\n",
      " 3PA no saturation. Max fluorescence: 8.1e+09\n"
     ]
    }
   ],
   "source": [
    "print(f' 2PA no saturation. Max fluorescence: {FF2[-1]/us:5.1e}')\n",
    "print(f' 2PA    saturation. Max fluorescence: {FF4[-1]/us:5.1e}')\n",
    "print(f' 3PA no saturation. Max fluorescence: {FF3[-1]/us:5.1e}')"
   ]
  },
  {
   "cell_type": "markdown",
   "metadata": {},
   "source": [
    "# Monolayer"
   ]
  },
  {
   "cell_type": "markdown",
   "metadata": {},
   "source": [
    "## Signal to noise\n",
    "\n",
    "- Consider a monolayer spot iluminated by the laser. The spot contains $m$ molecules, of which one molecule is chelated. \n",
    "- The number of photons emited by the chelated molecule as a response to the laser pulse will be distributed around $n_p$, where $n_p$ is computed from $n_a$ (equation 8), $n_f = n_a/2)$. Notice that if $n_a$ is larger than 2 (the number of photons that the molecule can absorbe per pulse) then $n_p = 1$. \n",
    "- The fluorescence emitted in a given time interval by the chelated molecules will be $n_f$. In a second, with a 100 MHz laser and in the absence of photobleaching, $n_f = 10^8$. \n",
    "- The remaining molecules ($m -1 \\sim m$, since $m$ is large) will emit (per molecule, in average) $n_f/\\alpha$, where $\\alpha$ is the ratio of fluorescence between chelated and unchelated molecules (e.g, $\\alpha  \\sim 100$ for FIB). The total fluorescence emitted by the background molecules will therefore be distributed around $n_b = \\frac{n_f \\,m}{\\alpha}$.\n",
    "- The signal to noise ration (SNR) is simply:\n",
    "\n",
    "$$SNR = \\frac{n_f}{\\sqrt{n_b}} = \\frac{n_f}{\\sqrt{\\frac{n_f \\, m}{\\alpha}}} = \\sqrt{\\frac{n_f\\, \\alpha}{m}} $$\n",
    "\n",
    "In terms of the number of detected photons we need to multiply by the detection efficiency $\\epsilon$. \n",
    "\n",
    "$$SNR =  \\sqrt{\\epsilon \\frac{n_f\\, \\alpha}{m}} $$"
   ]
  },
  {
   "cell_type": "code",
   "execution_count": 130,
   "metadata": {},
   "outputs": [
    {
     "name": "stdout",
     "output_type": "stream",
     "text": [
      " number of absorbed photons per fluorophore per pulse = 2.6e+00\n"
     ]
    }
   ],
   "source": [
    "print(f' number of absorbed photons per fluorophore per pulse = {na:5.1e}')"
   ]
  },
  {
   "cell_type": "markdown",
   "metadata": {},
   "source": [
    "#### This is exactly what is needed to saturate the fluorophore."
   ]
  },
  {
   "cell_type": "code",
   "execution_count": 131,
   "metadata": {},
   "outputs": [
    {
     "name": "stdout",
     "output_type": "stream",
     "text": [
      "power_to_saturate_fluorescence=1.5e+02 mW\n"
     ]
    }
   ],
   "source": [
    "power_to_saturate_fluorescence = (2/na) *lb.power\n",
    "print(f'power_to_saturate_fluorescence={power_to_saturate_fluorescence/mW:5.1e} mW')"
   ]
  },
  {
   "cell_type": "markdown",
   "metadata": {},
   "source": [
    "### The number of photons per fluorophere per second should then simply be equal to the number of pulses, sice we saturate"
   ]
  },
  {
   "cell_type": "code",
   "execution_count": 132,
   "metadata": {},
   "outputs": [
    {
     "name": "stdout",
     "output_type": "stream",
     "text": [
      " number of produced photons per fluorophore per second = 1.0e+08\n"
     ]
    }
   ],
   "source": [
    "n_f = n_pulses_per_second = lb.f/hertz\n",
    "print(f' number of produced photons per fluorophore per second = {n_pulses_per_second:5.1e}')"
   ]
  },
  {
   "cell_type": "markdown",
   "metadata": {},
   "source": [
    "## We can read the PMT at vr MHz"
   ]
  },
  {
   "cell_type": "code",
   "execution_count": 134,
   "metadata": {},
   "outputs": [],
   "source": [
    "def readout_frq(vr : float = 100 * MHZ)->float:\n",
    "    return 1./(vr/hertz)"
   ]
  },
  {
   "cell_type": "code",
   "execution_count": 135,
   "metadata": {},
   "outputs": [
    {
     "data": {
      "text/plain": [
       "1.0"
      ]
     },
     "execution_count": 135,
     "metadata": {},
     "output_type": "execute_result"
    }
   ],
   "source": [
    "readout_frq(vr  = 1 * hertz)"
   ]
  },
  {
   "cell_type": "markdown",
   "metadata": {},
   "source": [
    "#### alpha is the molecule signal to ratio"
   ]
  },
  {
   "cell_type": "code",
   "execution_count": 136,
   "metadata": {},
   "outputs": [],
   "source": [
    "alpha = 100 "
   ]
  },
  {
   "cell_type": "code",
   "execution_count": 138,
   "metadata": {},
   "outputs": [
    {
     "data": {
      "text/plain": [
       "\n",
       "        ns_ph = 1.0e+08 ; ns_det = 2.0e+07 ; nb_ph= 1.0e+06 ; nb_det = 2.0e+05\n",
       "        "
      ]
     },
     "execution_count": 138,
     "metadata": {},
     "output_type": "execute_result"
    }
   ],
   "source": [
    "nps = photon_per_sample(n_f, readout_frq(1 * hertz), alpha, mcr)\n",
    "nps"
   ]
  },
  {
   "cell_type": "markdown",
   "metadata": {},
   "source": [
    "### Assuming detection efficiency = 1"
   ]
  },
  {
   "cell_type": "code",
   "execution_count": 139,
   "metadata": {},
   "outputs": [
    {
     "data": {
      "text/plain": [
       "\n",
       "\n",
       "        x = 1.0e+00 mum; y = 1.0e+00 mum; z = 1.0e+00 nm; area = 1.0e+00 mum2 volume = 1.0e-03 mum3\n",
       "        n_f               = 1.0e+08\n",
       "        n_b               = 1.0e+06\n",
       "        alpha (snr c/u)   = 1.0e+02\n",
       "        m (nof molecules) = 1.0e+06\n",
       "        n_f * m / alpha   = 1.0e+12\n",
       "        snr               = 1.0e+02\n",
       "        "
      ]
     },
     "execution_count": 139,
     "metadata": {},
     "output_type": "execute_result"
    }
   ],
   "source": [
    "ml = Monolayer(x= 1 * mum, y = 1 * mum, z = 1 * nm, nf = nps.ns_ph, alpha=alpha)\n",
    "ml"
   ]
  },
  {
   "cell_type": "markdown",
   "metadata": {},
   "source": [
    "### Taking into account the detection efficiency"
   ]
  },
  {
   "cell_type": "code",
   "execution_count": 141,
   "metadata": {},
   "outputs": [
    {
     "data": {
      "text/plain": [
       "\n",
       "\n",
       "        x = 1.0e+00 mum; y = 1.0e+00 mum; z = 1.0e+00 nm; area = 1.0e+00 mum2 volume = 1.0e-03 mum3\n",
       "        n_f               = 2.0e+07\n",
       "        n_b               = 2.0e+05\n",
       "        alpha (snr c/u)   = 1.0e+02\n",
       "        m (nof molecules) = 1.0e+06\n",
       "        n_f * m / alpha   = 2.0e+11\n",
       "        snr               = 4.5e+01\n",
       "        "
      ]
     },
     "execution_count": 141,
     "metadata": {},
     "output_type": "execute_result"
    }
   ],
   "source": [
    "ml = Monolayer(x= 1 * mum, y = 1 * mum, z = 1 * nm, nf = nps.ns_det, alpha=alpha)\n",
    "ml"
   ]
  },
  {
   "cell_type": "markdown",
   "metadata": {},
   "source": [
    "### Statistical test"
   ]
  },
  {
   "cell_type": "code",
   "execution_count": 40,
   "metadata": {},
   "outputs": [
    {
     "name": "stdout",
     "output_type": "stream",
     "text": [
      "run 1000 experiments in 25.546162843704224 seconds\n"
     ]
    },
    {
     "data": {
      "text/plain": [
       "(array([  2.,   5.,  47., 130., 252., 298., 183.,  67.,  15.,   1.]),\n",
       " array([11555976.55586243, 11811814.79977875, 12067653.04369507,\n",
       "        12323491.28761139, 12579329.53152771, 12835167.77544403,\n",
       "        13091006.01936035, 13346844.26327667, 13602682.50719299,\n",
       "        13858520.75110931, 14114358.99502563]),\n",
       " <a list of 10 Patch objects>)"
      ]
     },
     "execution_count": 40,
     "metadata": {},
     "output_type": "execute_result"
    },
    {
     "data": {
      "image/png": "[encoded data removed]",
      "text/plain": [
       "<Figure size 432x288 with 1 Axes>"
      ]
     },
     "metadata": {},
     "output_type": "display_data"
    }
   ],
   "source": [
    "n  = int(1e+3)\n",
    "t0 = time.time()\n",
    "N = [ml.nsignal() for i in range(n)]\n",
    "t1 = time.time()\n",
    "print(f'run {n} experiments in {t1-t0} seconds')\n",
    "plt.hist(N, bins=10)"
   ]
  },
  {
   "cell_type": "code",
   "execution_count": 41,
   "metadata": {},
   "outputs": [
    {
     "data": {
      "text/plain": [
       "38.080677590803944"
      ]
     },
     "execution_count": 41,
     "metadata": {},
     "output_type": "execute_result"
    }
   ],
   "source": [
    "np.average(N) / np.std(N)"
   ]
  },
  {
   "cell_type": "code",
   "execution_count": 42,
   "metadata": {},
   "outputs": [
    {
     "name": "stdout",
     "output_type": "stream",
     "text": [
      "run 1000 experiments in 25.00779700279236 seconds\n"
     ]
    }
   ],
   "source": [
    "n  = int(1e+3)\n",
    "t0 = time.time()\n",
    "N  = signal(ml, n_exp = n)\n",
    "t1 = time.time()\n",
    "print(f'run {n} experiments in {t1-t0} seconds')"
   ]
  },
  {
   "cell_type": "code",
   "execution_count": 43,
   "metadata": {},
   "outputs": [
    {
     "data": {
      "text/plain": [
       "(array([  5.,  19.,  46., 129., 241., 245., 185.,  96.,  30.,   4.]),\n",
       " array([0.90209252, 0.9207116 , 0.93933067, 0.95794975, 0.97656882,\n",
       "        0.9951879 , 1.01380698, 1.03242605, 1.05104513, 1.0696642 ,\n",
       "        1.08828328]),\n",
       " <a list of 10 Patch objects>)"
      ]
     },
     "execution_count": 43,
     "metadata": {},
     "output_type": "execute_result"
    },
    {
     "data": {
      "image/png": "[encoded data removed]",
      "text/plain": [
       "<Figure size 432x288 with 1 Axes>"
      ]
     },
     "metadata": {},
     "output_type": "display_data"
    }
   ],
   "source": [
    "plt.hist(N, bins=10)"
   ]
  },
  {
   "cell_type": "code",
   "execution_count": 44,
   "metadata": {},
   "outputs": [
    {
     "data": {
      "text/plain": [
       "34.8021511643825"
      ]
     },
     "execution_count": 44,
     "metadata": {},
     "output_type": "execute_result"
    }
   ],
   "source": [
    "np.average(N) / np.std(N)"
   ]
  },
  {
   "cell_type": "markdown",
   "metadata": {},
   "source": [
    "### In 100 ms"
   ]
  },
  {
   "cell_type": "code",
   "execution_count": 142,
   "metadata": {},
   "outputs": [
    {
     "data": {
      "text/plain": [
       "\n",
       "\n",
       "        x = 1.0e+00 mum; y = 1.0e+00 mum; z = 1.0e+00 nm; area = 1.0e+00 mum2 volume = 1.0e-03 mum3\n",
       "        n_f               = 2.0e+06\n",
       "        n_b               = 2.0e+04\n",
       "        alpha (snr c/u)   = 1.0e+02\n",
       "        m (nof molecules) = 1.0e+06\n",
       "        n_f * m / alpha   = 2.0e+10\n",
       "        snr               = 1.4e+01\n",
       "        "
      ]
     },
     "execution_count": 142,
     "metadata": {},
     "output_type": "execute_result"
    }
   ],
   "source": [
    "ml = Monolayer(x= 1 * mum, y = 1 * mum, z = 1 * nm, nf = nps.ns_det/10, alpha=alpha)\n",
    "ml"
   ]
  },
  {
   "cell_type": "markdown",
   "metadata": {},
   "source": [
    "### In 10 ms"
   ]
  },
  {
   "cell_type": "code",
   "execution_count": 143,
   "metadata": {},
   "outputs": [
    {
     "data": {
      "text/plain": [
       "\n",
       "\n",
       "        x = 1.0e+00 mum; y = 1.0e+00 mum; z = 1.0e+00 nm; area = 1.0e+00 mum2 volume = 1.0e-03 mum3\n",
       "        n_f               = 2.0e+05\n",
       "        n_b               = 2.0e+03\n",
       "        alpha (snr c/u)   = 1.0e+02\n",
       "        m (nof molecules) = 1.0e+06\n",
       "        n_f * m / alpha   = 2.0e+09\n",
       "        snr               = 4.5e+00\n",
       "        "
      ]
     },
     "execution_count": 143,
     "metadata": {},
     "output_type": "execute_result"
    }
   ],
   "source": [
    "ml = Monolayer(x= 1 * mum, y = 1 * mum, z = 1 * nm, nf = nps.ns_det/100, alpha=alpha)\n",
    "ml"
   ]
  },
  {
   "cell_type": "markdown",
   "metadata": {},
   "source": [
    "#### Thus one could get to 10 ms steps with a 100 MHz beam and in the absence of photobleaching. Ways to improve:\n",
    "- Use a GHz laser (feasible).\n",
    "- Use plasmonic amplification. "
   ]
  },
  {
   "cell_type": "markdown",
   "metadata": {},
   "source": [
    "#### Photobleaching\n",
    "- Photobleaching (PB) will burn the molecule if it emits more than a given number of photons. \n",
    "- It appears that with 10^5 photons is possible to identify the molecule. Thus if PB is below that range, we are OK. \n",
    "- Notice that all molecules emit, so if PB occurs at low values of light emmission the scan would burn the target.\n",
    "- PB for fluorescein occurs at 360,000 photons in deoxygenated environment.\n",
    "- The FIB molecule will work in dry medium, with very small amounts of oxygen. The feasibility of the experiment depends of a PB level being sufficiently low, but that appears reasonable given the PB level of Fluorescein. \n",
    "- Alternatively plasmonic amplification could amplify the signal and avoid reaching PB criticality."
   ]
  },
  {
   "cell_type": "markdown",
   "metadata": {},
   "source": [
    "## Scanning time\n",
    "\n",
    "- In a monolayer molecules will be packed at 1 nm separation. The ML itself will be 1 nm thick.\n",
    "- Assume that the beam will illuminate a region of 1 mu2. \n",
    "- Then, if the mirror speed can be tuned to 1 khz, one could cover 1E+3 points per second. \n",
    "- Assuming that 1 ms exposure is enough, one can use an array of beams to cover the transverse coordinate.\n",
    "- Using 20 beams, one needs 50 seconds to cover the 1 mm2 sample, which appears reasonable!\n",
    "- If each point takes longer (e.g, above, 10 ms), one could still be OK (500 s scan is less than 10 minutes). "
   ]
  },
  {
   "cell_type": "markdown",
   "metadata": {},
   "source": [
    "# What about Single Photon Absorption (SPA)?\n",
    "\n",
    "- One needs a fs  pulsed laser, rather than a CW laser. Otherwise the excess power (even more at 250 nm) will destroy the molecule. \n",
    "- No such lasers available for excitation in the UV (e.g, 250 nm)\n",
    "- Not obvious how to focus SPA (can't use TIRF in dry medium).\n",
    "- TPA seems preferred!"
   ]
  },
  {
   "cell_type": "code",
   "execution_count": 144,
   "metadata": {},
   "outputs": [
    {
     "data": {
      "text/plain": [
       "\n",
       "        Molecule name =Fluorescein; cross section = 3.0e-16 cm2; Q =   0.9\n",
       "        "
      ]
     },
     "execution_count": 144,
     "metadata": {},
     "output_type": "execute_result"
    }
   ],
   "source": [
    "fl = Molecule(name = 'Fluorescein', sigma=3E-16 * cm2, Q=0.9)\n",
    "fl"
   ]
  },
  {
   "cell_type": "code",
   "execution_count": 145,
   "metadata": {},
   "outputs": [
    {
     "data": {
      "text/plain": [
       "\n",
       "        Laser:\n",
       "        wavelength                =4.9e+02 nm\n",
       "        photon energy             =2.5e+00 eV\n",
       "        power                     =1.0e+00 mW\n",
       "        energy per second         =1.0e+00 mJ\n",
       "        photons per second        =2.5e+15 ph/second\n",
       "        "
      ]
     },
     "execution_count": 145,
     "metadata": {},
     "output_type": "execute_result"
    }
   ],
   "source": [
    "lb = Laser(lamda=488*nm, power=1 * mW)  \n",
    "lb"
   ]
  },
  {
   "cell_type": "code",
   "execution_count": 146,
   "metadata": {},
   "outputs": [
    {
     "name": "stdout",
     "output_type": "stream",
     "text": [
      "\n",
      "        name                 = UTA\n",
      "        NA                   = 1.0e+00\n",
      "        M                    = 2.0e+01\n",
      "        eff dichroic         = 9.50e-01\n",
      "        eff filter           = 9.50e-01\n",
      "        eff PMT              = 5.00e-01\n",
      "        Optical transmission = 5.00e-01\n",
      "        Filter  transmission = 9.02e-01\n",
      "        Total transmission   = 2.04e-01\n",
      "        \n"
     ]
    }
   ],
   "source": [
    "mc = Microscope(name='UTA', numerical_aperture=1.0, magnification=20,  \n",
    "                eff_PMT = 0.5, eff_dichroic = 0.95, eff_filter = 0.95) \n",
    "print(mc)"
   ]
  },
  {
   "cell_type": "code",
   "execution_count": 147,
   "metadata": {},
   "outputs": [
    {
     "data": {
      "text/plain": [
       "\n",
       "        FOV; d = 2.0e-04 mm; r = 1.0e-04 mm; z = 4.1e-04 mm;\n",
       "        area = 3.2e-08 mm2 volume = 1.3e-11 mm3\n",
       "        "
      ]
     },
     "execution_count": 147,
     "metadata": {},
     "output_type": "execute_result"
    }
   ],
   "source": [
    "pfov"
   ]
  },
  {
   "cell_type": "code",
   "execution_count": 148,
   "metadata": {},
   "outputs": [
    {
     "data": {
      "text/plain": [
       "\n",
       "        Dye name =pf2p;\n",
       "        concentration = 1.7e-07 mole/l (1.0e+14 molecules/cm3);\n",
       "        V = 1.3e-17 l,\n",
       "        nof molecules = 1.3e+00\n",
       "        "
      ]
     },
     "execution_count": 148,
     "metadata": {},
     "output_type": "execute_result"
    }
   ],
   "source": [
    "pds"
   ]
  },
  {
   "cell_type": "code",
   "execution_count": 149,
   "metadata": {},
   "outputs": [
    {
     "name": "stdout",
     "output_type": "stream",
     "text": [
      "photon density = 7.6e+24 photons/(second cm2)\n"
     ]
    }
   ],
   "source": [
    "I = photon_density(lb, pfov)\n",
    "print(f'photon density = {I/(us*ucm2):5.1e} photons/(second cm2)')"
   ]
  },
  {
   "cell_type": "code",
   "execution_count": 150,
   "metadata": {},
   "outputs": [
    {
     "name": "stdout",
     "output_type": "stream",
     "text": [
      "Fluorescence per molecule and second = 2.0e+09\n"
     ]
    }
   ],
   "source": [
    "f = fluorescence_per_molecule(fl, I)\n",
    "print(f'Fluorescence per molecule and second = {f/us:5.1e}')"
   ]
  },
  {
   "cell_type": "markdown",
   "metadata": {},
   "source": [
    "### Calculation with FIB"
   ]
  },
  {
   "cell_type": "code",
   "execution_count": 47,
   "metadata": {},
   "outputs": [],
   "source": [
    "readout_f =0.3\n",
    "alpha = 110\n",
    "n_f = 1e+8"
   ]
  },
  {
   "cell_type": "code",
   "execution_count": 48,
   "metadata": {},
   "outputs": [
    {
     "data": {
      "text/plain": [
       "\n",
       "        ns_ph = 3.0e+07 ; ns_det = 3.9e+06 ; nb_ph= 2.7e+05 ; nb_det = 3.5e+04\n",
       "        "
      ]
     },
     "execution_count": 48,
     "metadata": {},
     "output_type": "execute_result"
    }
   ],
   "source": [
    "nps = photon_per_sample(n_f, readout_f, alpha, mc)\n",
    "nps"
   ]
  },
  {
   "cell_type": "code",
   "execution_count": 49,
   "metadata": {},
   "outputs": [
    {
     "data": {
      "text/plain": [
       "\n",
       "\n",
       "        x = 1.0e+00 mum; y = 1.0e+00 mum; z = 1.0e+00 nm; area = 1.0e+00 mum2 volume = 1.0e-03 mum3\n",
       "        n_f               = 3.9e+06\n",
       "        n_b               = 3.5e+04\n",
       "        alpha (snr c/u)   = 1.1e+02\n",
       "        m (nof molecules) = 1.0e+06\n",
       "        n_f * m / alpha   = 3.5e+10\n",
       "        snr               = 2.1e+01\n",
       "        "
      ]
     },
     "execution_count": 49,
     "metadata": {},
     "output_type": "execute_result"
    }
   ],
   "source": [
    "ml = Monolayer(x= 1 * mum, y = 1 * mum, z = 1 * nm, nf = nps.ns_det, alpha=alpha)\n",
    "ml"
   ]
  },
  {
   "cell_type": "code",
   "execution_count": 50,
   "metadata": {},
   "outputs": [
    {
     "data": {
      "text/plain": [
       "\n",
       "\n",
       "        x = 1.0e+00 mum; y = 1.0e+00 mum; z = 1.0e+00 nm; area = 1.0e+00 mum2 volume = 1.0e-03 mum3\n",
       "        n_f               = 3.9e+05\n",
       "        n_b               = 3.5e+03\n",
       "        alpha (snr c/u)   = 1.1e+02\n",
       "        m (nof molecules) = 1.0e+06\n",
       "        n_f * m / alpha   = 3.5e+09\n",
       "        snr               = 6.6e+00\n",
       "        "
      ]
     },
     "execution_count": 50,
     "metadata": {},
     "output_type": "execute_result"
    }
   ],
   "source": [
    "ml = Monolayer(x= 1 * mum, y = 1 * mum, z = 1 * nm, nf = nps.ns_det/10, alpha=alpha)\n",
    "ml"
   ]
  },
  {
   "cell_type": "code",
   "execution_count": 51,
   "metadata": {},
   "outputs": [
    {
     "data": {
      "text/plain": [
       "\n",
       "\n",
       "        x = 1.0e+00 mum; y = 1.0e+00 mum; z = 1.0e+00 nm; area = 1.0e+00 mum2 volume = 1.0e-03 mum3\n",
       "        n_f               = 3.9e+04\n",
       "        n_b               = 3.5e+02\n",
       "        alpha (snr c/u)   = 1.1e+02\n",
       "        m (nof molecules) = 1.0e+06\n",
       "        n_f * m / alpha   = 3.5e+08\n",
       "        snr               = 2.1e+00\n",
       "        "
      ]
     },
     "execution_count": 51,
     "metadata": {},
     "output_type": "execute_result"
    }
   ],
   "source": [
    "ml = Monolayer(x= 1 * mum, y = 1 * mum, z = 1 * nm, nf = nps.ns_det/100, alpha=alpha)\n",
    "ml"
   ]
  },
  {
   "cell_type": "markdown",
   "metadata": {},
   "source": [
    "### With FIB we need 100 ms to achieve S/N = 6.6. "
   ]
  },
  {
   "cell_type": "markdown",
   "metadata": {},
   "source": [
    "### Summary\n",
    "- The molecule emits 1E+7 photons, but we can only use 30 % (to separate chelated and unchelated molecules) x 10 % (detection efficiency).\n",
    "- If photobleaching occurs at a lower level than 1e+7,the technique will not work.\n",
    "- Thus the challeges are: increase detection efficiency, increase molecular separation and design a molecule that doest no photobleach in dry atmosphere. \n",
    "- Alternatively we need to amplify the signal by plasmonic anthena, so that we reduce the amount of light that is absorbed by the molecule. "
   ]
  }
 ],
 "metadata": {
  "celltoolbar": "Slideshow",
  "kernelspec": {
   "display_name": "Python 3",
   "language": "python",
   "name": "python3"
  },
  "language_info": {
   "codemirror_mode": {
    "name": "ipython",
    "version": 3
   },
   "file_extension": ".py",
   "mimetype": "text/x-python",
   "name": "python",
   "nbconvert_exporter": "python",
   "pygments_lexer": "ipython3",
   "version": "3.7.1"
  },
  "widgets": {
   "state": {},
   "version": "1.0.0"
  }
 },
 "nbformat": 4,
 "nbformat_minor": 2
}
